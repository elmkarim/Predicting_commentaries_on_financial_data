{
 "cells": [
  {
   "cell_type": "markdown",
   "metadata": {},
   "source": [
    "# Brands and Categories in Commentaries file"
   ]
  },
  {
   "cell_type": "markdown",
   "metadata": {},
   "source": [
    "## Loading commentaries file and A/F file"
   ]
  },
  {
   "cell_type": "code",
   "execution_count": 1,
   "metadata": {},
   "outputs": [],
   "source": [
    "# Imports\n",
    "import numpy as np\n",
    "import pandas as pd\n",
    "from helper_save_load import load_excel_spreadsheet"
   ]
  },
  {
   "cell_type": "code",
   "execution_count": null,
   "metadata": {},
   "outputs": [],
   "source": [
    "# Load Forecast and Actual sheets\n",
    "dfc = load_excel_spreadsheet('./datasets/Commentaries dataset v2.xlsm', 'All')"
   ]
  },
  {
   "cell_type": "code",
   "execution_count": null,
   "metadata": {},
   "outputs": [],
   "source": [
    "#Import dataframes to pickle file (saved previously)\n",
    "\n",
    "from helper_save_load import load_from_pickle\n",
    "df_a, df_f, df_v = load_from_pickle(\"dataframes_Dollars.pickle\")\n",
    "del df_a, df_v"
   ]
  },
  {
   "cell_type": "code",
   "execution_count": null,
   "metadata": {},
   "outputs": [],
   "source": [
    "dfc.head(1)"
   ]
  },
  {
   "cell_type": "code",
   "execution_count": null,
   "metadata": {},
   "outputs": [],
   "source": [
    "df_f['Category'][0:5]"
   ]
  },
  {
   "cell_type": "code",
   "execution_count": null,
   "metadata": {},
   "outputs": [],
   "source": [
    "# df_f = df_v\n",
    "df_f['Brand'][0:5]"
   ]
  },
  {
   "cell_type": "code",
   "execution_count": null,
   "metadata": {},
   "outputs": [],
   "source": [
    "dfc['Category/ Brand'][0:5]"
   ]
  },
  {
   "cell_type": "code",
   "execution_count": 8,
   "metadata": {},
   "outputs": [],
   "source": [
    "#Categories and brands in A/F file\n",
    "categories_af = [category for category, values in df_f.groupby(['Category']).groups.items()]\n",
    "brands_af = [brand for brand, values in df_f.groupby(['Brand']).groups.items()]"
   ]
  },
  {
   "cell_type": "code",
   "execution_count": 9,
   "metadata": {},
   "outputs": [],
   "source": [
    "#Categories, brands and totals in Commentaries file\n",
    "categories_brands = [category for category, values in dfc.groupby(['Category/ Brand']).groups.items()]\n",
    "totals_c = [total for total in categories_brands if 'Total' in total]\n",
    "categories_c = [category for category in categories_brands \n",
    "                if (category.upper() == category) | (('exc' in category) & (category not in totals_c))]\n",
    "brands_c = [brand for brand in categories_brands if (brand not in categories_c) & (brand not in totals_c)]"
   ]
  },
  {
   "cell_type": "markdown",
   "metadata": {},
   "source": [
    "## Applying fuzzy search to match categories and brands in both files"
   ]
  },
  {
   "cell_type": "code",
   "execution_count": 98,
   "metadata": {},
   "outputs": [
    {
     "name": "stdout",
     "output_type": "stream",
     "text": [
      "62\n",
      "100\n"
     ]
    }
   ],
   "source": [
    "#Ucomment if python-Levenshtein not installed\n",
    "#!pip install python-Levenshtein\n",
    "#!pip install fuzzywuzzy\n",
    "from fuzzywuzzy import fuzz\n",
    "#Example\n",
    "print(fuzz.ratio('Deluxe Room, 1 King Bed', 'Deluxe King Room'))\n",
    "print(fuzz.token_set_ratio('Deluxe Room, 1 King Bed', 'Deluxe King Room'))"
   ]
  },
  {
   "cell_type": "code",
   "execution_count": 100,
   "metadata": {},
   "outputs": [
    {
     "name": "stdout",
     "output_type": "stream",
     "text": [
      "HABL\n"
     ]
    },
    {
     "data": {
      "text/plain": [
       "[]"
      ]
     },
     "execution_count": 100,
     "metadata": {},
     "output_type": "execute_result"
    }
   ],
   "source": [
    "def closest_label(target, labels_list, topn, threshold):\n",
    "    import operator\n",
    "    mydict = [(m, fuzz.token_set_ratio(target,m)) for m in labels_list]\n",
    "    sorted_tuples = sorted(mydict, key=operator.itemgetter(1), reverse=True)\n",
    "    result = [(item, score) for item, score in sorted_tuples if score>=threshold]\n",
    "    return(result[0:topn])\n",
    "\n",
    "def closet_label_list(items, labels_list, topn, threshold):\n",
    "    for item in items:\n",
    "        result = [m for m,s in closest_label(item, labels_list, topn, threshold)]\n",
    "        output = item + '\\t'\n",
    "        output = output + '\\t'.join(result)\n",
    "        print(output)\n",
    "\n",
    "\n",
    "target = categories_c[7]\n",
    "labels_list = categories_af\n",
    "print(target)\n",
    "closest_label(target, labels_list, 3, 30)"
   ]
  },
  {
   "cell_type": "code",
   "execution_count": null,
   "metadata": {},
   "outputs": [],
   "source": [
    "closet_label_list(categories_c, categories_af, 3, 50)"
   ]
  },
  {
   "cell_type": "code",
   "execution_count": null,
   "metadata": {},
   "outputs": [],
   "source": [
    "closet_label_list(brands_c, brands_af, 5, 50)"
   ]
  },
  {
   "cell_type": "code",
   "execution_count": null,
   "metadata": {},
   "outputs": [],
   "source": [
    "totals_c2 = [word.replace('Total ', '') for word in totals_c]\n",
    "closet_label_list(totals_c2, categories_af, 3, 50)"
   ]
  },
  {
   "cell_type": "markdown",
   "metadata": {},
   "source": [
    "## Labelling commentaries by accurate brand names\n",
    "Further to the feedback of Rob (Nov 20, 2018), commentaries are associated to more accurate brand labels from the forecast/actuals dataset"
   ]
  },
  {
   "cell_type": "code",
   "execution_count": 19,
   "metadata": {},
   "outputs": [
    {
     "name": "stdout",
     "output_type": "stream",
     "text": [
      "Sheets in file:  ['Brands-processed', 'Brands', 'Categories', 'Totals']\n",
      "Data loaded from sheet: Brands-processed\n"
     ]
    }
   ],
   "source": [
    "# Load association between brands in commentaries file and A/F files (by Rob)\n",
    "dfb = load_excel_spreadsheet('./datasets/brands-categories-totals-updated.xlsx', 'Brands-processed')\n",
    "dfb.drop(['Search result 1', 'Search result 2', 'Search result 3'], axis=1, inplace=True)"
   ]
  },
  {
   "cell_type": "code",
   "execution_count": null,
   "metadata": {},
   "outputs": [],
   "source": [
    "dfb.head(2)"
   ]
  },
  {
   "cell_type": "code",
   "execution_count": 25,
   "metadata": {},
   "outputs": [],
   "source": [
    "dfb = dfb.rename(columns={'Brands in Commentaries file': 'Category/ Brand'})"
   ]
  },
  {
   "cell_type": "code",
   "execution_count": null,
   "metadata": {},
   "outputs": [],
   "source": [
    "#Label each comment with the correct brand (brands that are not associated to A/F file are ignored)\n",
    "dfbl = pd.merge(dfc, dfb, on='Category/ Brand')\n",
    "dfbl.sort_values(['Num'], ascending=True, inplace=True)  #Sort values by original order\n",
    "dfbl['Commentaries'].fillna('[NOC]', inplace=True)\n",
    "dfbl['Commentaries vs Y-1'].fillna('[NOC]', inplace=True)\n",
    "dfbl['Brand_2'].fillna('', inplace=True)\n",
    "dfbl['Brand_3'].fillna('', inplace=True)\n",
    "dfbl.drop(['Category', 'Brand'], axis=1, inplace=True)\n",
    "dfbl.head(10)"
   ]
  },
  {
   "cell_type": "code",
   "execution_count": 84,
   "metadata": {},
   "outputs": [],
   "source": [
    "#Save commentaries with brands dataframe to pickle file\n",
    "from helper_save_load import save_to_pickle\n",
    "save_to_pickle(\"commentaries_with_brands.pickle\", (dfbl))"
   ]
  },
  {
   "cell_type": "code",
   "execution_count": null,
   "metadata": {},
   "outputs": [],
   "source": [
    "#Comments containing the word driven\n",
    "dfdr = dfbl[dfbl['Commentaries'].str.lower().str.contains(\"driven\")]\n",
    "dfdr"
   ]
  },
  {
   "cell_type": "code",
   "execution_count": null,
   "metadata": {},
   "outputs": [],
   "source": []
  }
 ],
 "metadata": {
  "kernelspec": {
   "display_name": "Python 3",
   "language": "python",
   "name": "python3"
  },
  "language_info": {
   "codemirror_mode": {
    "name": "ipython",
    "version": 3
   },
   "file_extension": ".py",
   "mimetype": "text/x-python",
   "name": "python",
   "nbconvert_exporter": "python",
   "pygments_lexer": "ipython3",
   "version": "3.6.6"
  }
 },
 "nbformat": 4,
 "nbformat_minor": 2
}
