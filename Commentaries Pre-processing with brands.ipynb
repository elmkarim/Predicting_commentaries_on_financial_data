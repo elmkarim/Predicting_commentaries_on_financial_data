{
 "cells": [
  {
   "cell_type": "markdown",
   "metadata": {},
   "source": [
    "# Commentaries file pre-processing with brands"
   ]
  },
  {
   "cell_type": "markdown",
   "metadata": {},
   "source": [
    "## Preparing the data"
   ]
  },
  {
   "cell_type": "markdown",
   "metadata": {},
   "source": [
    "### Pre-processing commentaries"
   ]
  },
  {
   "cell_type": "code",
   "execution_count": 1,
   "metadata": {},
   "outputs": [],
   "source": [
    "# Imports\n",
    "import numpy as np\n",
    "import pandas as pd\n",
    "from helper_save_load import load_excel_spreadsheet"
   ]
  },
  {
   "cell_type": "code",
   "execution_count": 2,
   "metadata": {},
   "outputs": [],
   "source": [
    "# Load Forecast and Actual sheets\n",
    "#dfc = load_excel_spreadsheet('./datasets/Commentaries dataset v2.xlsm', 'All')\n",
    "\n",
    "\n",
    "#Import dataframes to pickle file (saved previously)\n",
    "\n",
    "from helper_save_load import load_from_pickle\n",
    "dfc = load_from_pickle(\"commentaries_with_brands.pickle\")"
   ]
  },
  {
   "cell_type": "code",
   "execution_count": null,
   "metadata": {},
   "outputs": [],
   "source": [
    "dfc.head(2)"
   ]
  },
  {
   "cell_type": "markdown",
   "metadata": {},
   "source": [
    "#### Formatting month names"
   ]
  },
  {
   "cell_type": "code",
   "execution_count": 4,
   "metadata": {},
   "outputs": [],
   "source": [
    "month_name=['Jan', 'Feb', 'Mar', 'Apr', 'May', 'Jun', 'Jul', 'Aug', 'Sep', 'Oct', 'Nov', 'Dec']\n",
    "def format_month(m):\n",
    "    ym = m.split('/')\n",
    "    return(month_name[int(ym[1])-1]+'_'+ym[0])\n",
    "dfc['Month_f'] = dfc['Month'].apply(format_month)"
   ]
  },
  {
   "cell_type": "code",
   "execution_count": null,
   "metadata": {},
   "outputs": [],
   "source": [
    "dfc.head(1)"
   ]
  },
  {
   "cell_type": "markdown",
   "metadata": {},
   "source": [
    "#### Cleaning commentaries\n",
    "- Removing punctuation, indesirable words or sentences and copy new comment to a new column\n"
   ]
  },
  {
   "cell_type": "code",
   "execution_count": null,
   "metadata": {},
   "outputs": [],
   "source": [
    "#Taking a sample of commentaries\n",
    "df_sample = dfc     #.loc[0:100,:]\n",
    "NotNull = df_sample['Commentaries'].notna()\n",
    "df_comments = df_sample[NotNull].loc[:,'Commentaries']\n",
    "df_comments.head(5)"
   ]
  },
  {
   "cell_type": "code",
   "execution_count": 107,
   "metadata": {},
   "outputs": [],
   "source": [
    "#Defining codes\n",
    "SOS = '[SOS]'\n",
    "EOS = '[EOS]'\n",
    "NOC = '[NOC]'\n",
    "MILLIONS_NUM = '[#M]'\n",
    "THOUSAND_NUM = '[#K]'\n",
    "NUMBER = '[#]'\n",
    "PERCENT = '[%]'"
   ]
  },
  {
   "cell_type": "code",
   "execution_count": 108,
   "metadata": {},
   "outputs": [],
   "source": [
    "#Adding space after +/-, deleting (,),: , deleting 'please see comments above', \n",
    "import re\n",
    "from nltk.stem import PorterStemmer\n",
    "\n",
    "ps = PorterStemmer()\n",
    "\n",
    "#Replace patterns of numbers by tokens\n",
    "resubs = [(r\"(\\$)?[0-9](\\.[0-9]+)?M\\b\", MILLIONS_NUM),\n",
    "         (r\"(\\$)?[0-9]+[Kk]\\b\", THOUSAND_NUM),\n",
    "         (r\"[0-9]+(\\.[0-9]+)?\\%\", PERCENT),\n",
    "         (r\"\\$[0-9]+(\\.[0-9]+)?\\b\", NUMBER)]\n",
    "\n",
    "raplacements = [('+ [#','+[#'), ('- [#','-[#'),\n",
    "                ('+','+'),\n",
    "                ('-','-'),\n",
    "                ('(',' '),\n",
    "                (')',' '),\n",
    "                (':',' '),\n",
    "                (',',' '),\n",
    "                ('.',' '),\n",
    "                (';',''),\n",
    "                ('\\n',' '),\n",
    "                ('0ml ','0 ml '), ('3ml ','3 ml '), ('4ml ','4 ml '), ('5ml ','5 ml '),\n",
    "                ('0g ','0 g '), ('3g ','3 g '), ('5g ','5 g '), ('6g ','6 g '),\n",
    "                ('liption','lipton'),\n",
    "                ('please see comments above', ''),\n",
    "                ('please see comments below', ''),\n",
    "                ('Please see comments above',''),\n",
    "                ('Please see comments below',''),\n",
    "               ]\n",
    "\n",
    "for i, comment in zip(df_comments.index,df_comments):\n",
    "    if (comment==NOC):\n",
    "        df_sample.loc[i,'Comment_w'] = NOC\n",
    "    else:\n",
    "        for r in resubs:\n",
    "            comment = re.sub(r[0],r[1], comment)\n",
    "        comment = comment.lower()\n",
    "        for r in raplacements:\n",
    "            comment = comment.replace(r[0],r[1])\n",
    "        result = re.split(' |/|:', comment)\n",
    "\n",
    "        result2 = [ps.stem(m) for m in result if m!='']\n",
    "        df_sample.loc[i,'Comment_w'] = SOS + ' ' + ' '.join(result2) + ' ' + EOS"
   ]
  },
  {
   "cell_type": "code",
   "execution_count": 109,
   "metadata": {},
   "outputs": [],
   "source": [
    "df_all_com = df_sample[NotNull].loc[:,'Comment_w']"
   ]
  },
  {
   "cell_type": "code",
   "execution_count": 110,
   "metadata": {},
   "outputs": [],
   "source": [
    "com_corpus = ' '.join(df_all_com.ravel()).split()"
   ]
  },
  {
   "cell_type": "code",
   "execution_count": null,
   "metadata": {},
   "outputs": [],
   "source": [
    "df_sample[NotNull].loc[0:190,['Commentaries', 'Comment_w']]"
   ]
  },
  {
   "cell_type": "code",
   "execution_count": null,
   "metadata": {},
   "outputs": [],
   "source": [
    "dfc.head(3)"
   ]
  },
  {
   "cell_type": "markdown",
   "metadata": {},
   "source": [
    "### Creating dictionnary"
   ]
  },
  {
   "cell_type": "code",
   "execution_count": 113,
   "metadata": {},
   "outputs": [
    {
     "data": {
      "text/plain": [
       "<torch._C.Generator at 0x1499f77ba10>"
      ]
     },
     "execution_count": 113,
     "metadata": {},
     "output_type": "execute_result"
    }
   ],
   "source": [
    "import torch\n",
    "import torch.nn as nn\n",
    "import torch.nn.functional as F\n",
    "import torch.optim as optim\n",
    "\n",
    "torch.manual_seed(1)"
   ]
  },
  {
   "cell_type": "code",
   "execution_count": 114,
   "metadata": {},
   "outputs": [
    {
     "name": "stdout",
     "output_type": "stream",
     "text": [
      "Size of vocab : 678\n",
      "Size of dictionary : 678\n"
     ]
    }
   ],
   "source": [
    "#Create vocabulary and dictionary\n",
    "vocab = set(com_corpus)\n",
    "word_to_ix = {word: i for i, word in enumerate(vocab)}\n",
    "ix_to_word = {i: word for i, word in enumerate(vocab)}\n",
    "print('Size of vocab :', len(vocab))\n",
    "print('Size of dictionary :', len(word_to_ix))\n",
    "\n",
    "# we should tokenize the input, but we will ignore that for now\n",
    "# build a list of tuples.  Each tuple is ([ word_i-2, word_i-1 ], target word)\n",
    "#trigrams = [([test_sentence[i], test_sentence[i + 1]], test_sentence[i + 2])\n",
    "#            for i in range(len(test_sentence) - 2)]"
   ]
  },
  {
   "cell_type": "code",
   "execution_count": null,
   "metadata": {},
   "outputs": [],
   "source": [
    "for v in sorted(vocab):\n",
    "    print (v)"
   ]
  },
  {
   "cell_type": "code",
   "execution_count": 116,
   "metadata": {},
   "outputs": [],
   "source": [
    "#Save dictionnary and commentaries dataframe to pickle file\n",
    "from helper_save_load import save_to_pickle\n",
    "save_to_pickle(\"commentaries.pickle\", (dfc, vocab, word_to_ix, ix_to_word))"
   ]
  },
  {
   "cell_type": "markdown",
   "metadata": {},
   "source": [
    "### Creating word embedding using pytorch"
   ]
  },
  {
   "cell_type": "code",
   "execution_count": 50,
   "metadata": {},
   "outputs": [
    {
     "name": "stdout",
     "output_type": "stream",
     "text": [
      "[NOC]\n",
      "\n",
      "Examples of trigrams for training:\n",
      "(['[SOS]', 'driven'], 'by')\n",
      "(['driven', 'by'], 'jc')\n",
      "(['by', 'jc'], 'sobey')\n",
      "(['jc', 'sobey'], 'metro')\n"
     ]
    }
   ],
   "source": [
    "#Create tri-grams from all comments [word1,word2,target]\n",
    "trigrams = []\n",
    "for comment in df_all_com:\n",
    "    comment_list = comment.split()\n",
    "    tri = [([comment_list[i], comment_list[i + 1]], comment_list[i + 2])\n",
    "            for i in range(len(comment_list) - 2)]\n",
    "    for tr in tri:\n",
    "        trigrams.append(tr)\n",
    "# print the first 3, just so you can see what they look like\n",
    "print(df_all_com[df_all_com.index[0]])\n",
    "print('\\nExamples of trigrams for training:')\n",
    "for tri in trigrams[:4]:\n",
    "    print(tri)"
   ]
  },
  {
   "cell_type": "code",
   "execution_count": 51,
   "metadata": {},
   "outputs": [],
   "source": [
    "CONTEXT_SIZE = 2\n",
    "EMBEDDING_DIM = 200\n",
    "\n",
    "class NGramLanguageModeler(nn.Module):\n",
    "\n",
    "    def __init__(self, vocab_size, embedding_dim, context_size):\n",
    "        super(NGramLanguageModeler, self).__init__()\n",
    "        self.embeddings = nn.Embedding(vocab_size, embedding_dim) #Embedding matrix: each line is the embedding of one word\n",
    "        self.linear1 = nn.Linear(context_size * embedding_dim, 128) #Parameter matrix embedding and hidden layer\n",
    "        self.linear2 = nn.Linear(128, vocab_size)  #Parameter matrix between hidden layer and output\n",
    "\n",
    "    def forward(self, inputs):\n",
    "        embeds = self.embeddings(inputs).view((1, -1))  #get embedding from Embedding matrix\n",
    "        out = F.relu(self.linear1(embeds))  #\n",
    "        out = self.linear2(out)\n",
    "        log_probs = F.log_softmax(out, dim=1)\n",
    "        return log_probs\n",
    "\n",
    "\n",
    "losses = []\n",
    "loss_function = nn.NLLLoss()   #Negative log likelihood loss (multiclass output with softmax)\n",
    "model = NGramLanguageModeler(len(vocab), EMBEDDING_DIM, CONTEXT_SIZE)\n",
    "optimizer = optim.SGD(model.parameters(), lr=0.01)  #stochastic gradient descent   #before 0.001"
   ]
  },
  {
   "cell_type": "code",
   "execution_count": 80,
   "metadata": {},
   "outputs": [
    {
     "name": "stdout",
     "output_type": "stream",
     "text": [
      "epoch 0 : Total loss=6019.817\n",
      "epoch 1 : Total loss=5961.326\n",
      "epoch 2 : Total loss=5914.249\n",
      "epoch 3 : Total loss=5845.504\n",
      "epoch 4 : Total loss=5791.026\n",
      "epoch 5 : Total loss=5733.826\n",
      "epoch 6 : Total loss=5701.335\n",
      "epoch 7 : Total loss=5647.558\n",
      "epoch 8 : Total loss=5587.535\n",
      "epoch 9 : Total loss=5558.567\n",
      "epoch 10 : Total loss=5533.625\n",
      "epoch 11 : Total loss=5473.613\n",
      "epoch 12 : Total loss=5450.304\n",
      "epoch 13 : Total loss=5436.706\n",
      "epoch 14 : Total loss=5391.777\n",
      "epoch 15 : Total loss=5351.454\n",
      "epoch 16 : Total loss=5325.113\n",
      "epoch 17 : Total loss=5289.418\n",
      "epoch 18 : Total loss=5248.416\n",
      "epoch 19 : Total loss=5238.990\n"
     ]
    }
   ],
   "source": [
    "#Training, you can re-run this function as much time as needed to train more\n",
    "for epoch in range(20):\n",
    "    total_loss = 0\n",
    "    for context, target in trigrams:\n",
    "\n",
    "        # Step 1. Prepare the inputs to be passed to the model (i.e, turn the words\n",
    "        # into integer indices and wrap them in tensors)\n",
    "        context_idxs = torch.tensor([word_to_ix[w] for w in context], dtype=torch.long)\n",
    "\n",
    "        # Step 2. Recall that torch *accumulates* gradients. Before passing in a\n",
    "        # new instance, you need to zero out the gradients from the old\n",
    "        # instance\n",
    "        model.zero_grad()\n",
    "\n",
    "        # Step 3. Run the forward pass, getting log probabilities over next\n",
    "        # words\n",
    "        log_probs = model(context_idxs)\n",
    "\n",
    "        # Step 4. Compute your loss function. (Again, Torch wants the target\n",
    "        # word wrapped in a tensor)\n",
    "        loss = loss_function(log_probs, torch.tensor([word_to_ix[target]], dtype=torch.long))\n",
    "\n",
    "        # Step 5. Do the backward pass and update the gradient\n",
    "        loss.backward()\n",
    "        optimizer.step()\n",
    "\n",
    "        # Get the Python number from a 1-element Tensor by calling tensor.item()\n",
    "        total_loss += loss.item()\n",
    "    losses.append(total_loss)\n",
    "    print('epoch %d : Total loss=%.3f' % (epoch, total_loss))\n",
    "#print(losses)  # The loss decreased every iteration over the training data!"
   ]
  },
  {
   "cell_type": "code",
   "execution_count": 81,
   "metadata": {},
   "outputs": [
    {
     "data": {
      "image/png": "[encoded data removed]",
      "text/plain": [
       "<Figure size 432x288 with 1 Axes>"
      ]
     },
     "metadata": {
      "needs_background": "light"
     },
     "output_type": "display_data"
    }
   ],
   "source": [
    "import matplotlib.pyplot as plt\n",
    "import matplotlib.ticker as ticker\n",
    "\n",
    "plt.figure()\n",
    "plt.plot(losses);"
   ]
  },
  {
   "cell_type": "code",
   "execution_count": 82,
   "metadata": {},
   "outputs": [
    {
     "name": "stdout",
     "output_type": "stream",
     "text": [
      "Context: ['[#]', 'fp']\n",
      "Target: ad\n",
      "Prediction: ad\n"
     ]
    }
   ],
   "source": [
    "context, target = trigrams[133]\n",
    "print('Context:', context)\n",
    "print('Target:', target)\n",
    "\n",
    "#Predict next word using model\n",
    "context_idxs = torch.tensor([word_to_ix[w] for w in context], dtype=torch.long)\n",
    "log_probs = model(context_idxs)\n",
    "\n",
    "#Get the word that has max probability and display it\n",
    "result = log_probs.data.numpy().tolist()[0]   #Convert tensor to list\n",
    "indexmax = result.index(np.max(result)) #get index of the greatest probable word\n",
    "print('Prediction:', ix_to_word[indexmax])"
   ]
  },
  {
   "cell_type": "markdown",
   "metadata": {},
   "source": [
    "#### Useful function to predict next word, calculate distance between words"
   ]
  },
  {
   "cell_type": "code",
   "execution_count": 83,
   "metadata": {},
   "outputs": [],
   "source": [
    "def predict_next(context):\n",
    "    #Predict next word using model\n",
    "    context_idxs = torch.tensor([word_to_ix[w] for w in context], dtype=torch.long)\n",
    "    log_probs = model(context_idxs)\n",
    "\n",
    "    #Get the word that has max probability and display it\n",
    "    result = log_probs.data.numpy().tolist()[0]   #Convert tensor to list\n",
    "    indexmax = result.index(np.max(result)) #get index of the greatest probable word\n",
    "    return (ix_to_word[indexmax])\n",
    "\n",
    "def embedding_word(word):\n",
    "    word_idx = torch.tensor([word_to_ix[word]], dtype=torch.long)\n",
    "    return(model.embeddings(word_idx).data.numpy().tolist()[0])\n",
    "\n",
    "def distance_words_pytorch(word1,word2):    #between -1 and 1\n",
    "    from scipy import spatial\n",
    "    return(1-spatial.distance.cosine(embedding_word(word1), embedding_word(word2)))\n",
    "\n",
    "def predict_next_multi(context, topn):\n",
    "    #Predict next word using model\n",
    "    context_idxs = torch.tensor([word_to_ix[w] for w in context], dtype=torch.long)\n",
    "    log_probs = model(context_idxs)\n",
    "\n",
    "    #Get the word that has max probability and display it\n",
    "    result = log_probs.data.numpy().tolist()[0]   #Convert tensor to list\n",
    "    result_s = sorted(result, reverse=True)\n",
    "    \n",
    "    mydict = [(ix_to_word[result.index(p)], np.exp(p)) for p in result_s[0:topn]]\n",
    "    return (mydict)"
   ]
  },
  {
   "cell_type": "code",
   "execution_count": 84,
   "metadata": {},
   "outputs": [
    {
     "data": {
      "text/plain": [
       "[('pallet', 0.9846269512220999),\n",
       " ('order', 0.006120203477839846),\n",
       " ('baselin', 0.001555282882754302),\n",
       " ('+[#m]', 0.0013861285217311454),\n",
       " ('wm', 0.0013247650488891853),\n",
       " ('due', 0.0009583547102707161),\n",
       " ('of', 0.0006802531696448085),\n",
       " ('[#m]', 0.0005132653876698086),\n",
       " ('east', 0.0004776263691683376),\n",
       " ('bundl', 0.00031231600188834596)]"
      ]
     },
     "execution_count": 84,
     "metadata": {},
     "output_type": "execute_result"
    }
   ],
   "source": [
    "predict_next_multi(['by', 'half'], 10)"
   ]
  },
  {
   "cell_type": "code",
   "execution_count": 85,
   "metadata": {},
   "outputs": [
    {
     "data": {
      "text/plain": [
       "[('strong', 0.05640051200655534),\n",
       " ('sdm', 0.05501668215557816),\n",
       " ('dove', 0.053456151132948986),\n",
       " ('pipelin', 0.040397351595921914),\n",
       " ('overlay', 0.03554975434339591),\n",
       " ('lcl', 0.034128397656997385),\n",
       " ('500ct', 0.03342795889283765),\n",
       " ('phase', 0.032160861630735615),\n",
       " ('promot', 0.03123870666333585),\n",
       " ('ooh', 0.030193855815927418)]"
      ]
     },
     "execution_count": 85,
     "metadata": {},
     "output_type": "execute_result"
    }
   ],
   "source": [
    "predict_next_multi(['driven', 'by'], 10)"
   ]
  },
  {
   "cell_type": "code",
   "execution_count": 61,
   "metadata": {},
   "outputs": [
    {
     "data": {
      "text/plain": [
       "[('[EOS]', 0.2323307453492714),\n",
       " ('+[#m]', 0.16541634117325493),\n",
       " ('easter', 0.08454624635488212),\n",
       " ('60ct', 0.07000552454248384),\n",
       " ('[#k]', 0.055112651024521626),\n",
       " ('+[#k]', 0.03319487624214638),\n",
       " ('-[#m]', 0.019055897469822402),\n",
       " ('due', 0.013317986948961483),\n",
       " ('east', 0.010084910588059638),\n",
       " ('and', 0.009707428581251957)]"
      ]
     },
     "execution_count": 61,
     "metadata": {},
     "output_type": "execute_result"
    }
   ],
   "source": [
    "predict_next_multi(['by', 'lcl'], 10)"
   ]
  },
  {
   "cell_type": "code",
   "execution_count": 62,
   "metadata": {},
   "outputs": [
    {
     "data": {
      "text/plain": [
       "'by'"
      ]
     },
     "execution_count": 62,
     "metadata": {},
     "output_type": "execute_result"
    }
   ],
   "source": [
    "predict_next(['[SOS]','driven'])"
   ]
  },
  {
   "cell_type": "code",
   "execution_count": 63,
   "metadata": {},
   "outputs": [
    {
     "data": {
      "text/plain": [
       "'sh'"
      ]
     },
     "execution_count": 63,
     "metadata": {},
     "output_type": "execute_result"
    }
   ],
   "source": [
    "predict_next(['expert','segment'])"
   ]
  },
  {
   "cell_type": "code",
   "execution_count": 79,
   "metadata": {},
   "outputs": [
    {
     "name": "stdout",
     "output_type": "stream",
     "text": [
      "deliveri +[#m] sdm oct order phase in sep 6pack bonu po growth on 355 ml\n"
     ]
    }
   ],
   "source": [
    "#Basic commentary generation from distance between words\n",
    "word1 = 'over'\n",
    "word2 = 'deliveri'\n",
    "word=''\n",
    "sentence = [word2]\n",
    "i=0\n",
    "while (word!= EOS) & (i<20):\n",
    "    word = predict_next([word1, word2])\n",
    "    sentence.append(word)\n",
    "    word1 = word2\n",
    "    word2 = word\n",
    "    i += 1\n",
    "    \n",
    "print(' '.join(sentence[0:-1]))"
   ]
  },
  {
   "cell_type": "code",
   "execution_count": 69,
   "metadata": {},
   "outputs": [],
   "source": [
    "def closet_words_pytorch(target, topn):   #Does not work well based on the embedding distances\n",
    "    import operator\n",
    "    mydict = [(m, distance_words_pytorch(target,m)) for m in list(vocab)]\n",
    "    sorted_tuples = sorted(mydict, key=operator.itemgetter(1), reverse=True)\n",
    "    return(sorted_tuples[1:topn])"
   ]
  },
  {
   "cell_type": "code",
   "execution_count": 70,
   "metadata": {},
   "outputs": [
    {
     "data": {
      "text/plain": [
       "[('faster', 0.22281482467763603),\n",
       " ('uniprix', 0.18852167930799202),\n",
       " ('deo', 0.17616654634481688),\n",
       " ('pog', 0.16812810407354695),\n",
       " ('materi', 0.1658039219143258),\n",
       " ('off', 0.1585459230168571),\n",
       " ('performac', 0.15685728585517456),\n",
       " ('miss', 0.15067718002520358),\n",
       " ('24', 0.14896671444657628)]"
      ]
     },
     "execution_count": 70,
     "metadata": {},
     "output_type": "execute_result"
    }
   ],
   "source": [
    "closet_words_pytorch('driven',10) "
   ]
  },
  {
   "cell_type": "code",
   "execution_count": 62,
   "metadata": {},
   "outputs": [
    {
     "data": {
      "text/plain": [
       "0.22757552606022324"
      ]
     },
     "execution_count": 62,
     "metadata": {},
     "output_type": "execute_result"
    }
   ],
   "source": [
    "distance_words_pytorch('sobey','lcl')"
   ]
  },
  {
   "cell_type": "code",
   "execution_count": 63,
   "metadata": {},
   "outputs": [
    {
     "data": {
      "text/plain": [
       "tensor([[ 0.3756,  0.0396,  0.1490,  0.1667, -0.8133,  0.0488,  0.7215, -0.6928,\n",
       "         -1.5910, -1.1907, -0.0978, -0.0095, -0.9462, -1.2306, -0.1153, -0.1944,\n",
       "         -0.4340,  0.1308, -0.8175,  0.4913]], grad_fn=<EmbeddingBackward>)"
      ]
     },
     "execution_count": 63,
     "metadata": {},
     "output_type": "execute_result"
    }
   ],
   "source": [
    "word = 'doh'\n",
    "word_to_ix[word]\n",
    "word_idx = torch.tensor([word_to_ix[word]], dtype=torch.long)\n",
    "model.embeddings(word_idx)"
   ]
  },
  {
   "cell_type": "markdown",
   "metadata": {},
   "source": [
    "#### Save/Load model"
   ]
  },
  {
   "cell_type": "code",
   "execution_count": 64,
   "metadata": {},
   "outputs": [],
   "source": [
    "#Save model\n",
    "torch.save(model.state_dict(), './embedding_model_params')"
   ]
  },
  {
   "cell_type": "code",
   "execution_count": 65,
   "metadata": {},
   "outputs": [
    {
     "data": {
      "text/plain": [
       "NGramLanguageModeler(\n",
       "  (embeddings): Embedding(932, 20)\n",
       "  (linear1): Linear(in_features=40, out_features=128, bias=True)\n",
       "  (linear2): Linear(in_features=128, out_features=932, bias=True)\n",
       ")"
      ]
     },
     "execution_count": 65,
     "metadata": {},
     "output_type": "execute_result"
    }
   ],
   "source": [
    "# Load model\n",
    "#The model class should be defined\n",
    "model.load_state_dict(torch.load('./embedding_model_params'))\n",
    "model.eval()"
   ]
  }
 ],
 "metadata": {
  "kernelspec": {
   "display_name": "Python 3",
   "language": "python",
   "name": "python3"
  },
  "language_info": {
   "codemirror_mode": {
    "name": "ipython",
    "version": 3
   },
   "file_extension": ".py",
   "mimetype": "text/x-python",
   "name": "python",
   "nbconvert_exporter": "python",
   "pygments_lexer": "ipython3",
   "version": "3.6.6"
  }
 },
 "nbformat": 4,
 "nbformat_minor": 2
}
