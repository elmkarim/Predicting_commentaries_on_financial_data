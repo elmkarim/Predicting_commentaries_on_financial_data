{
 "cells": [
  {
   "cell_type": "markdown",
   "metadata": {},
   "source": [
    "## Canadian AI: Calculating ROUGE and METEOR scores"
   ]
  },
  {
   "cell_type": "code",
   "execution_count": 12,
   "metadata": {},
   "outputs": [
    {
     "name": "stdout",
     "output_type": "stream",
     "text": [
      "nohup nlg-eval --hypothesis=./result_synth_1_epochs_50_dec_GRU_enc_GRU_batchsize_20_predicted.txt --references=./result_synth_1_epochs_50_dec_GRU_enc_GRU_batchsize_20_actual.txt > ./result_synth_1_epochs_50_dec_GRU_enc_GRU_batchsize_20_meteor.txt &\n",
      "nohup nlg-eval --hypothesis=./result_synth_0_epochs_100_dec_LSTM_enc_NN_batchsize_20_predicted.txt --references=./result_synth_0_epochs_100_dec_LSTM_enc_NN_batchsize_20_actual.txt > ./result_synth_0_epochs_100_dec_LSTM_enc_NN_batchsize_20_meteor.txt &\n",
      "nohup nlg-eval --hypothesis=./result_synth_1_epochs_50_dec_LSTM_enc_LSTM_batchsize_20_predicted.txt --references=./result_synth_1_epochs_50_dec_LSTM_enc_LSTM_batchsize_20_actual.txt > ./result_synth_1_epochs_50_dec_LSTM_enc_LSTM_batchsize_20_meteor.txt &\n",
      "nohup nlg-eval --hypothesis=./result_synth_1_epochs_50_dec_GRU_enc_NN_batchsize_20_predicted.txt --references=./result_synth_1_epochs_50_dec_GRU_enc_NN_batchsize_20_actual.txt > ./result_synth_1_epochs_50_dec_GRU_enc_NN_batchsize_20_meteor.txt &\n",
      "nohup nlg-eval --hypothesis=./result_synth_0_epochs_100_dec_GRU_enc_NN_batchsize_20_predicted.txt --references=./result_synth_0_epochs_100_dec_GRU_enc_NN_batchsize_20_actual.txt > ./result_synth_0_epochs_100_dec_GRU_enc_NN_batchsize_20_meteor.txt &\n",
      "nohup nlg-eval --hypothesis=./result_synth_0_epochs_100_dec_LSTM_enc_LSTM_batchsize_20_predicted.txt --references=./result_synth_0_epochs_100_dec_LSTM_enc_LSTM_batchsize_20_actual.txt > ./result_synth_0_epochs_100_dec_LSTM_enc_LSTM_batchsize_20_meteor.txt &\n",
      "nohup nlg-eval --hypothesis=./result_synth_1_epochs_50_dec_LSTM_enc_NN_batchsize_20_predicted.txt --references=./result_synth_1_epochs_50_dec_LSTM_enc_NN_batchsize_20_actual.txt > ./result_synth_1_epochs_50_dec_LSTM_enc_NN_batchsize_20_meteor.txt &\n",
      "nohup nlg-eval --hypothesis=./result_synth_0_epochs_100_dec_GRU_enc_GRU_batchsize_20_predicted.txt --references=./result_synth_0_epochs_100_dec_GRU_enc_GRU_batchsize_20_actual.txt > ./result_synth_0_epochs_100_dec_GRU_enc_GRU_batchsize_20_meteor.txt &\n"
     ]
    }
   ],
   "source": [
    "import glob\n",
    "result_files = glob.glob(\"./result*.txt\")\n",
    "files =[]\n",
    "for result_filename in result_files:\n",
    "    files.append(result_filename.replace('_predicted','').replace('_actual','').replace('_meteor',''))\n",
    "files = set(files)\n",
    "\n",
    "for file in files:\n",
    "    file_a = file.replace('.txt','_actual.txt')\n",
    "    file_p = file.replace('.txt','_predicted.txt')\n",
    "    file_o = file.replace('.txt','_meteor.txt')\n",
    "    command = 'nohup nlg-eval --hypothesis=%s --references=%s > %s &' % (file_p, file_a, file_o)\n",
    "    print(command)"
   ]
  }
 ],
 "metadata": {
  "kernelspec": {
   "display_name": "Python 3",
   "language": "python",
   "name": "python3"
  },
  "language_info": {
   "codemirror_mode": {
    "name": "ipython",
    "version": 3
   },
   "file_extension": ".py",
   "mimetype": "text/x-python",
   "name": "python",
   "nbconvert_exporter": "python",
   "pygments_lexer": "ipython3",
   "version": "3.6.6"
  }
 },
 "nbformat": 4,
 "nbformat_minor": 2
}
