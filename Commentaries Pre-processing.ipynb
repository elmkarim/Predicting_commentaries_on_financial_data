{
 "cells": [
  {
   "cell_type": "markdown",
   "metadata": {},
   "source": [
    "# Commentaries file pre-processing"
   ]
  },
  {
   "cell_type": "markdown",
   "metadata": {},
   "source": [
    "## Preparing the data"
   ]
  },
  {
   "cell_type": "markdown",
   "metadata": {},
   "source": [
    "### Pre-processing commentaries"
   ]
  },
  {
   "cell_type": "code",
   "execution_count": 2,
   "metadata": {},
   "outputs": [],
   "source": [
    "# Imports\n",
    "import numpy as np\n",
    "import pandas as pd\n",
    "from helper_save_load import load_excel_spreadsheet"
   ]
  },
  {
   "cell_type": "code",
   "execution_count": null,
   "metadata": {},
   "outputs": [],
   "source": [
    "# Load Forecast and Actual sheets\n",
    "dfc = load_excel_spreadsheet('./datasets/Commentaries dataset v2.xlsm', 'All')"
   ]
  },
  {
   "cell_type": "code",
   "execution_count": null,
   "metadata": {},
   "outputs": [],
   "source": [
    "dfc.head(2)"
   ]
  },
  {
   "cell_type": "markdown",
   "metadata": {},
   "source": [
    "#### Cleaning commentaries\n",
    "- Removing punctuation, indesirable words or sentences and copy new comment to a new column\n"
   ]
  },
  {
   "cell_type": "code",
   "execution_count": 5,
   "metadata": {},
   "outputs": [
    {
     "data": {
      "text/plain": [
       "2     Driven  by JC/Sobeys/Metro total $300K\n",
       "6                      Driven by SDM - $100K\n",
       "19                 Driven by SDM/LCL + $500K\n",
       "24                             Brand Growth \n",
       "31                      Driven by WM - $160K\n",
       "Name: Commentaries, dtype: object"
      ]
     },
     "execution_count": 5,
     "metadata": {},
     "output_type": "execute_result"
    }
   ],
   "source": [
    "#Taking a sample of commentaries\n",
    "df_sample = dfc     #.loc[0:100,:]\n",
    "NotNull = df_sample['Commentaries'].notna()\n",
    "df_comments = df_sample[NotNull].loc[:,'Commentaries']\n",
    "df_comments.head(5)"
   ]
  },
  {
   "cell_type": "code",
   "execution_count": 6,
   "metadata": {},
   "outputs": [],
   "source": [
    "#Defining codes\n",
    "SOS = '[SOS]'\n",
    "EOS = '[EOS]'\n",
    "MILLIONS_NUM = '[#M]'\n",
    "THOUSAND_NUM = '[#K]'\n",
    "NUMBER = '[#]'\n",
    "PERCENT = '[%]'"
   ]
  },
  {
   "cell_type": "code",
   "execution_count": 7,
   "metadata": {},
   "outputs": [],
   "source": [
    "#Adding space after +/-, deleting (,),: , deleting 'please see comments above', \n",
    "import re\n",
    "from nltk.stem import PorterStemmer\n",
    "\n",
    "ps = PorterStemmer()\n",
    "\n",
    "#Replace patterns of numbers by tokens\n",
    "resubs = [(r\"(\\$)?[0-9](\\.[0-9]+)?M\\b\", MILLIONS_NUM),\n",
    "         (r\"(\\$)?[0-9]+[Kk]\\b\", THOUSAND_NUM),\n",
    "         (r\"[0-9]+(\\.[0-9]+)?\\%\", PERCENT),\n",
    "         (r\"\\$[0-9]+(\\.[0-9]+)?\\b\", NUMBER)]\n",
    "\n",
    "raplacements = [('+ [#','+[#'), ('- [#','-[#'),\n",
    "                ('+','+'),\n",
    "                ('-','-'),\n",
    "                ('(',' '),\n",
    "                (')',' '),\n",
    "                (':',' '),\n",
    "                (',',' '),\n",
    "                ('.',' '),\n",
    "                (';',''),\n",
    "                ('\\n',' '),\n",
    "                ('0ml ','0 ml '), ('3ml ','3 ml '), ('4ml ','4 ml '), ('5ml ','5 ml '),\n",
    "                ('0g ','0 g '), ('3g ','3 g '), ('5g ','5 g '), ('6g ','6 g '),\n",
    "                ('liption','lipton'),\n",
    "                ('please see comments above', ''),\n",
    "                ('please see comments below', ''),\n",
    "                ('Please see comments above',''),\n",
    "                ('Please see comments below',''),\n",
    "               ]\n",
    "\n",
    "for i, comment in zip(df_comments.index,df_comments):\n",
    "    for r in resubs:\n",
    "        comment = re.sub(r[0],r[1], comment)\n",
    "    comment = comment.lower()\n",
    "    for r in raplacements:\n",
    "        comment = comment.replace(r[0],r[1])\n",
    "    result = re.split(' |/|:', comment)\n",
    "    result2 = [ps.stem(m) for m in result if m!='']\n",
    "    df_sample.loc[i,'Comment_w'] = SOS + ' ' + ' '.join(result2) + ' ' + EOS"
   ]
  },
  {
   "cell_type": "code",
   "execution_count": 8,
   "metadata": {},
   "outputs": [],
   "source": [
    "df_all_com = df_sample[NotNull].loc[:,'Comment_w']"
   ]
  },
  {
   "cell_type": "code",
   "execution_count": null,
   "metadata": {},
   "outputs": [],
   "source": [
    "[comment for comment in df_all_com if 'cancel' in comment]"
   ]
  },
  {
   "cell_type": "code",
   "execution_count": 10,
   "metadata": {},
   "outputs": [],
   "source": [
    "com_corpus = ' '.join(df_all_com.ravel()).split()"
   ]
  },
  {
   "cell_type": "code",
   "execution_count": 11,
   "metadata": {},
   "outputs": [],
   "source": [
    "# com_corpus"
   ]
  },
  {
   "cell_type": "code",
   "execution_count": null,
   "metadata": {},
   "outputs": [],
   "source": [
    "df_sample[NotNull].loc[0:100,['Commentaries', 'Comment_w']]"
   ]
  },
  {
   "cell_type": "code",
   "execution_count": null,
   "metadata": {},
   "outputs": [],
   "source": [
    "dfc.head(3)"
   ]
  },
  {
   "cell_type": "markdown",
   "metadata": {},
   "source": [
    "### Creating dictionnary"
   ]
  },
  {
   "cell_type": "code",
   "execution_count": 14,
   "metadata": {},
   "outputs": [
    {
     "data": {
      "text/plain": [
       "<torch._C.Generator at 0x25cd1553f30>"
      ]
     },
     "execution_count": 14,
     "metadata": {},
     "output_type": "execute_result"
    }
   ],
   "source": [
    "import torch\n",
    "import torch.nn as nn\n",
    "import torch.nn.functional as F\n",
    "import torch.optim as optim\n",
    "\n",
    "torch.manual_seed(1)"
   ]
  },
  {
   "cell_type": "code",
   "execution_count": 15,
   "metadata": {},
   "outputs": [
    {
     "name": "stdout",
     "output_type": "stream",
     "text": [
      "Size of vocab : 934\n",
      "Size of dictionary : 934\n"
     ]
    }
   ],
   "source": [
    "#Create vocabulary and dictionary\n",
    "vocab = set(com_corpus)\n",
    "word_to_ix = {word: i for i, word in enumerate(vocab)}\n",
    "ix_to_word = {i: word for i, word in enumerate(vocab)}\n",
    "print('Size of vocab :', len(vocab))\n",
    "print('Size of dictionary :', len(word_to_ix))\n",
    "\n",
    "# we should tokenize the input, but we will ignore that for now\n",
    "# build a list of tuples.  Each tuple is ([ word_i-2, word_i-1 ], target word)\n",
    "#trigrams = [([test_sentence[i], test_sentence[i + 1]], test_sentence[i + 2])\n",
    "#            for i in range(len(test_sentence) - 2)]"
   ]
  },
  {
   "cell_type": "code",
   "execution_count": null,
   "metadata": {},
   "outputs": [],
   "source": [
    "for v in sorted(vocab):\n",
    "    print (v)"
   ]
  },
  {
   "cell_type": "code",
   "execution_count": 17,
   "metadata": {},
   "outputs": [],
   "source": [
    "#Save dictionnary and commentaries dataframe to pickle file\n",
    "from helper_save_load import save_to_pickle\n",
    "save_to_pickle(\"commentaries.pickle\", (dfc, vocab, word_to_ix, ix_to_word))"
   ]
  },
  {
   "cell_type": "markdown",
   "metadata": {},
   "source": [
    "### Creating word embedding using pytorch"
   ]
  },
  {
   "cell_type": "code",
   "execution_count": null,
   "metadata": {},
   "outputs": [],
   "source": [
    "#Create tri-grams from all comments [word1,word2,target]\n",
    "trigrams = []\n",
    "for comment in df_all_com:\n",
    "    comment_list = comment.split()\n",
    "    tri = [([comment_list[i], comment_list[i + 1]], comment_list[i + 2])\n",
    "            for i in range(len(comment_list) - 2)]\n",
    "    for tr in tri:\n",
    "        trigrams.append(tr)\n",
    "# print the first 3, just so you can see what they look like\n",
    "print(df_all_com[df_all_com.index[0]])\n",
    "print('\\nExamples of trigrams for training:')\n",
    "for tri in trigrams[:4]:\n",
    "    print(tri)"
   ]
  },
  {
   "cell_type": "code",
   "execution_count": 19,
   "metadata": {},
   "outputs": [],
   "source": [
    "CONTEXT_SIZE = 2\n",
    "EMBEDDING_DIM = 200\n",
    "\n",
    "class NGramLanguageModeler(nn.Module):\n",
    "\n",
    "    def __init__(self, vocab_size, embedding_dim, context_size):\n",
    "        super(NGramLanguageModeler, self).__init__()\n",
    "        self.embeddings = nn.Embedding(vocab_size, embedding_dim) #Embedding matrix: each line is the embedding of one word\n",
    "        self.linear1 = nn.Linear(context_size * embedding_dim, 128) #Parameter matrix embedding and hidden layer\n",
    "        self.linear2 = nn.Linear(128, vocab_size)  #Parameter matrix between hidden layer and output\n",
    "\n",
    "    def forward(self, inputs):\n",
    "        embeds = self.embeddings(inputs).view((1, -1))  #get embedding from Embedding matrix\n",
    "        out = F.relu(self.linear1(embeds))  #\n",
    "        out = self.linear2(out)\n",
    "        log_probs = F.log_softmax(out, dim=1)\n",
    "        return log_probs\n",
    "\n",
    "\n",
    "losses = []\n",
    "loss_function = nn.NLLLoss()   #Negative log likelihood loss (multiclass output with softmax)\n",
    "model = NGramLanguageModeler(len(vocab), EMBEDDING_DIM, CONTEXT_SIZE)\n",
    "optimizer = optim.SGD(model.parameters(), lr=0.01)  #stochastic gradient descent   #before 0.001"
   ]
  },
  {
   "cell_type": "code",
   "execution_count": 20,
   "metadata": {},
   "outputs": [
    {
     "name": "stdout",
     "output_type": "stream",
     "text": [
      "epoch 0 : Total loss=40003.434\n",
      "epoch 1 : Total loss=31193.424\n",
      "epoch 2 : Total loss=26502.132\n",
      "epoch 3 : Total loss=22896.835\n",
      "epoch 4 : Total loss=19967.092\n",
      "epoch 5 : Total loss=17768.143\n",
      "epoch 6 : Total loss=16317.012\n",
      "epoch 7 : Total loss=15371.235\n",
      "epoch 8 : Total loss=14787.410\n",
      "epoch 9 : Total loss=14327.685\n",
      "epoch 10 : Total loss=13964.084\n",
      "epoch 11 : Total loss=13641.631\n",
      "epoch 12 : Total loss=13354.252\n",
      "epoch 13 : Total loss=13152.566\n",
      "epoch 14 : Total loss=12964.661\n",
      "epoch 15 : Total loss=12752.363\n",
      "epoch 16 : Total loss=12594.136\n",
      "epoch 17 : Total loss=12455.578\n",
      "epoch 18 : Total loss=12286.438\n",
      "epoch 19 : Total loss=12178.475\n"
     ]
    }
   ],
   "source": [
    "#Training, you can re-run this function as much time as needed to train more\n",
    "for epoch in range(20):\n",
    "    total_loss = 0\n",
    "    for context, target in trigrams:\n",
    "\n",
    "        # Step 1. Prepare the inputs to be passed to the model (i.e, turn the words\n",
    "        # into integer indices and wrap them in tensors)\n",
    "        context_idxs = torch.tensor([word_to_ix[w] for w in context], dtype=torch.long)\n",
    "\n",
    "        # Step 2. Recall that torch *accumulates* gradients. Before passing in a\n",
    "        # new instance, you need to zero out the gradients from the old\n",
    "        # instance\n",
    "        model.zero_grad()\n",
    "\n",
    "        # Step 3. Run the forward pass, getting log probabilities over next\n",
    "        # words\n",
    "        log_probs = model(context_idxs)\n",
    "\n",
    "        # Step 4. Compute your loss function. (Again, Torch wants the target\n",
    "        # word wrapped in a tensor)\n",
    "        loss = loss_function(log_probs, torch.tensor([word_to_ix[target]], dtype=torch.long))\n",
    "\n",
    "        # Step 5. Do the backward pass and update the gradient\n",
    "        loss.backward()\n",
    "        optimizer.step()\n",
    "\n",
    "        # Get the Python number from a 1-element Tensor by calling tensor.item()\n",
    "        total_loss += loss.item()\n",
    "    losses.append(total_loss)\n",
    "    print('epoch %d : Total loss=%.3f' % (epoch, total_loss))\n",
    "#print(losses)  # The loss decreased every iteration over the training data!"
   ]
  },
  {
   "cell_type": "code",
   "execution_count": 21,
   "metadata": {},
   "outputs": [],
   "source": [
    "import matplotlib.pyplot as plt\n",
    "import matplotlib.ticker as ticker\n",
    "\n",
    "plt.figure()\n",
    "plt.plot(losses);"
   ]
  },
  {
   "cell_type": "code",
   "execution_count": 22,
   "metadata": {},
   "outputs": [
    {
     "name": "stdout",
     "output_type": "stream",
     "text": [
      "Context: ['[SOS]', 'driven']\n",
      "Target: by\n",
      "Prediction: by\n"
     ]
    }
   ],
   "source": [
    "context, target = trigrams[133]\n",
    "print('Context:', context)\n",
    "print('Target:', target)\n",
    "\n",
    "#Predict next word using model\n",
    "context_idxs = torch.tensor([word_to_ix[w] for w in context], dtype=torch.long)\n",
    "log_probs = model(context_idxs)\n",
    "\n",
    "#Get the word that has max probability and display it\n",
    "result = log_probs.data.numpy().tolist()[0]   #Convert tensor to list\n",
    "indexmax = result.index(np.max(result)) #get index of the greatest probable word\n",
    "print('Prediction:', ix_to_word[indexmax])"
   ]
  },
  {
   "cell_type": "markdown",
   "metadata": {},
   "source": [
    "#### Useful function to predict next word, calculate distance between words"
   ]
  },
  {
   "cell_type": "code",
   "execution_count": 23,
   "metadata": {},
   "outputs": [],
   "source": [
    "def predict_next(context):\n",
    "    #Predict next word using model\n",
    "    context_idxs = torch.tensor([word_to_ix[w] for w in context], dtype=torch.long)\n",
    "    log_probs = model(context_idxs)\n",
    "\n",
    "    #Get the word that has max probability and display it\n",
    "    result = log_probs.data.numpy().tolist()[0]   #Convert tensor to list\n",
    "    indexmax = result.index(np.max(result)) #get index of the greatest probable word\n",
    "    return (ix_to_word[indexmax])\n",
    "\n",
    "def embedding_word(word):\n",
    "    word_idx = torch.tensor([word_to_ix[word]], dtype=torch.long)\n",
    "    return(model.embeddings(word_idx).data.numpy().tolist()[0])\n",
    "\n",
    "def distance_words_pytorch(word1,word2):    #between -1 and 1\n",
    "    from scipy import spatial\n",
    "    return(1-spatial.distance.cosine(embedding_word(word1), embedding_word(word2)))\n",
    "\n",
    "def predict_next_multi(context, topn):\n",
    "    #Predict next word using model\n",
    "    context_idxs = torch.tensor([word_to_ix[w] for w in context], dtype=torch.long)\n",
    "    log_probs = model(context_idxs)\n",
    "\n",
    "    #Get the word that has max probability and display it\n",
    "    result = log_probs.data.numpy().tolist()[0]   #Convert tensor to list\n",
    "    result_s = sorted(result, reverse=True)\n",
    "    \n",
    "    mydict = [(ix_to_word[result.index(p)], np.exp(p)) for p in result_s[0:topn]]\n",
    "    return (mydict)"
   ]
  },
  {
   "cell_type": "code",
   "execution_count": null,
   "metadata": {},
   "outputs": [],
   "source": [
    "predict_next_multi(['by', 'half'], 10)"
   ]
  },
  {
   "cell_type": "code",
   "execution_count": null,
   "metadata": {},
   "outputs": [],
   "source": [
    "predict_next_multi(['driven', 'by'], 10)"
   ]
  },
  {
   "cell_type": "code",
   "execution_count": null,
   "metadata": {},
   "outputs": [],
   "source": [
    "predict_next_multi(['by', 'lcl'], 10)"
   ]
  },
  {
   "cell_type": "code",
   "execution_count": 27,
   "metadata": {},
   "outputs": [
    {
     "data": {
      "text/plain": [
       "'by'"
      ]
     },
     "execution_count": 27,
     "metadata": {},
     "output_type": "execute_result"
    }
   ],
   "source": [
    "predict_next(['[SOS]','driven'])"
   ]
  },
  {
   "cell_type": "code",
   "execution_count": 28,
   "metadata": {},
   "outputs": [
    {
     "data": {
      "text/plain": [
       "'sh'"
      ]
     },
     "execution_count": 28,
     "metadata": {},
     "output_type": "execute_result"
    }
   ],
   "source": [
    "predict_next(['expert','segment'])"
   ]
  },
  {
   "cell_type": "code",
   "execution_count": 38,
   "metadata": {},
   "outputs": [
    {
     "name": "stdout",
     "output_type": "stream",
     "text": [
      "half volum phase out of june +[#m] multipl account\n"
     ]
    }
   ],
   "source": [
    "#Basic commentary generation from distance between words\n",
    "word1 = SOS\n",
    "word2 = 'half'\n",
    "word=''\n",
    "sentence = [word2]\n",
    "i=0\n",
    "while (word!= EOS) & (i<20):\n",
    "    word = predict_next([word1, word2])\n",
    "    sentence.append(word)\n",
    "    word1 = word2\n",
    "    word2 = word\n",
    "    i += 1\n",
    "    \n",
    "print(' '.join(sentence[0:-1]))"
   ]
  },
  {
   "cell_type": "code",
   "execution_count": 31,
   "metadata": {},
   "outputs": [],
   "source": [
    "def closet_words_pytorch(target, topn):   #Does not work well based on the embedding distances\n",
    "    import operator\n",
    "    mydict = [(m, distance_words_pytorch(target,m)) for m in list(vocab)]\n",
    "    sorted_tuples = sorted(mydict, key=operator.itemgetter(1), reverse=True)\n",
    "    return(sorted_tuples[1:topn])"
   ]
  },
  {
   "cell_type": "code",
   "execution_count": 34,
   "metadata": {},
   "outputs": [
    {
     "data": {
      "text/plain": [
       "[('led', 0.20262270399837568),\n",
       " ('-[%]', 0.19083462441432775),\n",
       " ('bit', 0.18448048814438656),\n",
       " ('ly', 0.1811901528649147),\n",
       " ('packag', 0.1801820887018959),\n",
       " ('neg', 0.17552524775024658),\n",
       " ('cd', 0.1713322477884729),\n",
       " ('deliv', 0.16235459395322738),\n",
       " ('start', 0.16057906795451005)]"
      ]
     },
     "execution_count": 34,
     "metadata": {},
     "output_type": "execute_result"
    }
   ],
   "source": [
    "closet_words_pytorch('driven',10) "
   ]
  },
  {
   "cell_type": "code",
   "execution_count": 35,
   "metadata": {},
   "outputs": [
    {
     "data": {
      "text/plain": [
       "[('masterbrand', 0.2487331639088039),\n",
       " ('costco', 0.14434062808406664),\n",
       " ('pjc', 0.12098206119506873),\n",
       " ('sdm', 0.106232972504898),\n",
       " ('wm', 0.08852266565205603),\n",
       " ('wmt', 0.07560365918176581),\n",
       " ('lcl', 0.04569877335763406),\n",
       " ('multipl', 0.028043257946946846),\n",
       " ('distress', 0.01699105929699022),\n",
       " ('pw', 0.013071440110739773)]"
      ]
     },
     "execution_count": 35,
     "metadata": {},
     "output_type": "execute_result"
    }
   ],
   "source": [
    "predict_next_multi([SOS, '+[#m]'],10) "
   ]
  },
  {
   "cell_type": "code",
   "execution_count": 62,
   "metadata": {},
   "outputs": [
    {
     "data": {
      "text/plain": [
       "0.22757552606022324"
      ]
     },
     "execution_count": 62,
     "metadata": {},
     "output_type": "execute_result"
    }
   ],
   "source": [
    "distance_words_pytorch('sobey','lcl')"
   ]
  },
  {
   "cell_type": "code",
   "execution_count": 63,
   "metadata": {},
   "outputs": [
    {
     "data": {
      "text/plain": [
       "tensor([[ 0.3756,  0.0396,  0.1490,  0.1667, -0.8133,  0.0488,  0.7215, -0.6928,\n",
       "         -1.5910, -1.1907, -0.0978, -0.0095, -0.9462, -1.2306, -0.1153, -0.1944,\n",
       "         -0.4340,  0.1308, -0.8175,  0.4913]], grad_fn=<EmbeddingBackward>)"
      ]
     },
     "execution_count": 63,
     "metadata": {},
     "output_type": "execute_result"
    }
   ],
   "source": [
    "word = 'doh'\n",
    "word_to_ix[word]\n",
    "word_idx = torch.tensor([word_to_ix[word]], dtype=torch.long)\n",
    "model.embeddings(word_idx)"
   ]
  },
  {
   "cell_type": "markdown",
   "metadata": {},
   "source": [
    "#### Save/Load model"
   ]
  },
  {
   "cell_type": "code",
   "execution_count": 64,
   "metadata": {},
   "outputs": [],
   "source": [
    "#Save model\n",
    "torch.save(model.state_dict(), './embedding_model_params')"
   ]
  },
  {
   "cell_type": "code",
   "execution_count": 65,
   "metadata": {},
   "outputs": [
    {
     "data": {
      "text/plain": [
       "NGramLanguageModeler(\n",
       "  (embeddings): Embedding(932, 20)\n",
       "  (linear1): Linear(in_features=40, out_features=128, bias=True)\n",
       "  (linear2): Linear(in_features=128, out_features=932, bias=True)\n",
       ")"
      ]
     },
     "execution_count": 65,
     "metadata": {},
     "output_type": "execute_result"
    }
   ],
   "source": [
    "# Load model\n",
    "#The model class should be defined\n",
    "model.load_state_dict(torch.load('./embedding_model_params'))\n",
    "model.eval()"
   ]
  },
  {
   "cell_type": "markdown",
   "metadata": {},
   "source": [
    "### Apply word2vec for embedding"
   ]
  },
  {
   "cell_type": "code",
   "execution_count": null,
   "metadata": {},
   "outputs": [],
   "source": [
    "#Using word2vec\n",
    "import gensim\n",
    "from gensim.models import Word2Vec\n",
    "\n",
    "documents = [m.split() for m in df_all_com.tolist()]\n",
    "documents[0:2]"
   ]
  },
  {
   "cell_type": "code",
   "execution_count": 67,
   "metadata": {},
   "outputs": [
    {
     "data": {
      "text/plain": [
       "(2697213, 4148000)"
      ]
     },
     "execution_count": 67,
     "metadata": {},
     "output_type": "execute_result"
    }
   ],
   "source": [
    "# build vocabulary and train model with word2vec\n",
    "w2v_model = gensim.models.Word2Vec(documents, size=200, window=3, min_count=1, workers=4)\n",
    "w2v_model.train(documents, total_examples=len(documents), epochs=500) \n",
    "#w2v_model.wv.vocab   #displaying vocabulary"
   ]
  },
  {
   "cell_type": "code",
   "execution_count": 68,
   "metadata": {},
   "outputs": [
    {
     "name": "stdout",
     "output_type": "stream",
     "text": [
      "[('offset', 0.3579862117767334), ('hair', 0.33692508935928345), ('femal', 0.31099462509155273), ('tea', 0.3058239221572876), ('equal', 0.30187147855758667), ('tre', 0.28853273391723633), ('habl', 0.2797410190105438), ('rr', 0.26362720131874084), ('bw', 0.25601649284362793), ('cca', 0.25533267855644226)]\n"
     ]
    },
    {
     "name": "stderr",
     "output_type": "stream",
     "text": [
      "C:\\ProgramData\\Anaconda3\\lib\\site-packages\\gensim\\matutils.py:737: FutureWarning: Conversion of the second argument of issubdtype from `int` to `np.signedinteger` is deprecated. In future, it will be treated as `np.int32 == np.dtype(int).type`.\n",
      "  if np.issubdtype(vec.dtype, np.int):\n"
     ]
    }
   ],
   "source": [
    "print(w2v_model.wv.most_similar('driven', topn=10))"
   ]
  },
  {
   "cell_type": "code",
   "execution_count": 71,
   "metadata": {},
   "outputs": [
    {
     "name": "stdout",
     "output_type": "stream",
     "text": [
      "[('sdm', 0.24068258702754974)]\n"
     ]
    }
   ],
   "source": [
    "positive1 = 'driven'\n",
    "negative1 = 'by'\n",
    "\n",
    "positive2 = 'wm'\n",
    "\n",
    "print(w2v_model.wv.most_similar([positive1, positive2], [negative1], topn=1))"
   ]
  },
  {
   "cell_type": "code",
   "execution_count": 74,
   "metadata": {},
   "outputs": [
    {
     "data": {
      "text/html": [
       "\n",
       "    <div class=\"bk-root\">\n",
       "        <a href=\"https://bokeh.pydata.org\" target=\"_blank\" class=\"bk-logo bk-logo-small bk-logo-notebook\"></a>\n",
       "        <span id=\"3a41d8fc-aadf-427a-a990-a8279320a1bd\">Loading BokehJS ...</span>\n",
       "    </div>"
      ]
     },
     "metadata": {},
     "output_type": "display_data"
    },
    {
     "data": {
      "application/javascript": [
       "\n",
       "(function(root) {\n",
       "  function now() {\n",
       "    return new Date();\n",
       "  }\n",
       "\n",
       "  var force = true;\n",
       "\n",
       "  if (typeof (root._bokeh_onload_callbacks) === \"undefined\" || force === true) {\n",
       "    root._bokeh_onload_callbacks = [];\n",
       "    root._bokeh_is_loading = undefined;\n",
       "  }\n",
       "\n",
       "  var JS_MIME_TYPE = 'application/javascript';\n",
       "  var HTML_MIME_TYPE = 'text/html';\n",
       "  var EXEC_MIME_TYPE = 'application/vnd.bokehjs_exec.v0+json';\n",
       "  var CLASS_NAME = 'output_bokeh rendered_html';\n",
       "\n",
       "  /**\n",
       "   * Render data to the DOM node\n",
       "   */\n",
       "  function render(props, node) {\n",
       "    var script = document.createElement(\"script\");\n",
       "    node.appendChild(script);\n",
       "  }\n",
       "\n",
       "  /**\n",
       "   * Handle when an output is cleared or removed\n",
       "   */\n",
       "  function handleClearOutput(event, handle) {\n",
       "    var cell = handle.cell;\n",
       "\n",
       "    var id = cell.output_area._bokeh_element_id;\n",
       "    var server_id = cell.output_area._bokeh_server_id;\n",
       "    // Clean up Bokeh references\n",
       "    if (id != null && id in Bokeh.index) {\n",
       "      Bokeh.index[id].model.document.clear();\n",
       "      delete Bokeh.index[id];\n",
       "    }\n",
       "\n",
       "    if (server_id !== undefined) {\n",
       "      // Clean up Bokeh references\n",
       "      var cmd = \"from bokeh.io.state import curstate; print(curstate().uuid_to_server['\" + server_id + \"'].get_sessions()[0].document.roots[0]._id)\";\n",
       "      cell.notebook.kernel.execute(cmd, {\n",
       "        iopub: {\n",
       "          output: function(msg) {\n",
       "            var id = msg.content.text.trim();\n",
       "            if (id in Bokeh.index) {\n",
       "              Bokeh.index[id].model.document.clear();\n",
       "              delete Bokeh.index[id];\n",
       "            }\n",
       "          }\n",
       "        }\n",
       "      });\n",
       "      // Destroy server and session\n",
       "      var cmd = \"import bokeh.io.notebook as ion; ion.destroy_server('\" + server_id + \"')\";\n",
       "      cell.notebook.kernel.execute(cmd);\n",
       "    }\n",
       "  }\n",
       "\n",
       "  /**\n",
       "   * Handle when a new output is added\n",
       "   */\n",
       "  function handleAddOutput(event, handle) {\n",
       "    var output_area = handle.output_area;\n",
       "    var output = handle.output;\n",
       "\n",
       "    // limit handleAddOutput to display_data with EXEC_MIME_TYPE content only\n",
       "    if ((output.output_type != \"display_data\") || (!output.data.hasOwnProperty(EXEC_MIME_TYPE))) {\n",
       "      return\n",
       "    }\n",
       "\n",
       "    var toinsert = output_area.element.find(\".\" + CLASS_NAME.split(' ')[0]);\n",
       "\n",
       "    if (output.metadata[EXEC_MIME_TYPE][\"id\"] !== undefined) {\n",
       "      toinsert[toinsert.length - 1].firstChild.textContent = output.data[JS_MIME_TYPE];\n",
       "      // store reference to embed id on output_area\n",
       "      output_area._bokeh_element_id = output.metadata[EXEC_MIME_TYPE][\"id\"];\n",
       "    }\n",
       "    if (output.metadata[EXEC_MIME_TYPE][\"server_id\"] !== undefined) {\n",
       "      var bk_div = document.createElement(\"div\");\n",
       "      bk_div.innerHTML = output.data[HTML_MIME_TYPE];\n",
       "      var script_attrs = bk_div.children[0].attributes;\n",
       "      for (var i = 0; i < script_attrs.length; i++) {\n",
       "        toinsert[toinsert.length - 1].firstChild.setAttribute(script_attrs[i].name, script_attrs[i].value);\n",
       "      }\n",
       "      // store reference to server id on output_area\n",
       "      output_area._bokeh_server_id = output.metadata[EXEC_MIME_TYPE][\"server_id\"];\n",
       "    }\n",
       "  }\n",
       "\n",
       "  function register_renderer(events, OutputArea) {\n",
       "\n",
       "    function append_mime(data, metadata, element) {\n",
       "      // create a DOM node to render to\n",
       "      var toinsert = this.create_output_subarea(\n",
       "        metadata,\n",
       "        CLASS_NAME,\n",
       "        EXEC_MIME_TYPE\n",
       "      );\n",
       "      this.keyboard_manager.register_events(toinsert);\n",
       "      // Render to node\n",
       "      var props = {data: data, metadata: metadata[EXEC_MIME_TYPE]};\n",
       "      render(props, toinsert[toinsert.length - 1]);\n",
       "      element.append(toinsert);\n",
       "      return toinsert\n",
       "    }\n",
       "\n",
       "    /* Handle when an output is cleared or removed */\n",
       "    events.on('clear_output.CodeCell', handleClearOutput);\n",
       "    events.on('delete.Cell', handleClearOutput);\n",
       "\n",
       "    /* Handle when a new output is added */\n",
       "    events.on('output_added.OutputArea', handleAddOutput);\n",
       "\n",
       "    /**\n",
       "     * Register the mime type and append_mime function with output_area\n",
       "     */\n",
       "    OutputArea.prototype.register_mime_type(EXEC_MIME_TYPE, append_mime, {\n",
       "      /* Is output safe? */\n",
       "      safe: true,\n",
       "      /* Index of renderer in `output_area.display_order` */\n",
       "      index: 0\n",
       "    });\n",
       "  }\n",
       "\n",
       "  // register the mime type if in Jupyter Notebook environment and previously unregistered\n",
       "  if (root.Jupyter !== undefined) {\n",
       "    var events = require('base/js/events');\n",
       "    var OutputArea = require('notebook/js/outputarea').OutputArea;\n",
       "\n",
       "    if (OutputArea.prototype.mime_types().indexOf(EXEC_MIME_TYPE) == -1) {\n",
       "      register_renderer(events, OutputArea);\n",
       "    }\n",
       "  }\n",
       "\n",
       "  \n",
       "  if (typeof (root._bokeh_timeout) === \"undefined\" || force === true) {\n",
       "    root._bokeh_timeout = Date.now() + 5000;\n",
       "    root._bokeh_failed_load = false;\n",
       "  }\n",
       "\n",
       "  var NB_LOAD_WARNING = {'data': {'text/html':\n",
       "     \"<div style='background-color: #fdd'>\\n\"+\n",
       "     \"<p>\\n\"+\n",
       "     \"BokehJS does not appear to have successfully loaded. If loading BokehJS from CDN, this \\n\"+\n",
       "     \"may be due to a slow or bad network connection. Possible fixes:\\n\"+\n",
       "     \"</p>\\n\"+\n",
       "     \"<ul>\\n\"+\n",
       "     \"<li>re-rerun `output_notebook()` to attempt to load from CDN again, or</li>\\n\"+\n",
       "     \"<li>use INLINE resources instead, as so:</li>\\n\"+\n",
       "     \"</ul>\\n\"+\n",
       "     \"<code>\\n\"+\n",
       "     \"from bokeh.resources import INLINE\\n\"+\n",
       "     \"output_notebook(resources=INLINE)\\n\"+\n",
       "     \"</code>\\n\"+\n",
       "     \"</div>\"}};\n",
       "\n",
       "  function display_loaded() {\n",
       "    var el = document.getElementById(\"3a41d8fc-aadf-427a-a990-a8279320a1bd\");\n",
       "    if (el != null) {\n",
       "      el.textContent = \"BokehJS is loading...\";\n",
       "    }\n",
       "    if (root.Bokeh !== undefined) {\n",
       "      if (el != null) {\n",
       "        el.textContent = \"BokehJS \" + root.Bokeh.version + \" successfully loaded.\";\n",
       "      }\n",
       "    } else if (Date.now() < root._bokeh_timeout) {\n",
       "      setTimeout(display_loaded, 100)\n",
       "    }\n",
       "  }\n",
       "\n",
       "\n",
       "  function run_callbacks() {\n",
       "    try {\n",
       "      root._bokeh_onload_callbacks.forEach(function(callback) { callback() });\n",
       "    }\n",
       "    finally {\n",
       "      delete root._bokeh_onload_callbacks\n",
       "    }\n",
       "    console.info(\"Bokeh: all callbacks have finished\");\n",
       "  }\n",
       "\n",
       "  function load_libs(js_urls, callback) {\n",
       "    root._bokeh_onload_callbacks.push(callback);\n",
       "    if (root._bokeh_is_loading > 0) {\n",
       "      console.log(\"Bokeh: BokehJS is being loaded, scheduling callback at\", now());\n",
       "      return null;\n",
       "    }\n",
       "    if (js_urls == null || js_urls.length === 0) {\n",
       "      run_callbacks();\n",
       "      return null;\n",
       "    }\n",
       "    console.log(\"Bokeh: BokehJS not loaded, scheduling load and callback at\", now());\n",
       "    root._bokeh_is_loading = js_urls.length;\n",
       "    for (var i = 0; i < js_urls.length; i++) {\n",
       "      var url = js_urls[i];\n",
       "      var s = document.createElement('script');\n",
       "      s.src = url;\n",
       "      s.async = false;\n",
       "      s.onreadystatechange = s.onload = function() {\n",
       "        root._bokeh_is_loading--;\n",
       "        if (root._bokeh_is_loading === 0) {\n",
       "          console.log(\"Bokeh: all BokehJS libraries loaded\");\n",
       "          run_callbacks()\n",
       "        }\n",
       "      };\n",
       "      s.onerror = function() {\n",
       "        console.warn(\"failed to load library \" + url);\n",
       "      };\n",
       "      console.log(\"Bokeh: injecting script tag for BokehJS library: \", url);\n",
       "      document.getElementsByTagName(\"head\")[0].appendChild(s);\n",
       "    }\n",
       "  };var element = document.getElementById(\"3a41d8fc-aadf-427a-a990-a8279320a1bd\");\n",
       "  if (element == null) {\n",
       "    console.log(\"Bokeh: ERROR: autoload.js configured with elementid '3a41d8fc-aadf-427a-a990-a8279320a1bd' but no matching script tag was found. \")\n",
       "    return false;\n",
       "  }\n",
       "\n",
       "  var js_urls = [\"https://cdn.pydata.org/bokeh/release/bokeh-0.13.0.min.js\", \"https://cdn.pydata.org/bokeh/release/bokeh-widgets-0.13.0.min.js\", \"https://cdn.pydata.org/bokeh/release/bokeh-tables-0.13.0.min.js\", \"https://cdn.pydata.org/bokeh/release/bokeh-gl-0.13.0.min.js\"];\n",
       "\n",
       "  var inline_js = [\n",
       "    function(Bokeh) {\n",
       "      Bokeh.set_log_level(\"info\");\n",
       "    },\n",
       "    \n",
       "    function(Bokeh) {\n",
       "      \n",
       "    },\n",
       "    function(Bokeh) {\n",
       "      console.log(\"Bokeh: injecting CSS: https://cdn.pydata.org/bokeh/release/bokeh-0.13.0.min.css\");\n",
       "      Bokeh.embed.inject_css(\"https://cdn.pydata.org/bokeh/release/bokeh-0.13.0.min.css\");\n",
       "      console.log(\"Bokeh: injecting CSS: https://cdn.pydata.org/bokeh/release/bokeh-widgets-0.13.0.min.css\");\n",
       "      Bokeh.embed.inject_css(\"https://cdn.pydata.org/bokeh/release/bokeh-widgets-0.13.0.min.css\");\n",
       "      console.log(\"Bokeh: injecting CSS: https://cdn.pydata.org/bokeh/release/bokeh-tables-0.13.0.min.css\");\n",
       "      Bokeh.embed.inject_css(\"https://cdn.pydata.org/bokeh/release/bokeh-tables-0.13.0.min.css\");\n",
       "    }\n",
       "  ];\n",
       "\n",
       "  function run_inline_js() {\n",
       "    \n",
       "    if ((root.Bokeh !== undefined) || (force === true)) {\n",
       "      for (var i = 0; i < inline_js.length; i++) {\n",
       "        inline_js[i].call(root, root.Bokeh);\n",
       "      }if (force === true) {\n",
       "        display_loaded();\n",
       "      }} else if (Date.now() < root._bokeh_timeout) {\n",
       "      setTimeout(run_inline_js, 100);\n",
       "    } else if (!root._bokeh_failed_load) {\n",
       "      console.log(\"Bokeh: BokehJS failed to load within specified timeout.\");\n",
       "      root._bokeh_failed_load = true;\n",
       "    } else if (force !== true) {\n",
       "      var cell = $(document.getElementById(\"3a41d8fc-aadf-427a-a990-a8279320a1bd\")).parents('.cell').data().cell;\n",
       "      cell.output_area.append_execute_result(NB_LOAD_WARNING)\n",
       "    }\n",
       "\n",
       "  }\n",
       "\n",
       "  if (root._bokeh_is_loading === 0) {\n",
       "    console.log(\"Bokeh: BokehJS loaded, going straight to plotting\");\n",
       "    run_inline_js();\n",
       "  } else {\n",
       "    load_libs(js_urls, function() {\n",
       "      console.log(\"Bokeh: BokehJS plotting callback run at\", now());\n",
       "      run_inline_js();\n",
       "    });\n",
       "  }\n",
       "}(window));"
      ],
      "application/vnd.bokehjs_load.v0+json": "\n(function(root) {\n  function now() {\n    return new Date();\n  }\n\n  var force = true;\n\n  if (typeof (root._bokeh_onload_callbacks) === \"undefined\" || force === true) {\n    root._bokeh_onload_callbacks = [];\n    root._bokeh_is_loading = undefined;\n  }\n\n  \n\n  \n  if (typeof (root._bokeh_timeout) === \"undefined\" || force === true) {\n    root._bokeh_timeout = Date.now() + 5000;\n    root._bokeh_failed_load = false;\n  }\n\n  var NB_LOAD_WARNING = {'data': {'text/html':\n     \"<div style='background-color: #fdd'>\\n\"+\n     \"<p>\\n\"+\n     \"BokehJS does not appear to have successfully loaded. If loading BokehJS from CDN, this \\n\"+\n     \"may be due to a slow or bad network connection. Possible fixes:\\n\"+\n     \"</p>\\n\"+\n     \"<ul>\\n\"+\n     \"<li>re-rerun `output_notebook()` to attempt to load from CDN again, or</li>\\n\"+\n     \"<li>use INLINE resources instead, as so:</li>\\n\"+\n     \"</ul>\\n\"+\n     \"<code>\\n\"+\n     \"from bokeh.resources import INLINE\\n\"+\n     \"output_notebook(resources=INLINE)\\n\"+\n     \"</code>\\n\"+\n     \"</div>\"}};\n\n  function display_loaded() {\n    var el = document.getElementById(\"3a41d8fc-aadf-427a-a990-a8279320a1bd\");\n    if (el != null) {\n      el.textContent = \"BokehJS is loading...\";\n    }\n    if (root.Bokeh !== undefined) {\n      if (el != null) {\n        el.textContent = \"BokehJS \" + root.Bokeh.version + \" successfully loaded.\";\n      }\n    } else if (Date.now() < root._bokeh_timeout) {\n      setTimeout(display_loaded, 100)\n    }\n  }\n\n\n  function run_callbacks() {\n    try {\n      root._bokeh_onload_callbacks.forEach(function(callback) { callback() });\n    }\n    finally {\n      delete root._bokeh_onload_callbacks\n    }\n    console.info(\"Bokeh: all callbacks have finished\");\n  }\n\n  function load_libs(js_urls, callback) {\n    root._bokeh_onload_callbacks.push(callback);\n    if (root._bokeh_is_loading > 0) {\n      console.log(\"Bokeh: BokehJS is being loaded, scheduling callback at\", now());\n      return null;\n    }\n    if (js_urls == null || js_urls.length === 0) {\n      run_callbacks();\n      return null;\n    }\n    console.log(\"Bokeh: BokehJS not loaded, scheduling load and callback at\", now());\n    root._bokeh_is_loading = js_urls.length;\n    for (var i = 0; i < js_urls.length; i++) {\n      var url = js_urls[i];\n      var s = document.createElement('script');\n      s.src = url;\n      s.async = false;\n      s.onreadystatechange = s.onload = function() {\n        root._bokeh_is_loading--;\n        if (root._bokeh_is_loading === 0) {\n          console.log(\"Bokeh: all BokehJS libraries loaded\");\n          run_callbacks()\n        }\n      };\n      s.onerror = function() {\n        console.warn(\"failed to load library \" + url);\n      };\n      console.log(\"Bokeh: injecting script tag for BokehJS library: \", url);\n      document.getElementsByTagName(\"head\")[0].appendChild(s);\n    }\n  };var element = document.getElementById(\"3a41d8fc-aadf-427a-a990-a8279320a1bd\");\n  if (element == null) {\n    console.log(\"Bokeh: ERROR: autoload.js configured with elementid '3a41d8fc-aadf-427a-a990-a8279320a1bd' but no matching script tag was found. \")\n    return false;\n  }\n\n  var js_urls = [\"https://cdn.pydata.org/bokeh/release/bokeh-0.13.0.min.js\", \"https://cdn.pydata.org/bokeh/release/bokeh-widgets-0.13.0.min.js\", \"https://cdn.pydata.org/bokeh/release/bokeh-tables-0.13.0.min.js\", \"https://cdn.pydata.org/bokeh/release/bokeh-gl-0.13.0.min.js\"];\n\n  var inline_js = [\n    function(Bokeh) {\n      Bokeh.set_log_level(\"info\");\n    },\n    \n    function(Bokeh) {\n      \n    },\n    function(Bokeh) {\n      console.log(\"Bokeh: injecting CSS: https://cdn.pydata.org/bokeh/release/bokeh-0.13.0.min.css\");\n      Bokeh.embed.inject_css(\"https://cdn.pydata.org/bokeh/release/bokeh-0.13.0.min.css\");\n      console.log(\"Bokeh: injecting CSS: https://cdn.pydata.org/bokeh/release/bokeh-widgets-0.13.0.min.css\");\n      Bokeh.embed.inject_css(\"https://cdn.pydata.org/bokeh/release/bokeh-widgets-0.13.0.min.css\");\n      console.log(\"Bokeh: injecting CSS: https://cdn.pydata.org/bokeh/release/bokeh-tables-0.13.0.min.css\");\n      Bokeh.embed.inject_css(\"https://cdn.pydata.org/bokeh/release/bokeh-tables-0.13.0.min.css\");\n    }\n  ];\n\n  function run_inline_js() {\n    \n    if ((root.Bokeh !== undefined) || (force === true)) {\n      for (var i = 0; i < inline_js.length; i++) {\n        inline_js[i].call(root, root.Bokeh);\n      }if (force === true) {\n        display_loaded();\n      }} else if (Date.now() < root._bokeh_timeout) {\n      setTimeout(run_inline_js, 100);\n    } else if (!root._bokeh_failed_load) {\n      console.log(\"Bokeh: BokehJS failed to load within specified timeout.\");\n      root._bokeh_failed_load = true;\n    } else if (force !== true) {\n      var cell = $(document.getElementById(\"3a41d8fc-aadf-427a-a990-a8279320a1bd\")).parents('.cell').data().cell;\n      cell.output_area.append_execute_result(NB_LOAD_WARNING)\n    }\n\n  }\n\n  if (root._bokeh_is_loading === 0) {\n    console.log(\"Bokeh: BokehJS loaded, going straight to plotting\");\n    run_inline_js();\n  } else {\n    load_libs(js_urls, function() {\n      console.log(\"Bokeh: BokehJS plotting callback run at\", now());\n      run_inline_js();\n    });\n  }\n}(window));"
     },
     "metadata": {},
     "output_type": "display_data"
    },
    {
     "data": {
      "text/html": [
       "\n",
       "\n",
       "\n",
       "\n",
       "\n",
       "\n",
       "  <div class=\"bk-root\" id=\"f095ceff-651d-4c48-83b3-5ed66291916a\"></div>\n"
      ]
     },
     "metadata": {},
     "output_type": "display_data"
    },
    {
     "data": {
      "application/javascript": [
       "(function(root) {\n",
       "  function embed_document(root) {\n",
       "    \n",
       "  var docs_json = {\"ab5af663-39f8-4a26-ad9d-c4d95941a61f\":{\"roots\":{\"references\":[{\"attributes\":{\"callback\":null,\"data\":{\"x\":[0,0.0],\"y\":[0,0.0]},\"selected\":{\"id\":\"212bcddc-5527-454b-89a4-4d8d21252d3f\",\"type\":\"Selection\"},\"selection_policy\":{\"id\":\"b9b83761-48bd-4622-af45-fb8ee65bf5a3\",\"type\":\"UnionRenderers\"}},\"id\":\"0e17ca89-a5fd-44dc-a01a-a2aa18189e24\",\"type\":\"ColumnDataSource\"},{\"attributes\":{},\"id\":\"e6978f21-9dc6-4312-aef5-4cc5fe16b03c\",\"type\":\"UnionRenderers\"},{\"attributes\":{\"callback\":null,\"data\":{\"x\":[0,0.613490916965896],\"y\":[0,0.18923688612195427]},\"selected\":{\"id\":\"5a41e7db-f1f3-4eb2-b835-56b0a58c0a43\",\"type\":\"Selection\"},\"selection_policy\":{\"id\":\"6f39bbfe-e082-4cff-981e-d7cf8b09e559\",\"type\":\"UnionRenderers\"}},\"id\":\"33c46a79-1fc7-44a4-ab74-da1ac82e9edf\",\"type\":\"ColumnDataSource\"},{\"attributes\":{\"bottom_units\":\"screen\",\"fill_alpha\":{\"value\":0.5},\"fill_color\":{\"value\":\"lightgrey\"},\"left_units\":\"screen\",\"level\":\"overlay\",\"line_alpha\":{\"value\":1.0},\"line_color\":{\"value\":\"black\"},\"line_dash\":[4,4],\"line_width\":{\"value\":2},\"plot\":null,\"render_mode\":\"css\",\"right_units\":\"screen\",\"top_units\":\"screen\"},\"id\":\"6d06eb2f-4861-4bb7-9008-46964aec6bc9\",\"type\":\"BoxAnnotation\"},{\"attributes\":{},\"id\":\"9d3e04fe-050a-48a7-b799-29170fd32a43\",\"type\":\"Selection\"},{\"attributes\":{},\"id\":\"9f5e29aa-a777-488a-87f0-f27c17352059\",\"type\":\"PanTool\"},{\"attributes\":{},\"id\":\"af7c6de8-6ecc-467e-8960-bcd2bddea717\",\"type\":\"UnionRenderers\"},{\"attributes\":{\"line_alpha\":0.3109946548938751,\"line_color\":\"green\",\"x\":{\"field\":\"x\"},\"y\":{\"field\":\"y\"}},\"id\":\"a44e2d76-043f-4076-bc36-bead180aeafd\",\"type\":\"Line\"},{\"attributes\":{},\"id\":\"06abf077-844d-4f3a-a4dd-d5351bc77233\",\"type\":\"Selection\"},{\"attributes\":{},\"id\":\"8348918c-04f9-436f-8cf0-dd995da572be\",\"type\":\"WheelZoomTool\"},{\"attributes\":{},\"id\":\"0f6a8e99-1879-4978-a30a-45d1ed80321b\",\"type\":\"UnionRenderers\"},{\"attributes\":{\"overlay\":{\"id\":\"6d06eb2f-4861-4bb7-9008-46964aec6bc9\",\"type\":\"BoxAnnotation\"}},\"id\":\"b5a2e717-319f-487e-acfd-63c6fb45a392\",\"type\":\"BoxZoomTool\"},{\"attributes\":{},\"id\":\"372d26e0-501f-40ac-9b10-3b96424f2e0c\",\"type\":\"Selection\"},{\"attributes\":{},\"id\":\"bd27d7d3-38a1-4c20-becc-b3a1d2d11d0d\",\"type\":\"SaveTool\"},{\"attributes\":{},\"id\":\"6e4e2d0b-b59a-46c1-b899-66b1bf48b180\",\"type\":\"UnionRenderers\"},{\"attributes\":{},\"id\":\"3df32c3e-41b2-41c8-a3c0-c3596b9485eb\",\"type\":\"ResetTool\"},{\"attributes\":{},\"id\":\"fe9ea516-1e18-4afd-afc0-b9888a342a1e\",\"type\":\"Selection\"},{\"attributes\":{},\"id\":\"12c288ac-03f7-4916-ab71-17d656eb262e\",\"type\":\"HelpTool\"},{\"attributes\":{},\"id\":\"d92d5107-d607-4445-9798-b4592eccb71e\",\"type\":\"UnionRenderers\"},{\"attributes\":{\"data_source\":{\"id\":\"0e17ca89-a5fd-44dc-a01a-a2aa18189e24\",\"type\":\"ColumnDataSource\"},\"glyph\":{\"id\":\"28c42bad-2eb4-47aa-a704-12cc878b33bb\",\"type\":\"Line\"},\"hover_glyph\":null,\"muted_glyph\":null,\"nonselection_glyph\":{\"id\":\"aad65eb1-f381-4f8e-b4bb-7db3df4e6338\",\"type\":\"Line\"},\"selection_glyph\":null,\"view\":{\"id\":\"53855f2c-9454-4c90-bdc1-fcd77b0ef21c\",\"type\":\"CDSView\"}},\"id\":\"a8b25a26-5efa-4a4d-9fc1-a0df4974b61a\",\"type\":\"GlyphRenderer\"},{\"attributes\":{},\"id\":\"33f20cbf-05fb-4115-a3ef-17dcc8d99a9f\",\"type\":\"Selection\"},{\"attributes\":{\"line_color\":\"green\",\"x\":{\"field\":\"x\"},\"y\":{\"field\":\"y\"}},\"id\":\"28c42bad-2eb4-47aa-a704-12cc878b33bb\",\"type\":\"Line\"},{\"attributes\":{},\"id\":\"83c57154-4cb4-4e15-8e0c-e190117930e1\",\"type\":\"UnionRenderers\"},{\"attributes\":{\"line_alpha\":0.1,\"line_color\":\"#1f77b4\",\"x\":{\"field\":\"x\"},\"y\":{\"field\":\"y\"}},\"id\":\"aad65eb1-f381-4f8e-b4bb-7db3df4e6338\",\"type\":\"Line\"},{\"attributes\":{},\"id\":\"c4ab4e0b-63ff-4f35-a9c1-772122afe5f1\",\"type\":\"Selection\"},{\"attributes\":{\"source\":{\"id\":\"0e17ca89-a5fd-44dc-a01a-a2aa18189e24\",\"type\":\"ColumnDataSource\"}},\"id\":\"53855f2c-9454-4c90-bdc1-fcd77b0ef21c\",\"type\":\"CDSView\"},{\"attributes\":{},\"id\":\"b5f85f0c-a196-42ed-b1f8-aa3493ccdcce\",\"type\":\"UnionRenderers\"},{\"attributes\":{\"callback\":null,\"data\":{\"x\":[0,0.5478582260713079],\"y\":[0,0.37352341395090544]},\"selected\":{\"id\":\"4ba0c5a8-9294-4e7f-a60b-96b25f12c899\",\"type\":\"Selection\"},\"selection_policy\":{\"id\":\"462702ee-79c6-4990-8aca-4bcdc38a79aa\",\"type\":\"UnionRenderers\"}},\"id\":\"fd67f9cb-7967-472c-80e4-e884bc976bb9\",\"type\":\"ColumnDataSource\"},{\"attributes\":{},\"id\":\"cabb4a76-e035-46c5-acc6-8ba2f280be75\",\"type\":\"Selection\"},{\"attributes\":{\"line_alpha\":0.3579862117767334,\"line_color\":\"green\",\"x\":{\"field\":\"x\"},\"y\":{\"field\":\"y\"}},\"id\":\"0db13210-083e-4e0e-8dd7-5faa9448d9b7\",\"type\":\"Line\"},{\"attributes\":{},\"id\":\"035cb731-d429-4032-a20f-f75a13d9471f\",\"type\":\"UnionRenderers\"},{\"attributes\":{\"line_alpha\":0.1,\"line_color\":\"#1f77b4\",\"x\":{\"field\":\"x\"},\"y\":{\"field\":\"y\"}},\"id\":\"5ab91594-009f-4804-8f33-71112e99a115\",\"type\":\"Line\"},{\"attributes\":{},\"id\":\"afc13840-b4ed-4709-8981-46e7751bf4d1\",\"type\":\"Selection\"},{\"attributes\":{\"data_source\":{\"id\":\"33c46a79-1fc7-44a4-ab74-da1ac82e9edf\",\"type\":\"ColumnDataSource\"},\"glyph\":{\"id\":\"0db13210-083e-4e0e-8dd7-5faa9448d9b7\",\"type\":\"Line\"},\"hover_glyph\":null,\"muted_glyph\":null,\"nonselection_glyph\":{\"id\":\"5ab91594-009f-4804-8f33-71112e99a115\",\"type\":\"Line\"},\"selection_glyph\":null,\"view\":{\"id\":\"618adb66-1e5a-4689-9a41-dc1c3aaac2af\",\"type\":\"CDSView\"}},\"id\":\"3a863df7-a2dc-4745-a655-e0f8fbc0c673\",\"type\":\"GlyphRenderer\"},{\"attributes\":{},\"id\":\"9f2449de-67cc-42f2-8a2d-0912f5e2da3c\",\"type\":\"UnionRenderers\"},{\"attributes\":{\"source\":{\"id\":\"33c46a79-1fc7-44a4-ab74-da1ac82e9edf\",\"type\":\"ColumnDataSource\"}},\"id\":\"618adb66-1e5a-4689-9a41-dc1c3aaac2af\",\"type\":\"CDSView\"},{\"attributes\":{},\"id\":\"cf2881a8-2863-4bf1-9ba4-4ae16bf44d5f\",\"type\":\"Selection\"},{\"attributes\":{\"callback\":null,\"data\":{\"x\":[0,0.42958780609982616],\"y\":[0,0.5386860703927181]},\"selected\":{\"id\":\"4bb94526-452a-4b6b-af5e-97173cc9bbd2\",\"type\":\"Selection\"},\"selection_policy\":{\"id\":\"cafeee86-f1c8-4ca8-aced-099f4402db56\",\"type\":\"UnionRenderers\"}},\"id\":\"52ae0443-ef8d-4aaa-9592-df4d0401fb2e\",\"type\":\"ColumnDataSource\"},{\"attributes\":{},\"id\":\"3412b27e-c7f6-4282-9acd-08ca10e303b7\",\"type\":\"UnionRenderers\"},{\"attributes\":{\"data_source\":{\"id\":\"cdec70e0-cfe8-4403-b3d2-a584e83cba54\",\"type\":\"ColumnDataSource\"},\"glyph\":{\"id\":\"0a55f5a8-d882-4cad-a4a5-970b4bc70a5b\",\"type\":\"Line\"},\"hover_glyph\":null,\"muted_glyph\":null,\"nonselection_glyph\":{\"id\":\"3ee3c72c-ea52-456b-ae50-4a486bfa6797\",\"type\":\"Line\"},\"selection_glyph\":null,\"view\":{\"id\":\"8d97260a-a746-49b9-b0e3-2caecb1841d8\",\"type\":\"CDSView\"}},\"id\":\"d77524e0-5459-4255-aed6-3ff2be7d054f\",\"type\":\"GlyphRenderer\"},{\"attributes\":{},\"id\":\"99c1a8f0-454b-4db8-96ee-9e3e86113b83\",\"type\":\"Selection\"},{\"attributes\":{\"line_alpha\":0.1,\"line_color\":\"#1f77b4\",\"x\":{\"field\":\"x\"},\"y\":{\"field\":\"y\"}},\"id\":\"eaddf280-c7fb-4d77-badd-15d151e0869b\",\"type\":\"Line\"},{\"attributes\":{},\"id\":\"580dffd8-50fd-4d18-b716-a2bc2e0a48af\",\"type\":\"UnionRenderers\"},{\"attributes\":{\"data_source\":{\"id\":\"52ae0443-ef8d-4aaa-9592-df4d0401fb2e\",\"type\":\"ColumnDataSource\"},\"glyph\":{\"id\":\"a44e2d76-043f-4076-bc36-bead180aeafd\",\"type\":\"Line\"},\"hover_glyph\":null,\"muted_glyph\":null,\"nonselection_glyph\":{\"id\":\"eaddf280-c7fb-4d77-badd-15d151e0869b\",\"type\":\"Line\"},\"selection_glyph\":null,\"view\":{\"id\":\"8ee867a7-d1eb-4010-974c-628f1cc8105b\",\"type\":\"CDSView\"}},\"id\":\"7a2b5579-7d35-4eeb-878c-ce2cc5934d0c\",\"type\":\"GlyphRenderer\"},{\"attributes\":{},\"id\":\"892849bd-dc95-4edf-b8f8-564ab7e6fc0f\",\"type\":\"Selection\"},{\"attributes\":{\"source\":{\"id\":\"52ae0443-ef8d-4aaa-9592-df4d0401fb2e\",\"type\":\"ColumnDataSource\"}},\"id\":\"8ee867a7-d1eb-4010-974c-628f1cc8105b\",\"type\":\"CDSView\"},{\"attributes\":{\"callback\":null,\"data\":{\"x\":[0,0.052171209742743634],\"y\":[0,0.6961764125028576]},\"selected\":{\"id\":\"36399499-c08f-47d5-b595-3386acd19597\",\"type\":\"Selection\"},\"selection_policy\":{\"id\":\"67df1876-a382-4274-9e4b-7dba3b1bec56\",\"type\":\"UnionRenderers\"}},\"id\":\"68f07f06-ab10-4f93-a932-3724eee3bb73\",\"type\":\"ColumnDataSource\"},{\"attributes\":{\"line_alpha\":0.3058239221572876,\"line_color\":\"green\",\"x\":{\"field\":\"x\"},\"y\":{\"field\":\"y\"}},\"id\":\"9678a439-6d11-465d-9cd8-830a6077b71b\",\"type\":\"Line\"},{\"attributes\":{\"line_alpha\":0.1,\"line_color\":\"#1f77b4\",\"x\":{\"field\":\"x\"},\"y\":{\"field\":\"y\"}},\"id\":\"f9aba3a0-8edc-43f7-a325-ff1a6ba350a7\",\"type\":\"Line\"},{\"attributes\":{\"data_source\":{\"id\":\"011d671a-c001-4776-a550-c7ae0fbc5f18\",\"type\":\"ColumnDataSource\"},\"glyph\":{\"id\":\"9678a439-6d11-465d-9cd8-830a6077b71b\",\"type\":\"Line\"},\"hover_glyph\":null,\"muted_glyph\":null,\"nonselection_glyph\":{\"id\":\"f9aba3a0-8edc-43f7-a325-ff1a6ba350a7\",\"type\":\"Line\"},\"selection_glyph\":null,\"view\":{\"id\":\"f19a8f25-9fd3-49d3-a89f-d8df840f3623\",\"type\":\"CDSView\"}},\"id\":\"b6b5e971-cc6b-4ddf-8d9b-4e136c38068c\",\"type\":\"GlyphRenderer\"},{\"attributes\":{\"source\":{\"id\":\"011d671a-c001-4776-a550-c7ae0fbc5f18\",\"type\":\"ColumnDataSource\"}},\"id\":\"f19a8f25-9fd3-49d3-a89f-d8df840f3623\",\"type\":\"CDSView\"},{\"attributes\":{\"callback\":null,\"data\":{\"x\":[0,-0.15831636052808218],\"y\":[0,0.6936292963077788]},\"selected\":{\"id\":\"1b2443b4-1870-402a-8a67-815b330016a8\",\"type\":\"Selection\"},\"selection_policy\":{\"id\":\"c0cf2235-0827-487e-a5f2-3a2d450f236d\",\"type\":\"UnionRenderers\"}},\"id\":\"b04d5308-9aa6-4b04-aeb2-d686d1f604a2\",\"type\":\"ColumnDataSource\"},{\"attributes\":{\"line_alpha\":0.30187147855758667,\"line_color\":\"green\",\"x\":{\"field\":\"x\"},\"y\":{\"field\":\"y\"}},\"id\":\"e335f20d-185b-46da-a674-8d0e5b7bf851\",\"type\":\"Line\"},{\"attributes\":{\"line_alpha\":0.1,\"line_color\":\"#1f77b4\",\"x\":{\"field\":\"x\"},\"y\":{\"field\":\"y\"}},\"id\":\"793fb025-e43a-46b8-938a-0325ac56e47a\",\"type\":\"Line\"},{\"attributes\":{\"data_source\":{\"id\":\"68f07f06-ab10-4f93-a932-3724eee3bb73\",\"type\":\"ColumnDataSource\"},\"glyph\":{\"id\":\"e335f20d-185b-46da-a674-8d0e5b7bf851\",\"type\":\"Line\"},\"hover_glyph\":null,\"muted_glyph\":null,\"nonselection_glyph\":{\"id\":\"793fb025-e43a-46b8-938a-0325ac56e47a\",\"type\":\"Line\"},\"selection_glyph\":null,\"view\":{\"id\":\"205346fa-e93b-4060-bf31-6788b10f3af3\",\"type\":\"CDSView\"}},\"id\":\"19abf9d6-2c92-4238-8ca3-16b520f8fe4a\",\"type\":\"GlyphRenderer\"},{\"attributes\":{\"source\":{\"id\":\"68f07f06-ab10-4f93-a932-3724eee3bb73\",\"type\":\"ColumnDataSource\"}},\"id\":\"205346fa-e93b-4060-bf31-6788b10f3af3\",\"type\":\"CDSView\"},{\"attributes\":{\"callback\":null,\"data\":{\"x\":[0,-0.36012947559356673],\"y\":[0,0.6237625490311939]},\"selected\":{\"id\":\"dc115cbf-3f5d-444a-8fb4-b077a8276568\",\"type\":\"Selection\"},\"selection_policy\":{\"id\":\"f0ca0c41-5dad-48b0-9fa5-c99a424465e2\",\"type\":\"UnionRenderers\"}},\"id\":\"e490d6aa-aab4-4c1e-b619-c5176490de2b\",\"type\":\"ColumnDataSource\"},{\"attributes\":{},\"id\":\"63ae09c0-6be5-42fa-89d5-f0c55d8b465a\",\"type\":\"Selection\"},{\"attributes\":{\"line_alpha\":0.28853273391723633,\"line_color\":\"green\",\"x\":{\"field\":\"x\"},\"y\":{\"field\":\"y\"}},\"id\":\"a4488b3b-de05-4d01-8c1a-3678f0dbc3fc\",\"type\":\"Line\"},{\"attributes\":{\"line_alpha\":0.1,\"line_color\":\"#1f77b4\",\"x\":{\"field\":\"x\"},\"y\":{\"field\":\"y\"}},\"id\":\"486043fa-91c5-49f4-b9a7-3c6ca4b2567d\",\"type\":\"Line\"},{\"attributes\":{\"data_source\":{\"id\":\"b04d5308-9aa6-4b04-aeb2-d686d1f604a2\",\"type\":\"ColumnDataSource\"},\"glyph\":{\"id\":\"a4488b3b-de05-4d01-8c1a-3678f0dbc3fc\",\"type\":\"Line\"},\"hover_glyph\":null,\"muted_glyph\":null,\"nonselection_glyph\":{\"id\":\"486043fa-91c5-49f4-b9a7-3c6ca4b2567d\",\"type\":\"Line\"},\"selection_glyph\":null,\"view\":{\"id\":\"e7da4f25-0e8a-4855-b67f-d80b2543dab8\",\"type\":\"CDSView\"}},\"id\":\"982ec831-a96f-4dee-808e-72ff8c1606da\",\"type\":\"GlyphRenderer\"},{\"attributes\":{\"source\":{\"id\":\"b04d5308-9aa6-4b04-aeb2-d686d1f604a2\",\"type\":\"ColumnDataSource\"}},\"id\":\"e7da4f25-0e8a-4855-b67f-d80b2543dab8\",\"type\":\"CDSView\"},{\"attributes\":{\"callback\":null,\"data\":{\"x\":[0,-0.5397994584378649],\"y\":[0,0.5008607024990661]},\"selected\":{\"id\":\"95333739-c568-4d95-8c0d-44a5ae56938d\",\"type\":\"Selection\"},\"selection_policy\":{\"id\":\"a2634811-da1c-4e71-98d2-c31706c90dde\",\"type\":\"UnionRenderers\"}},\"id\":\"d0fea1cf-174b-4ae8-ba9a-d4fc82b32438\",\"type\":\"ColumnDataSource\"},{\"attributes\":{\"line_alpha\":0.2797410488128662,\"line_color\":\"green\",\"x\":{\"field\":\"x\"},\"y\":{\"field\":\"y\"}},\"id\":\"68fdf70b-1ac9-4a97-9d96-227ce4063632\",\"type\":\"Line\"},{\"attributes\":{},\"id\":\"b8244da6-48a7-47b7-a20b-d491f4e80557\",\"type\":\"UnionRenderers\"},{\"attributes\":{\"line_alpha\":0.1,\"line_color\":\"#1f77b4\",\"x\":{\"field\":\"x\"},\"y\":{\"field\":\"y\"}},\"id\":\"89d97114-d619-4ea5-8f06-f21c2b6d6b77\",\"type\":\"Line\"},{\"attributes\":{\"data_source\":{\"id\":\"e490d6aa-aab4-4c1e-b619-c5176490de2b\",\"type\":\"ColumnDataSource\"},\"glyph\":{\"id\":\"68fdf70b-1ac9-4a97-9d96-227ce4063632\",\"type\":\"Line\"},\"hover_glyph\":null,\"muted_glyph\":null,\"nonselection_glyph\":{\"id\":\"89d97114-d619-4ea5-8f06-f21c2b6d6b77\",\"type\":\"Line\"},\"selection_glyph\":null,\"view\":{\"id\":\"d972198f-e932-495b-9734-0912b01531a7\",\"type\":\"CDSView\"}},\"id\":\"e346218c-f591-44a3-a359-14f5b2cf5380\",\"type\":\"GlyphRenderer\"},{\"attributes\":{\"source\":{\"id\":\"e490d6aa-aab4-4c1e-b619-c5176490de2b\",\"type\":\"ColumnDataSource\"}},\"id\":\"d972198f-e932-495b-9734-0912b01531a7\",\"type\":\"CDSView\"},{\"attributes\":{\"callback\":null,\"data\":{\"x\":[0,-0.6703059513297831],\"y\":[0,0.32280233299605826]},\"selected\":{\"id\":\"802fc8a2-e483-4aab-9aa5-830262d7898f\",\"type\":\"Selection\"},\"selection_policy\":{\"id\":\"efac548b-51f9-4e9f-8b36-5a3aeb97903d\",\"type\":\"UnionRenderers\"}},\"id\":\"18e8d111-59fc-4a82-89b1-2819ef75ef90\",\"type\":\"ColumnDataSource\"},{\"attributes\":{\"line_alpha\":0.26362720131874084,\"line_color\":\"green\",\"x\":{\"field\":\"x\"},\"y\":{\"field\":\"y\"}},\"id\":\"3af73305-d571-4907-85c6-647e5980b1b8\",\"type\":\"Line\"},{\"attributes\":{\"line_alpha\":0.1,\"line_color\":\"#1f77b4\",\"x\":{\"field\":\"x\"},\"y\":{\"field\":\"y\"}},\"id\":\"9160503b-2b06-4d8a-8d68-4686b9b19897\",\"type\":\"Line\"},{\"attributes\":{\"data_source\":{\"id\":\"d0fea1cf-174b-4ae8-ba9a-d4fc82b32438\",\"type\":\"ColumnDataSource\"},\"glyph\":{\"id\":\"3af73305-d571-4907-85c6-647e5980b1b8\",\"type\":\"Line\"},\"hover_glyph\":null,\"muted_glyph\":null,\"nonselection_glyph\":{\"id\":\"9160503b-2b06-4d8a-8d68-4686b9b19897\",\"type\":\"Line\"},\"selection_glyph\":null,\"view\":{\"id\":\"966a9288-c963-4b77-91e9-d02d9b2371a9\",\"type\":\"CDSView\"}},\"id\":\"a1242c67-4448-49bb-922c-d29a4e0780cf\",\"type\":\"GlyphRenderer\"},{\"attributes\":{\"source\":{\"id\":\"d0fea1cf-174b-4ae8-ba9a-d4fc82b32438\",\"type\":\"ColumnDataSource\"}},\"id\":\"966a9288-c963-4b77-91e9-d02d9b2371a9\",\"type\":\"CDSView\"},{\"attributes\":{\"callback\":null,\"data\":{\"x\":[0,-0.7363500321953417],\"y\":[0,0.11098690957709546]},\"selected\":{\"id\":\"63ae09c0-6be5-42fa-89d5-f0c55d8b465a\",\"type\":\"Selection\"},\"selection_policy\":{\"id\":\"aefa07d7-0b03-462c-b6a5-a8d31fd9842a\",\"type\":\"UnionRenderers\"}},\"id\":\"bb753095-15dc-4f0e-b0b3-f977096b3abb\",\"type\":\"ColumnDataSource\"},{\"attributes\":{\"line_alpha\":0.2560165226459503,\"line_color\":\"green\",\"x\":{\"field\":\"x\"},\"y\":{\"field\":\"y\"}},\"id\":\"45270b6a-f56e-47ab-8b78-f8e02a72c465\",\"type\":\"Line\"},{\"attributes\":{\"line_alpha\":0.1,\"line_color\":\"#1f77b4\",\"x\":{\"field\":\"x\"},\"y\":{\"field\":\"y\"}},\"id\":\"2dea3ae8-9315-4c97-bc8c-a520a16bbdcd\",\"type\":\"Line\"},{\"attributes\":{\"data_source\":{\"id\":\"18e8d111-59fc-4a82-89b1-2819ef75ef90\",\"type\":\"ColumnDataSource\"},\"glyph\":{\"id\":\"45270b6a-f56e-47ab-8b78-f8e02a72c465\",\"type\":\"Line\"},\"hover_glyph\":null,\"muted_glyph\":null,\"nonselection_glyph\":{\"id\":\"2dea3ae8-9315-4c97-bc8c-a520a16bbdcd\",\"type\":\"Line\"},\"selection_glyph\":null,\"view\":{\"id\":\"593e6392-90d7-40dd-aa24-b06010e81644\",\"type\":\"CDSView\"}},\"id\":\"2645601f-7aa1-4195-986f-f9e82c461843\",\"type\":\"GlyphRenderer\"},{\"attributes\":{\"source\":{\"id\":\"18e8d111-59fc-4a82-89b1-2819ef75ef90\",\"type\":\"ColumnDataSource\"}},\"id\":\"593e6392-90d7-40dd-aa24-b06010e81644\",\"type\":\"CDSView\"},{\"attributes\":{\"callback\":null,\"data\":{\"x\":[0,-0.7372090373411787],\"y\":[0,-0.11111638377045245]},\"selected\":{\"id\":\"865cb3ba-eb4e-42d1-8208-fc7edfb1a445\",\"type\":\"Selection\"},\"selection_policy\":{\"id\":\"b8244da6-48a7-47b7-a20b-d491f4e80557\",\"type\":\"UnionRenderers\"}},\"id\":\"7212ed78-5897-445f-a9f0-9ea2c3c4bb27\",\"type\":\"ColumnDataSource\"},{\"attributes\":{\"line_alpha\":0.2553326487541199,\"line_color\":\"green\",\"x\":{\"field\":\"x\"},\"y\":{\"field\":\"y\"}},\"id\":\"f8d48a88-12ae-4e5b-abf1-99b024c99ee5\",\"type\":\"Line\"},{\"attributes\":{\"line_alpha\":0.1,\"line_color\":\"#1f77b4\",\"x\":{\"field\":\"x\"},\"y\":{\"field\":\"y\"}},\"id\":\"b364fcbb-5b45-41bd-99c8-cb5731c894bd\",\"type\":\"Line\"},{\"attributes\":{\"data_source\":{\"id\":\"bb753095-15dc-4f0e-b0b3-f977096b3abb\",\"type\":\"ColumnDataSource\"},\"glyph\":{\"id\":\"f8d48a88-12ae-4e5b-abf1-99b024c99ee5\",\"type\":\"Line\"},\"hover_glyph\":null,\"muted_glyph\":null,\"nonselection_glyph\":{\"id\":\"b364fcbb-5b45-41bd-99c8-cb5731c894bd\",\"type\":\"Line\"},\"selection_glyph\":null,\"view\":{\"id\":\"7d609d48-4b69-4665-8766-6bdd6502c3d7\",\"type\":\"CDSView\"}},\"id\":\"94ff993b-6707-40e5-9a32-e3a1aa6b1f50\",\"type\":\"GlyphRenderer\"},{\"attributes\":{\"source\":{\"id\":\"bb753095-15dc-4f0e-b0b3-f977096b3abb\",\"type\":\"ColumnDataSource\"}},\"id\":\"7d609d48-4b69-4665-8766-6bdd6502c3d7\",\"type\":\"CDSView\"},{\"attributes\":{\"callback\":null,\"data\":{\"x\":[0,-0.6765789810980962],\"y\":[0,-0.32582326491550173]},\"selected\":{\"id\":\"9d3e04fe-050a-48a7-b799-29170fd32a43\",\"type\":\"Selection\"},\"selection_policy\":{\"id\":\"e6978f21-9dc6-4312-aef5-4cc5fe16b03c\",\"type\":\"UnionRenderers\"}},\"id\":\"bbae932b-bb10-47d5-9d2a-bbf38cd0f173\",\"type\":\"ColumnDataSource\"},{\"attributes\":{\"callback\":null,\"data\":{\"index\":[0,1,2,3,4,5,6,7,8,9,10,11,12,13,14,15,16,17,18,19,20],\"word\":[\"driven\",\"offset\",\"hair\",\"femal\",\"tea\",\"equal\",\"tre\",\"habl\",\"rr\",\"bw\",\"cca\",\"miss\",\"tresemm\",\"qtip\",\"lever\",\"went\",\"shortag\",\"packag\",\"ic\",\"pw\",\"skin\"],\"x\":{\"__ndarray__\":\"AAAAAAAAAADSXhi0t6HjP1ZEevkNiOE/mGJ92l1+2z9UuAyhKTvQPweTRk8vtqo/4OZx47VDxL/9//9/XAzXv9hzjIMJRuG/mtFodyVz5b9TAFbxLZDnv61FNmg3l+e/QEaf9oim5b9lCbiR16HhvwYAAOiSVti/OXBRj+nDxb8Gj7xOZ1StP6yGytjz+tE/UyBoR6vZ3j/sHF4sE3PkP5jY6agFqec/\",\"dtype\":\"float64\",\"shape\":[21]},\"y\":{\"__ndarray__\":\"AAAAAAAAAAASm4sO6jjIP/Vmzb/O59c/JLjkkeo84T/tFCNBl63kP7xIfsETR+Y/mA/mEDYy5j/X35Hg3PXjP+64IgYNB+A/u5jSHcuo1D+h8Opao2m8P2sIWJIfcry/MKLF0kna1L8nAZq+O1zgv/RlDtLVE+W/y/VyJwnX5783UcLqCnbov5lDt90Q6Oa/eMSoj65X4796iM1gbeLbvxe+TSNgMc2/\",\"dtype\":\"float64\",\"shape\":[21]}},\"selected\":{\"id\":\"99c1a8f0-454b-4db8-96ee-9e3e86113b83\",\"type\":\"Selection\"},\"selection_policy\":{\"id\":\"3412b27e-c7f6-4282-9acd-08ca10e303b7\",\"type\":\"UnionRenderers\"}},\"id\":\"d3aa7c1b-c157-40cb-93dd-104ab10d88c4\",\"type\":\"ColumnDataSource\"},{\"attributes\":{\"line_alpha\":0.25446394085884094,\"line_color\":\"green\",\"x\":{\"field\":\"x\"},\"y\":{\"field\":\"y\"}},\"id\":\"feaac6b9-e615-415b-96e0-6f3dadf91237\",\"type\":\"Line\"},{\"attributes\":{\"line_alpha\":0.1,\"line_color\":\"#1f77b4\",\"x\":{\"field\":\"x\"},\"y\":{\"field\":\"y\"}},\"id\":\"a0b94683-2a8a-4e08-be59-3dedd21bd6fa\",\"type\":\"Line\"},{\"attributes\":{\"data_source\":{\"id\":\"7212ed78-5897-445f-a9f0-9ea2c3c4bb27\",\"type\":\"ColumnDataSource\"},\"glyph\":{\"id\":\"feaac6b9-e615-415b-96e0-6f3dadf91237\",\"type\":\"Line\"},\"hover_glyph\":null,\"muted_glyph\":null,\"nonselection_glyph\":{\"id\":\"a0b94683-2a8a-4e08-be59-3dedd21bd6fa\",\"type\":\"Line\"},\"selection_glyph\":null,\"view\":{\"id\":\"f3817a4b-e161-4519-bcd3-5252e08f65a4\",\"type\":\"CDSView\"}},\"id\":\"13ffbbac-c712-4bfe-9fb0-06b84f7b2990\",\"type\":\"GlyphRenderer\"},{\"attributes\":{\"source\":{\"id\":\"7212ed78-5897-445f-a9f0-9ea2c3c4bb27\",\"type\":\"ColumnDataSource\"}},\"id\":\"f3817a4b-e161-4519-bcd3-5252e08f65a4\",\"type\":\"CDSView\"},{\"attributes\":{\"callback\":null,\"data\":{\"x\":[0,-0.5510061117241035],\"y\":[0,-0.5112589571654426]},\"selected\":{\"id\":\"06abf077-844d-4f3a-a4dd-d5351bc77233\",\"type\":\"Selection\"},\"selection_policy\":{\"id\":\"af7c6de8-6ecc-467e-8960-bcd2bddea717\",\"type\":\"UnionRenderers\"}},\"id\":\"cdec70e0-cfe8-4403-b3d2-a584e83cba54\",\"type\":\"ColumnDataSource\"},{\"attributes\":{\"line_alpha\":0.2490539848804474,\"line_color\":\"green\",\"x\":{\"field\":\"x\"},\"y\":{\"field\":\"y\"}},\"id\":\"c09d414e-0512-4125-ad58-f7a69f08a995\",\"type\":\"Line\"},{\"attributes\":{\"line_alpha\":0.1,\"line_color\":\"#1f77b4\",\"x\":{\"field\":\"x\"},\"y\":{\"field\":\"y\"}},\"id\":\"c18deb9d-26ca-4b27-87b7-c40a81ab9f1d\",\"type\":\"Line\"},{\"attributes\":{\"data_source\":{\"id\":\"bbae932b-bb10-47d5-9d2a-bbf38cd0f173\",\"type\":\"ColumnDataSource\"},\"glyph\":{\"id\":\"c09d414e-0512-4125-ad58-f7a69f08a995\",\"type\":\"Line\"},\"hover_glyph\":null,\"muted_glyph\":null,\"nonselection_glyph\":{\"id\":\"c18deb9d-26ca-4b27-87b7-c40a81ab9f1d\",\"type\":\"Line\"},\"selection_glyph\":null,\"view\":{\"id\":\"a49a2622-f008-43c3-a1c2-4a01d31c79f0\",\"type\":\"CDSView\"}},\"id\":\"d24c9b40-3877-4d33-b9c6-ba9daa998ad0\",\"type\":\"GlyphRenderer\"},{\"attributes\":{\"source\":{\"id\":\"bbae932b-bb10-47d5-9d2a-bbf38cd0f173\",\"type\":\"ColumnDataSource\"}},\"id\":\"a49a2622-f008-43c3-a1c2-4a01d31c79f0\",\"type\":\"CDSView\"},{\"attributes\":{\"callback\":null,\"data\":{\"x\":[0,-0.38028404861688647],\"y\":[0,-0.6586712935124397]},\"selected\":{\"id\":\"372d26e0-501f-40ac-9b10-3b96424f2e0c\",\"type\":\"Selection\"},\"selection_policy\":{\"id\":\"0f6a8e99-1879-4978-a30a-45d1ed80321b\",\"type\":\"UnionRenderers\"}},\"id\":\"7777b3ff-65d5-4715-b967-bf992b123fe1\",\"type\":\"ColumnDataSource\"},{\"attributes\":{\"line_alpha\":0.24833953380584717,\"line_color\":\"green\",\"x\":{\"field\":\"x\"},\"y\":{\"field\":\"y\"}},\"id\":\"0a55f5a8-d882-4cad-a4a5-970b4bc70a5b\",\"type\":\"Line\"},{\"attributes\":{\"line_alpha\":0.1,\"line_color\":\"#1f77b4\",\"x\":{\"field\":\"x\"},\"y\":{\"field\":\"y\"}},\"id\":\"3ee3c72c-ea52-456b-ae50-4a486bfa6797\",\"type\":\"Line\"},{\"attributes\":{\"data_source\":{\"id\":\"d3aa7c1b-c157-40cb-93dd-104ab10d88c4\",\"type\":\"ColumnDataSource\"},\"glyph\":{\"id\":\"7ac8acee-9801-4c56-bfce-08aeab275bbf\",\"type\":\"Circle\"},\"hover_glyph\":null,\"muted_glyph\":null,\"nonselection_glyph\":{\"id\":\"6bda4fbb-d4ae-4e8d-a82a-cbf88eb591d4\",\"type\":\"Circle\"},\"selection_glyph\":null,\"view\":{\"id\":\"da347888-ec12-4fbf-a540-3bab0194cbf2\",\"type\":\"CDSView\"}},\"id\":\"2e6344f4-a8d7-4ae0-83b7-e82cc24ba29e\",\"type\":\"GlyphRenderer\"},{\"attributes\":{\"source\":{\"id\":\"cdec70e0-cfe8-4403-b3d2-a584e83cba54\",\"type\":\"ColumnDataSource\"}},\"id\":\"8d97260a-a746-49b9-b0e3-2caecb1841d8\",\"type\":\"CDSView\"},{\"attributes\":{\"callback\":null,\"data\":{\"x\":[0,-0.17004127023653995],\"y\":[0,-0.7449994822015297]},\"selected\":{\"id\":\"fe9ea516-1e18-4afd-afc0-b9888a342a1e\",\"type\":\"Selection\"},\"selection_policy\":{\"id\":\"6e4e2d0b-b59a-46c1-b899-66b1bf48b180\",\"type\":\"UnionRenderers\"}},\"id\":\"d7b55840-8a9f-4459-b39c-8d47f8602e0b\",\"type\":\"ColumnDataSource\"},{\"attributes\":{\"line_alpha\":0.23943190276622772,\"line_color\":\"green\",\"x\":{\"field\":\"x\"},\"y\":{\"field\":\"y\"}},\"id\":\"77ea2b29-ecc4-4697-aa76-807299d54a3f\",\"type\":\"Line\"},{\"attributes\":{\"line_alpha\":0.1,\"line_color\":\"#1f77b4\",\"x\":{\"field\":\"x\"},\"y\":{\"field\":\"y\"}},\"id\":\"ff0c6389-21ee-40ed-94aa-9165389a977a\",\"type\":\"Line\"},{\"attributes\":{\"data_source\":{\"id\":\"7777b3ff-65d5-4715-b967-bf992b123fe1\",\"type\":\"ColumnDataSource\"},\"glyph\":{\"id\":\"77ea2b29-ecc4-4697-aa76-807299d54a3f\",\"type\":\"Line\"},\"hover_glyph\":null,\"muted_glyph\":null,\"nonselection_glyph\":{\"id\":\"ff0c6389-21ee-40ed-94aa-9165389a977a\",\"type\":\"Line\"},\"selection_glyph\":null,\"view\":{\"id\":\"c7b7e101-e52b-44ce-88f7-52ade9143bc0\",\"type\":\"CDSView\"}},\"id\":\"9ccde0b0-7b12-411f-bb0a-132e5e2020a0\",\"type\":\"GlyphRenderer\"},{\"attributes\":{\"source\":{\"id\":\"7777b3ff-65d5-4715-b967-bf992b123fe1\",\"type\":\"ColumnDataSource\"}},\"id\":\"c7b7e101-e52b-44ce-88f7-52ade9143bc0\",\"type\":\"CDSView\"},{\"attributes\":{\"callback\":null,\"data\":{\"x\":[0,0.0572845729459726],\"y\":[0,-0.764409502519391]},\"selected\":{\"id\":\"33f20cbf-05fb-4115-a3ef-17dcc8d99a9f\",\"type\":\"Selection\"},\"selection_policy\":{\"id\":\"d92d5107-d607-4445-9798-b4592eccb71e\",\"type\":\"UnionRenderers\"}},\"id\":\"f1e6562b-b036-4089-ae6c-4e0def7b84ec\",\"type\":\"ColumnDataSource\"},{\"attributes\":{\"line_alpha\":0.23584146797657013,\"line_color\":\"green\",\"x\":{\"field\":\"x\"},\"y\":{\"field\":\"y\"}},\"id\":\"4d52854a-4945-46de-9a7a-9924d94b5773\",\"type\":\"Line\"},{\"attributes\":{\"line_alpha\":0.1,\"line_color\":\"#1f77b4\",\"x\":{\"field\":\"x\"},\"y\":{\"field\":\"y\"}},\"id\":\"3171fa71-38e2-4fdb-8b2a-fdc5909b43e0\",\"type\":\"Line\"},{\"attributes\":{\"data_source\":{\"id\":\"d7b55840-8a9f-4459-b39c-8d47f8602e0b\",\"type\":\"ColumnDataSource\"},\"glyph\":{\"id\":\"4d52854a-4945-46de-9a7a-9924d94b5773\",\"type\":\"Line\"},\"hover_glyph\":null,\"muted_glyph\":null,\"nonselection_glyph\":{\"id\":\"3171fa71-38e2-4fdb-8b2a-fdc5909b43e0\",\"type\":\"Line\"},\"selection_glyph\":null,\"view\":{\"id\":\"cbb3953a-e8ea-431e-a5ee-b14d378403f9\",\"type\":\"CDSView\"}},\"id\":\"e36e6fba-7c61-4dcf-bb7a-b85ff23904d5\",\"type\":\"GlyphRenderer\"},{\"attributes\":{\"source\":{\"id\":\"d7b55840-8a9f-4459-b39c-8d47f8602e0b\",\"type\":\"ColumnDataSource\"}},\"id\":\"cbb3953a-e8ea-431e-a5ee-b14d378403f9\",\"type\":\"CDSView\"},{\"attributes\":{\"callback\":null,\"data\":{\"x\":[0,0.2809419266796833],\"y\":[0,-0.7158283548725307]},\"selected\":{\"id\":\"c4ab4e0b-63ff-4f35-a9c1-772122afe5f1\",\"type\":\"Selection\"},\"selection_policy\":{\"id\":\"83c57154-4cb4-4e15-8e0c-e190117930e1\",\"type\":\"UnionRenderers\"}},\"id\":\"d61b6c62-1b2d-4aa8-bc6b-509d19c6f4b4\",\"type\":\"ColumnDataSource\"},{\"attributes\":{\"line_alpha\":0.23344705998897552,\"line_color\":\"green\",\"x\":{\"field\":\"x\"},\"y\":{\"field\":\"y\"}},\"id\":\"8fa28bc2-465e-4d67-8789-36d1b8e2dc12\",\"type\":\"Line\"},{\"attributes\":{\"line_alpha\":0.1,\"line_color\":\"#1f77b4\",\"x\":{\"field\":\"x\"},\"y\":{\"field\":\"y\"}},\"id\":\"0f79d855-026b-4686-8959-ee88a98f7c61\",\"type\":\"Line\"},{\"attributes\":{\"data_source\":{\"id\":\"f1e6562b-b036-4089-ae6c-4e0def7b84ec\",\"type\":\"ColumnDataSource\"},\"glyph\":{\"id\":\"8fa28bc2-465e-4d67-8789-36d1b8e2dc12\",\"type\":\"Line\"},\"hover_glyph\":null,\"muted_glyph\":null,\"nonselection_glyph\":{\"id\":\"0f79d855-026b-4686-8959-ee88a98f7c61\",\"type\":\"Line\"},\"selection_glyph\":null,\"view\":{\"id\":\"b4035392-3850-4310-a29b-ae0c6ef4c75e\",\"type\":\"CDSView\"}},\"id\":\"eab1bd15-2291-4adc-8633-a6569ca45ba7\",\"type\":\"GlyphRenderer\"},{\"attributes\":{\"source\":{\"id\":\"f1e6562b-b036-4089-ae6c-4e0def7b84ec\",\"type\":\"ColumnDataSource\"}},\"id\":\"b4035392-3850-4310-a29b-ae0c6ef4c75e\",\"type\":\"CDSView\"},{\"attributes\":{\"callback\":null,\"data\":{\"x\":[0,0.4820354649859883],\"y\":[0,-0.6044533544392285]},\"selected\":{\"id\":\"cabb4a76-e035-46c5-acc6-8ba2f280be75\",\"type\":\"Selection\"},\"selection_policy\":{\"id\":\"b5f85f0c-a196-42ed-b1f8-aa3493ccdcce\",\"type\":\"UnionRenderers\"}},\"id\":\"967e9940-8828-432f-b0f4-05f2d31f5176\",\"type\":\"ColumnDataSource\"},{\"attributes\":{\"line_alpha\":0.23101456463336945,\"line_color\":\"green\",\"x\":{\"field\":\"x\"},\"y\":{\"field\":\"y\"}},\"id\":\"fae67464-a5f1-413c-b800-04f2617b1541\",\"type\":\"Line\"},{\"attributes\":{\"line_alpha\":0.1,\"line_color\":\"#1f77b4\",\"x\":{\"field\":\"x\"},\"y\":{\"field\":\"y\"}},\"id\":\"6b86bb1e-f1ec-4ee0-bb19-3692c8f6d69f\",\"type\":\"Line\"},{\"attributes\":{\"data_source\":{\"id\":\"d61b6c62-1b2d-4aa8-bc6b-509d19c6f4b4\",\"type\":\"ColumnDataSource\"},\"glyph\":{\"id\":\"fae67464-a5f1-413c-b800-04f2617b1541\",\"type\":\"Line\"},\"hover_glyph\":null,\"muted_glyph\":null,\"nonselection_glyph\":{\"id\":\"6b86bb1e-f1ec-4ee0-bb19-3692c8f6d69f\",\"type\":\"Line\"},\"selection_glyph\":null,\"view\":{\"id\":\"802141bc-b1b7-412f-a6d1-9d995ea9e8ec\",\"type\":\"CDSView\"}},\"id\":\"b70ec3a0-0f83-466d-9995-06ab73a52767\",\"type\":\"GlyphRenderer\"},{\"attributes\":{\"source\":{\"id\":\"d61b6c62-1b2d-4aa8-bc6b-509d19c6f4b4\",\"type\":\"ColumnDataSource\"}},\"id\":\"802141bc-b1b7-412f-a6d1-9d995ea9e8ec\",\"type\":\"CDSView\"},{\"attributes\":{\"callback\":null,\"data\":{\"x\":[0,0.6390472284846545],\"y\":[0,-0.43569502309231434]},\"selected\":{\"id\":\"afc13840-b4ed-4709-8981-46e7751bf4d1\",\"type\":\"Selection\"},\"selection_policy\":{\"id\":\"035cb731-d429-4032-a20f-f75a13d9471f\",\"type\":\"UnionRenderers\"}},\"id\":\"482a2ed7-3a0f-4747-b4c0-eb5b99d9ca30\",\"type\":\"ColumnDataSource\"},{\"attributes\":{\"line_alpha\":0.22687514126300812,\"line_color\":\"green\",\"x\":{\"field\":\"x\"},\"y\":{\"field\":\"y\"}},\"id\":\"4acba3e7-7a16-4bdd-b532-242c643a10b6\",\"type\":\"Line\"},{\"attributes\":{\"line_alpha\":0.1,\"line_color\":\"#1f77b4\",\"x\":{\"field\":\"x\"},\"y\":{\"field\":\"y\"}},\"id\":\"d78d188e-b516-477f-982e-d2b56689ee06\",\"type\":\"Line\"},{\"attributes\":{\"data_source\":{\"id\":\"967e9940-8828-432f-b0f4-05f2d31f5176\",\"type\":\"ColumnDataSource\"},\"glyph\":{\"id\":\"4acba3e7-7a16-4bdd-b532-242c643a10b6\",\"type\":\"Line\"},\"hover_glyph\":null,\"muted_glyph\":null,\"nonselection_glyph\":{\"id\":\"d78d188e-b516-477f-982e-d2b56689ee06\",\"type\":\"Line\"},\"selection_glyph\":null,\"view\":{\"id\":\"b1ffd95d-d04c-422e-aea5-9a5d02a624a3\",\"type\":\"CDSView\"}},\"id\":\"449abbbf-38f6-4565-9296-cfd0ea58bd80\",\"type\":\"GlyphRenderer\"},{\"attributes\":{\"source\":{\"id\":\"967e9940-8828-432f-b0f4-05f2d31f5176\",\"type\":\"ColumnDataSource\"}},\"id\":\"b1ffd95d-d04c-422e-aea5-9a5d02a624a3\",\"type\":\"CDSView\"},{\"attributes\":{\"callback\":null,\"data\":{\"x\":[0,0.7393825816241302],\"y\":[0,-0.22806932185947978]},\"selected\":{\"id\":\"cf2881a8-2863-4bf1-9ba4-4ae16bf44d5f\",\"type\":\"Selection\"},\"selection_policy\":{\"id\":\"9f2449de-67cc-42f2-8a2d-0912f5e2da3c\",\"type\":\"UnionRenderers\"}},\"id\":\"8cfe8349-a3fe-48db-b9e4-4d561320903f\",\"type\":\"ColumnDataSource\"},{\"attributes\":{\"line_alpha\":0.226558655500412,\"line_color\":\"green\",\"x\":{\"field\":\"x\"},\"y\":{\"field\":\"y\"}},\"id\":\"7f659d03-6168-426d-9b28-cd49fd212b72\",\"type\":\"Line\"},{\"attributes\":{\"line_alpha\":0.1,\"line_color\":\"#1f77b4\",\"x\":{\"field\":\"x\"},\"y\":{\"field\":\"y\"}},\"id\":\"1d563811-d6b1-409c-85d1-1bae88a90f29\",\"type\":\"Line\"},{\"attributes\":{\"data_source\":{\"id\":\"482a2ed7-3a0f-4747-b4c0-eb5b99d9ca30\",\"type\":\"ColumnDataSource\"},\"glyph\":{\"id\":\"7f659d03-6168-426d-9b28-cd49fd212b72\",\"type\":\"Line\"},\"hover_glyph\":null,\"muted_glyph\":null,\"nonselection_glyph\":{\"id\":\"1d563811-d6b1-409c-85d1-1bae88a90f29\",\"type\":\"Line\"},\"selection_glyph\":null,\"view\":{\"id\":\"291c97ea-2c88-4ed2-8013-e080079cd79d\",\"type\":\"CDSView\"}},\"id\":\"d1005e9e-208b-425b-b746-13a5ef0744ec\",\"type\":\"GlyphRenderer\"},{\"attributes\":{\"source\":{\"id\":\"482a2ed7-3a0f-4747-b4c0-eb5b99d9ca30\",\"type\":\"ColumnDataSource\"}},\"id\":\"291c97ea-2c88-4ed2-8013-e080079cd79d\",\"type\":\"CDSView\"},{\"attributes\":{\"line_alpha\":0.22624149918556213,\"line_color\":\"green\",\"x\":{\"field\":\"x\"},\"y\":{\"field\":\"y\"}},\"id\":\"1b2789eb-43b5-4ed3-b351-6ea603115bcb\",\"type\":\"Line\"},{\"attributes\":{\"line_alpha\":0.1,\"line_color\":\"#1f77b4\",\"x\":{\"field\":\"x\"},\"y\":{\"field\":\"y\"}},\"id\":\"473c4b72-bf56-4146-9702-12b6a090fb58\",\"type\":\"Line\"},{\"attributes\":{\"data_source\":{\"id\":\"8cfe8349-a3fe-48db-b9e4-4d561320903f\",\"type\":\"ColumnDataSource\"},\"glyph\":{\"id\":\"1b2789eb-43b5-4ed3-b351-6ea603115bcb\",\"type\":\"Line\"},\"hover_glyph\":null,\"muted_glyph\":null,\"nonselection_glyph\":{\"id\":\"473c4b72-bf56-4146-9702-12b6a090fb58\",\"type\":\"Line\"},\"selection_glyph\":null,\"view\":{\"id\":\"56589be5-0aa7-42c0-a102-21fd509b21f8\",\"type\":\"CDSView\"}},\"id\":\"5dc19332-d5d6-4f85-b6a2-06df47179149\",\"type\":\"GlyphRenderer\"},{\"attributes\":{\"source\":{\"id\":\"8cfe8349-a3fe-48db-b9e4-4d561320903f\",\"type\":\"ColumnDataSource\"}},\"id\":\"56589be5-0aa7-42c0-a102-21fd509b21f8\",\"type\":\"CDSView\"},{\"attributes\":{\"plot\":null,\"text\":\"\"},\"id\":\"bd4a4515-3bb5-4ac9-a68c-0cc99b918a60\",\"type\":\"Title\"},{\"attributes\":{\"source\":{\"id\":\"d3aa7c1b-c157-40cb-93dd-104ab10d88c4\",\"type\":\"ColumnDataSource\"}},\"id\":\"da347888-ec12-4fbf-a540-3bab0194cbf2\",\"type\":\"CDSView\"},{\"attributes\":{},\"id\":\"95333739-c568-4d95-8c0d-44a5ae56938d\",\"type\":\"Selection\"},{\"attributes\":{\"callback\":null,\"data\":{\"index\":[0],\"word\":[\"driven\"],\"x\":{\"__ndarray__\":\"AAAAAAAAAAA=\",\"dtype\":\"float64\",\"shape\":[1]},\"y\":{\"__ndarray__\":\"AAAAAAAAAAA=\",\"dtype\":\"float64\",\"shape\":[1]}},\"selected\":{\"id\":\"892849bd-dc95-4edf-b8f8-564ab7e6fc0f\",\"type\":\"Selection\"},\"selection_policy\":{\"id\":\"580dffd8-50fd-4d18-b716-a2bc2e0a48af\",\"type\":\"UnionRenderers\"}},\"id\":\"d3effb34-4cfa-4e8f-9698-0b8d87dbf72c\",\"type\":\"ColumnDataSource\"},{\"attributes\":{},\"id\":\"efac548b-51f9-4e9f-8b36-5a3aeb97903d\",\"type\":\"UnionRenderers\"},{\"attributes\":{\"fill_alpha\":{\"value\":0.1},\"fill_color\":{\"value\":\"#1f77b4\"},\"line_alpha\":{\"value\":0.1},\"line_color\":{\"value\":\"#1f77b4\"},\"size\":{\"units\":\"screen\",\"value\":20},\"x\":{\"field\":\"x\"},\"y\":{\"field\":\"y\"}},\"id\":\"5d0e5322-04be-407d-b148-28699ee365a4\",\"type\":\"Circle\"},{\"attributes\":{\"callback\":null,\"data\":{\"x\":[0,0.2536109993697029],\"y\":[0,0.6461902878005766]},\"selected\":{\"id\":\"cae0e41e-281b-4765-bbeb-d520bc47b5e0\",\"type\":\"Selection\"},\"selection_policy\":{\"id\":\"cd09f5d1-72bc-4fe7-b5dc-03d31703ef68\",\"type\":\"UnionRenderers\"}},\"id\":\"011d671a-c001-4776-a550-c7ae0fbc5f18\",\"type\":\"ColumnDataSource\"},{\"attributes\":{\"data_source\":{\"id\":\"fd67f9cb-7967-472c-80e4-e884bc976bb9\",\"type\":\"ColumnDataSource\"},\"glyph\":{\"id\":\"e64587b0-ce94-4c39-8877-39b039846594\",\"type\":\"Line\"},\"hover_glyph\":null,\"muted_glyph\":null,\"nonselection_glyph\":{\"id\":\"c76a826c-9eb0-49ca-8fce-cba7937b99d9\",\"type\":\"Line\"},\"selection_glyph\":null,\"view\":{\"id\":\"f21bfff5-55c1-4b6b-80cb-436457148ffb\",\"type\":\"CDSView\"}},\"id\":\"f82ab947-ce72-4d3d-8924-506a3b7b36b5\",\"type\":\"GlyphRenderer\"},{\"attributes\":{\"source\":{\"id\":\"d3effb34-4cfa-4e8f-9698-0b8d87dbf72c\",\"type\":\"ColumnDataSource\"}},\"id\":\"2b9ed231-0e42-4a00-a7c3-13fc5bd7f40b\",\"type\":\"CDSView\"},{\"attributes\":{\"data_source\":{\"id\":\"d3effb34-4cfa-4e8f-9698-0b8d87dbf72c\",\"type\":\"ColumnDataSource\"},\"glyph\":{\"id\":\"b81c3231-151e-4c96-83ef-c07b88f8f4ac\",\"type\":\"Circle\"},\"hover_glyph\":null,\"muted_glyph\":null,\"nonselection_glyph\":{\"id\":\"5d0e5322-04be-407d-b148-28699ee365a4\",\"type\":\"Circle\"},\"selection_glyph\":null,\"view\":{\"id\":\"2b9ed231-0e42-4a00-a7c3-13fc5bd7f40b\",\"type\":\"CDSView\"}},\"id\":\"c3e1fdd2-9cff-435e-a7d7-055c72380e41\",\"type\":\"GlyphRenderer\"},{\"attributes\":{\"source\":{\"id\":\"fd67f9cb-7967-472c-80e4-e884bc976bb9\",\"type\":\"ColumnDataSource\"}},\"id\":\"f21bfff5-55c1-4b6b-80cb-436457148ffb\",\"type\":\"CDSView\"},{\"attributes\":{\"fill_color\":{\"value\":\"red\"},\"line_color\":{\"value\":\"red\"},\"size\":{\"units\":\"screen\",\"value\":20},\"x\":{\"field\":\"x\"},\"y\":{\"field\":\"y\"}},\"id\":\"b81c3231-151e-4c96-83ef-c07b88f8f4ac\",\"type\":\"Circle\"},{\"attributes\":{},\"id\":\"b9b83761-48bd-4622-af45-fb8ee65bf5a3\",\"type\":\"UnionRenderers\"},{\"attributes\":{},\"id\":\"53ac70b1-87ba-47f1-8c1a-25535caca355\",\"type\":\"BasicTickFormatter\"},{\"attributes\":{\"active_drag\":\"auto\",\"active_inspect\":\"auto\",\"active_multi\":null,\"active_scroll\":\"auto\",\"active_tap\":\"auto\",\"tools\":[{\"id\":\"9f5e29aa-a777-488a-87f0-f27c17352059\",\"type\":\"PanTool\"},{\"id\":\"8348918c-04f9-436f-8cf0-dd995da572be\",\"type\":\"WheelZoomTool\"},{\"id\":\"b5a2e717-319f-487e-acfd-63c6fb45a392\",\"type\":\"BoxZoomTool\"},{\"id\":\"bd27d7d3-38a1-4c20-becc-b3a1d2d11d0d\",\"type\":\"SaveTool\"},{\"id\":\"3df32c3e-41b2-41c8-a3c0-c3596b9485eb\",\"type\":\"ResetTool\"},{\"id\":\"12c288ac-03f7-4916-ab71-17d656eb262e\",\"type\":\"HelpTool\"}]},\"id\":\"0a90d7fe-9340-4200-ad83-7070186b2c81\",\"type\":\"Toolbar\"},{\"attributes\":{},\"id\":\"7e3f5b35-05fb-4772-9d73-71088fe26e31\",\"type\":\"BasicTickFormatter\"},{\"attributes\":{},\"id\":\"212bcddc-5527-454b-89a4-4d8d21252d3f\",\"type\":\"Selection\"},{\"attributes\":{},\"id\":\"802fc8a2-e483-4aab-9aa5-830262d7898f\",\"type\":\"Selection\"},{\"attributes\":{\"fill_alpha\":{\"value\":0.9},\"fill_color\":{\"value\":\"#1f77b4\"},\"size\":{\"units\":\"screen\",\"value\":10},\"x\":{\"field\":\"x\"},\"y\":{\"field\":\"y\"}},\"id\":\"7ac8acee-9801-4c56-bfce-08aeab275bbf\",\"type\":\"Circle\"},{\"attributes\":{},\"id\":\"6f39bbfe-e082-4cff-981e-d7cf8b09e559\",\"type\":\"UnionRenderers\"},{\"attributes\":{\"line_alpha\":0.33692505955696106,\"line_color\":\"green\",\"x\":{\"field\":\"x\"},\"y\":{\"field\":\"y\"}},\"id\":\"e64587b0-ce94-4c39-8877-39b039846594\",\"type\":\"Line\"},{\"attributes\":{},\"id\":\"5a41e7db-f1f3-4eb2-b835-56b0a58c0a43\",\"type\":\"Selection\"},{\"attributes\":{\"line_alpha\":0.1,\"line_color\":\"#1f77b4\",\"x\":{\"field\":\"x\"},\"y\":{\"field\":\"y\"}},\"id\":\"c76a826c-9eb0-49ca-8fce-cba7937b99d9\",\"type\":\"Line\"},{\"attributes\":{},\"id\":\"462702ee-79c6-4990-8aca-4bcdc38a79aa\",\"type\":\"UnionRenderers\"},{\"attributes\":{\"below\":[{\"id\":\"9a7c03aa-1dcd-40f1-9a74-d650ca36f679\",\"type\":\"LinearAxis\"}],\"left\":[{\"id\":\"484c3116-5d58-44e5-b9eb-2abcec7b5860\",\"type\":\"LinearAxis\"}],\"plot_width\":900,\"renderers\":[{\"id\":\"9a7c03aa-1dcd-40f1-9a74-d650ca36f679\",\"type\":\"LinearAxis\"},{\"id\":\"5ebff81b-8cbd-48de-8311-53c65abc0d9d\",\"type\":\"Grid\"},{\"id\":\"484c3116-5d58-44e5-b9eb-2abcec7b5860\",\"type\":\"LinearAxis\"},{\"id\":\"d0ea64f2-8180-4646-a2d4-0fc38ce5e11e\",\"type\":\"Grid\"},{\"id\":\"6d06eb2f-4861-4bb7-9008-46964aec6bc9\",\"type\":\"BoxAnnotation\"},{\"id\":\"a8b25a26-5efa-4a4d-9fc1-a0df4974b61a\",\"type\":\"GlyphRenderer\"},{\"id\":\"3a863df7-a2dc-4745-a655-e0f8fbc0c673\",\"type\":\"GlyphRenderer\"},{\"id\":\"f82ab947-ce72-4d3d-8924-506a3b7b36b5\",\"type\":\"GlyphRenderer\"},{\"id\":\"7a2b5579-7d35-4eeb-878c-ce2cc5934d0c\",\"type\":\"GlyphRenderer\"},{\"id\":\"b6b5e971-cc6b-4ddf-8d9b-4e136c38068c\",\"type\":\"GlyphRenderer\"},{\"id\":\"19abf9d6-2c92-4238-8ca3-16b520f8fe4a\",\"type\":\"GlyphRenderer\"},{\"id\":\"982ec831-a96f-4dee-808e-72ff8c1606da\",\"type\":\"GlyphRenderer\"},{\"id\":\"e346218c-f591-44a3-a359-14f5b2cf5380\",\"type\":\"GlyphRenderer\"},{\"id\":\"a1242c67-4448-49bb-922c-d29a4e0780cf\",\"type\":\"GlyphRenderer\"},{\"id\":\"2645601f-7aa1-4195-986f-f9e82c461843\",\"type\":\"GlyphRenderer\"},{\"id\":\"94ff993b-6707-40e5-9a32-e3a1aa6b1f50\",\"type\":\"GlyphRenderer\"},{\"id\":\"13ffbbac-c712-4bfe-9fb0-06b84f7b2990\",\"type\":\"GlyphRenderer\"},{\"id\":\"d24c9b40-3877-4d33-b9c6-ba9daa998ad0\",\"type\":\"GlyphRenderer\"},{\"id\":\"d77524e0-5459-4255-aed6-3ff2be7d054f\",\"type\":\"GlyphRenderer\"},{\"id\":\"9ccde0b0-7b12-411f-bb0a-132e5e2020a0\",\"type\":\"GlyphRenderer\"},{\"id\":\"e36e6fba-7c61-4dcf-bb7a-b85ff23904d5\",\"type\":\"GlyphRenderer\"},{\"id\":\"eab1bd15-2291-4adc-8633-a6569ca45ba7\",\"type\":\"GlyphRenderer\"},{\"id\":\"b70ec3a0-0f83-466d-9995-06ab73a52767\",\"type\":\"GlyphRenderer\"},{\"id\":\"449abbbf-38f6-4565-9296-cfd0ea58bd80\",\"type\":\"GlyphRenderer\"},{\"id\":\"d1005e9e-208b-425b-b746-13a5ef0744ec\",\"type\":\"GlyphRenderer\"},{\"id\":\"5dc19332-d5d6-4f85-b6a2-06df47179149\",\"type\":\"GlyphRenderer\"},{\"id\":\"2e6344f4-a8d7-4ae0-83b7-e82cc24ba29e\",\"type\":\"GlyphRenderer\"},{\"id\":\"d2d9cfac-fb3a-4ec8-8d10-d669db13ad74\",\"type\":\"LabelSet\"},{\"id\":\"c3e1fdd2-9cff-435e-a7d7-055c72380e41\",\"type\":\"GlyphRenderer\"}],\"title\":{\"id\":\"bd4a4515-3bb5-4ac9-a68c-0cc99b918a60\",\"type\":\"Title\"},\"toolbar\":{\"id\":\"0a90d7fe-9340-4200-ad83-7070186b2c81\",\"type\":\"Toolbar\"},\"x_range\":{\"id\":\"f15c974b-217f-4b2a-9b5f-853d480004fe\",\"type\":\"DataRange1d\"},\"x_scale\":{\"id\":\"5a910215-5034-40b8-92b9-99dc7a335507\",\"type\":\"LinearScale\"},\"y_range\":{\"id\":\"44ff1bd5-3e51-45ae-ac11-d206bc769dc1\",\"type\":\"DataRange1d\"},\"y_scale\":{\"id\":\"428ebc9e-21f1-4a37-819f-33529cb035ae\",\"type\":\"LinearScale\"}},\"id\":\"e579e15b-1870-4128-8860-4ff9323e796d\",\"subtype\":\"Figure\",\"type\":\"Plot\"},{\"attributes\":{},\"id\":\"4ba0c5a8-9294-4e7f-a60b-96b25f12c899\",\"type\":\"Selection\"},{\"attributes\":{\"callback\":null},\"id\":\"f15c974b-217f-4b2a-9b5f-853d480004fe\",\"type\":\"DataRange1d\"},{\"attributes\":{},\"id\":\"cafeee86-f1c8-4ca8-aced-099f4402db56\",\"type\":\"UnionRenderers\"},{\"attributes\":{},\"id\":\"4bb94526-452a-4b6b-af5e-97173cc9bbd2\",\"type\":\"Selection\"},{\"attributes\":{},\"id\":\"a2634811-da1c-4e71-98d2-c31706c90dde\",\"type\":\"UnionRenderers\"},{\"attributes\":{\"plot\":{\"id\":\"e579e15b-1870-4128-8860-4ff9323e796d\",\"subtype\":\"Figure\",\"type\":\"Plot\"},\"source\":{\"id\":\"d3aa7c1b-c157-40cb-93dd-104ab10d88c4\",\"type\":\"ColumnDataSource\"},\"text\":{\"field\":\"word\"},\"text_color\":{\"value\":\"#555555\"},\"text_font_size\":{\"value\":\"10pt\"},\"x\":{\"field\":\"x\"},\"x_offset\":{\"value\":13},\"y\":{\"field\":\"y\"},\"y_offset\":{\"value\":-6}},\"id\":\"d2d9cfac-fb3a-4ec8-8d10-d669db13ad74\",\"type\":\"LabelSet\"},{\"attributes\":{},\"id\":\"cd09f5d1-72bc-4fe7-b5dc-03d31703ef68\",\"type\":\"UnionRenderers\"},{\"attributes\":{},\"id\":\"cae0e41e-281b-4765-bbeb-d520bc47b5e0\",\"type\":\"Selection\"},{\"attributes\":{\"callback\":null},\"id\":\"44ff1bd5-3e51-45ae-ac11-d206bc769dc1\",\"type\":\"DataRange1d\"},{\"attributes\":{},\"id\":\"67df1876-a382-4274-9e4b-7dba3b1bec56\",\"type\":\"UnionRenderers\"},{\"attributes\":{},\"id\":\"5a910215-5034-40b8-92b9-99dc7a335507\",\"type\":\"LinearScale\"},{\"attributes\":{},\"id\":\"36399499-c08f-47d5-b595-3386acd19597\",\"type\":\"Selection\"},{\"attributes\":{},\"id\":\"428ebc9e-21f1-4a37-819f-33529cb035ae\",\"type\":\"LinearScale\"},{\"attributes\":{},\"id\":\"c0cf2235-0827-487e-a5f2-3a2d450f236d\",\"type\":\"UnionRenderers\"},{\"attributes\":{\"plot\":{\"id\":\"e579e15b-1870-4128-8860-4ff9323e796d\",\"subtype\":\"Figure\",\"type\":\"Plot\"},\"ticker\":{\"id\":\"d8dc531f-7e7f-4fdf-b1ba-f68bc35e0788\",\"type\":\"BasicTicker\"}},\"id\":\"5ebff81b-8cbd-48de-8311-53c65abc0d9d\",\"type\":\"Grid\"},{\"attributes\":{},\"id\":\"1b2443b4-1870-402a-8a67-815b330016a8\",\"type\":\"Selection\"},{\"attributes\":{\"formatter\":{\"id\":\"53ac70b1-87ba-47f1-8c1a-25535caca355\",\"type\":\"BasicTickFormatter\"},\"plot\":{\"id\":\"e579e15b-1870-4128-8860-4ff9323e796d\",\"subtype\":\"Figure\",\"type\":\"Plot\"},\"ticker\":{\"id\":\"d8dc531f-7e7f-4fdf-b1ba-f68bc35e0788\",\"type\":\"BasicTicker\"}},\"id\":\"9a7c03aa-1dcd-40f1-9a74-d650ca36f679\",\"type\":\"LinearAxis\"},{\"attributes\":{},\"id\":\"f0ca0c41-5dad-48b0-9fa5-c99a424465e2\",\"type\":\"UnionRenderers\"},{\"attributes\":{},\"id\":\"d8dc531f-7e7f-4fdf-b1ba-f68bc35e0788\",\"type\":\"BasicTicker\"},{\"attributes\":{},\"id\":\"dc115cbf-3f5d-444a-8fb4-b077a8276568\",\"type\":\"Selection\"},{\"attributes\":{\"formatter\":{\"id\":\"7e3f5b35-05fb-4772-9d73-71088fe26e31\",\"type\":\"BasicTickFormatter\"},\"plot\":{\"id\":\"e579e15b-1870-4128-8860-4ff9323e796d\",\"subtype\":\"Figure\",\"type\":\"Plot\"},\"ticker\":{\"id\":\"f91f6d99-7deb-4c00-a99a-4b6c0796160b\",\"type\":\"BasicTicker\"}},\"id\":\"484c3116-5d58-44e5-b9eb-2abcec7b5860\",\"type\":\"LinearAxis\"},{\"attributes\":{},\"id\":\"865cb3ba-eb4e-42d1-8208-fc7edfb1a445\",\"type\":\"Selection\"},{\"attributes\":{},\"id\":\"f91f6d99-7deb-4c00-a99a-4b6c0796160b\",\"type\":\"BasicTicker\"},{\"attributes\":{},\"id\":\"aefa07d7-0b03-462c-b6a5-a8d31fd9842a\",\"type\":\"UnionRenderers\"},{\"attributes\":{\"dimension\":1,\"plot\":{\"id\":\"e579e15b-1870-4128-8860-4ff9323e796d\",\"subtype\":\"Figure\",\"type\":\"Plot\"},\"ticker\":{\"id\":\"f91f6d99-7deb-4c00-a99a-4b6c0796160b\",\"type\":\"BasicTicker\"}},\"id\":\"d0ea64f2-8180-4646-a2d4-0fc38ce5e11e\",\"type\":\"Grid\"},{\"attributes\":{\"fill_alpha\":{\"value\":0.1},\"fill_color\":{\"value\":\"#1f77b4\"},\"line_alpha\":{\"value\":0.1},\"line_color\":{\"value\":\"#1f77b4\"},\"size\":{\"units\":\"screen\",\"value\":10},\"x\":{\"field\":\"x\"},\"y\":{\"field\":\"y\"}},\"id\":\"6bda4fbb-d4ae-4e8d-a82a-cbf88eb591d4\",\"type\":\"Circle\"}],\"root_ids\":[\"e579e15b-1870-4128-8860-4ff9323e796d\"]},\"title\":\"Bokeh Application\",\"version\":\"0.13.0\"}};\n",
       "  var render_items = [{\"docid\":\"ab5af663-39f8-4a26-ad9d-c4d95941a61f\",\"notebook_comms_target\":\"1b4af2d9-1751-4a90-8a4f-04af76c15593\",\"roots\":{\"e579e15b-1870-4128-8860-4ff9323e796d\":\"f095ceff-651d-4c48-83b3-5ed66291916a\"}}];\n",
       "  root.Bokeh.embed.embed_items_notebook(docs_json, render_items);\n",
       "\n",
       "  }\n",
       "  if (root.Bokeh !== undefined) {\n",
       "    embed_document(root);\n",
       "  } else {\n",
       "    var attempts = 0;\n",
       "    var timer = setInterval(function(root) {\n",
       "      if (root.Bokeh !== undefined) {\n",
       "        embed_document(root);\n",
       "        clearInterval(timer);\n",
       "      }\n",
       "      attempts++;\n",
       "      if (attempts > 100) {\n",
       "        console.log(\"Bokeh: ERROR: Unable to run BokehJS code because BokehJS library is missing\")\n",
       "        clearInterval(timer);\n",
       "      }\n",
       "    }, 10, root)\n",
       "  }\n",
       "})(window);"
      ],
      "application/vnd.bokehjs_exec.v0+json": ""
     },
     "metadata": {
      "application/vnd.bokehjs_exec.v0+json": {
       "id": "e579e15b-1870-4128-8860-4ff9323e796d"
      }
     },
     "output_type": "display_data"
    },
    {
     "data": {
      "text/html": [
       "\n",
       "    <div class=\"bk-root\">\n",
       "        <a href=\"https://bokeh.pydata.org\" target=\"_blank\" class=\"bk-logo bk-logo-small bk-logo-notebook\"></a>\n",
       "        <span id=\"f1cd8e45-88fc-4019-9e15-533da6cf82a9\">Loading BokehJS ...</span>\n",
       "    </div>"
      ]
     },
     "metadata": {},
     "output_type": "display_data"
    },
    {
     "data": {
      "application/javascript": [
       "\n",
       "(function(root) {\n",
       "  function now() {\n",
       "    return new Date();\n",
       "  }\n",
       "\n",
       "  var force = true;\n",
       "\n",
       "  if (typeof (root._bokeh_onload_callbacks) === \"undefined\" || force === true) {\n",
       "    root._bokeh_onload_callbacks = [];\n",
       "    root._bokeh_is_loading = undefined;\n",
       "  }\n",
       "\n",
       "  var JS_MIME_TYPE = 'application/javascript';\n",
       "  var HTML_MIME_TYPE = 'text/html';\n",
       "  var EXEC_MIME_TYPE = 'application/vnd.bokehjs_exec.v0+json';\n",
       "  var CLASS_NAME = 'output_bokeh rendered_html';\n",
       "\n",
       "  /**\n",
       "   * Render data to the DOM node\n",
       "   */\n",
       "  function render(props, node) {\n",
       "    var script = document.createElement(\"script\");\n",
       "    node.appendChild(script);\n",
       "  }\n",
       "\n",
       "  /**\n",
       "   * Handle when an output is cleared or removed\n",
       "   */\n",
       "  function handleClearOutput(event, handle) {\n",
       "    var cell = handle.cell;\n",
       "\n",
       "    var id = cell.output_area._bokeh_element_id;\n",
       "    var server_id = cell.output_area._bokeh_server_id;\n",
       "    // Clean up Bokeh references\n",
       "    if (id != null && id in Bokeh.index) {\n",
       "      Bokeh.index[id].model.document.clear();\n",
       "      delete Bokeh.index[id];\n",
       "    }\n",
       "\n",
       "    if (server_id !== undefined) {\n",
       "      // Clean up Bokeh references\n",
       "      var cmd = \"from bokeh.io.state import curstate; print(curstate().uuid_to_server['\" + server_id + \"'].get_sessions()[0].document.roots[0]._id)\";\n",
       "      cell.notebook.kernel.execute(cmd, {\n",
       "        iopub: {\n",
       "          output: function(msg) {\n",
       "            var id = msg.content.text.trim();\n",
       "            if (id in Bokeh.index) {\n",
       "              Bokeh.index[id].model.document.clear();\n",
       "              delete Bokeh.index[id];\n",
       "            }\n",
       "          }\n",
       "        }\n",
       "      });\n",
       "      // Destroy server and session\n",
       "      var cmd = \"import bokeh.io.notebook as ion; ion.destroy_server('\" + server_id + \"')\";\n",
       "      cell.notebook.kernel.execute(cmd);\n",
       "    }\n",
       "  }\n",
       "\n",
       "  /**\n",
       "   * Handle when a new output is added\n",
       "   */\n",
       "  function handleAddOutput(event, handle) {\n",
       "    var output_area = handle.output_area;\n",
       "    var output = handle.output;\n",
       "\n",
       "    // limit handleAddOutput to display_data with EXEC_MIME_TYPE content only\n",
       "    if ((output.output_type != \"display_data\") || (!output.data.hasOwnProperty(EXEC_MIME_TYPE))) {\n",
       "      return\n",
       "    }\n",
       "\n",
       "    var toinsert = output_area.element.find(\".\" + CLASS_NAME.split(' ')[0]);\n",
       "\n",
       "    if (output.metadata[EXEC_MIME_TYPE][\"id\"] !== undefined) {\n",
       "      toinsert[toinsert.length - 1].firstChild.textContent = output.data[JS_MIME_TYPE];\n",
       "      // store reference to embed id on output_area\n",
       "      output_area._bokeh_element_id = output.metadata[EXEC_MIME_TYPE][\"id\"];\n",
       "    }\n",
       "    if (output.metadata[EXEC_MIME_TYPE][\"server_id\"] !== undefined) {\n",
       "      var bk_div = document.createElement(\"div\");\n",
       "      bk_div.innerHTML = output.data[HTML_MIME_TYPE];\n",
       "      var script_attrs = bk_div.children[0].attributes;\n",
       "      for (var i = 0; i < script_attrs.length; i++) {\n",
       "        toinsert[toinsert.length - 1].firstChild.setAttribute(script_attrs[i].name, script_attrs[i].value);\n",
       "      }\n",
       "      // store reference to server id on output_area\n",
       "      output_area._bokeh_server_id = output.metadata[EXEC_MIME_TYPE][\"server_id\"];\n",
       "    }\n",
       "  }\n",
       "\n",
       "  function register_renderer(events, OutputArea) {\n",
       "\n",
       "    function append_mime(data, metadata, element) {\n",
       "      // create a DOM node to render to\n",
       "      var toinsert = this.create_output_subarea(\n",
       "        metadata,\n",
       "        CLASS_NAME,\n",
       "        EXEC_MIME_TYPE\n",
       "      );\n",
       "      this.keyboard_manager.register_events(toinsert);\n",
       "      // Render to node\n",
       "      var props = {data: data, metadata: metadata[EXEC_MIME_TYPE]};\n",
       "      render(props, toinsert[toinsert.length - 1]);\n",
       "      element.append(toinsert);\n",
       "      return toinsert\n",
       "    }\n",
       "\n",
       "    /* Handle when an output is cleared or removed */\n",
       "    events.on('clear_output.CodeCell', handleClearOutput);\n",
       "    events.on('delete.Cell', handleClearOutput);\n",
       "\n",
       "    /* Handle when a new output is added */\n",
       "    events.on('output_added.OutputArea', handleAddOutput);\n",
       "\n",
       "    /**\n",
       "     * Register the mime type and append_mime function with output_area\n",
       "     */\n",
       "    OutputArea.prototype.register_mime_type(EXEC_MIME_TYPE, append_mime, {\n",
       "      /* Is output safe? */\n",
       "      safe: true,\n",
       "      /* Index of renderer in `output_area.display_order` */\n",
       "      index: 0\n",
       "    });\n",
       "  }\n",
       "\n",
       "  // register the mime type if in Jupyter Notebook environment and previously unregistered\n",
       "  if (root.Jupyter !== undefined) {\n",
       "    var events = require('base/js/events');\n",
       "    var OutputArea = require('notebook/js/outputarea').OutputArea;\n",
       "\n",
       "    if (OutputArea.prototype.mime_types().indexOf(EXEC_MIME_TYPE) == -1) {\n",
       "      register_renderer(events, OutputArea);\n",
       "    }\n",
       "  }\n",
       "\n",
       "  \n",
       "  if (typeof (root._bokeh_timeout) === \"undefined\" || force === true) {\n",
       "    root._bokeh_timeout = Date.now() + 5000;\n",
       "    root._bokeh_failed_load = false;\n",
       "  }\n",
       "\n",
       "  var NB_LOAD_WARNING = {'data': {'text/html':\n",
       "     \"<div style='background-color: #fdd'>\\n\"+\n",
       "     \"<p>\\n\"+\n",
       "     \"BokehJS does not appear to have successfully loaded. If loading BokehJS from CDN, this \\n\"+\n",
       "     \"may be due to a slow or bad network connection. Possible fixes:\\n\"+\n",
       "     \"</p>\\n\"+\n",
       "     \"<ul>\\n\"+\n",
       "     \"<li>re-rerun `output_notebook()` to attempt to load from CDN again, or</li>\\n\"+\n",
       "     \"<li>use INLINE resources instead, as so:</li>\\n\"+\n",
       "     \"</ul>\\n\"+\n",
       "     \"<code>\\n\"+\n",
       "     \"from bokeh.resources import INLINE\\n\"+\n",
       "     \"output_notebook(resources=INLINE)\\n\"+\n",
       "     \"</code>\\n\"+\n",
       "     \"</div>\"}};\n",
       "\n",
       "  function display_loaded() {\n",
       "    var el = document.getElementById(\"f1cd8e45-88fc-4019-9e15-533da6cf82a9\");\n",
       "    if (el != null) {\n",
       "      el.textContent = \"BokehJS is loading...\";\n",
       "    }\n",
       "    if (root.Bokeh !== undefined) {\n",
       "      if (el != null) {\n",
       "        el.textContent = \"BokehJS \" + root.Bokeh.version + \" successfully loaded.\";\n",
       "      }\n",
       "    } else if (Date.now() < root._bokeh_timeout) {\n",
       "      setTimeout(display_loaded, 100)\n",
       "    }\n",
       "  }\n",
       "\n",
       "\n",
       "  function run_callbacks() {\n",
       "    try {\n",
       "      root._bokeh_onload_callbacks.forEach(function(callback) { callback() });\n",
       "    }\n",
       "    finally {\n",
       "      delete root._bokeh_onload_callbacks\n",
       "    }\n",
       "    console.info(\"Bokeh: all callbacks have finished\");\n",
       "  }\n",
       "\n",
       "  function load_libs(js_urls, callback) {\n",
       "    root._bokeh_onload_callbacks.push(callback);\n",
       "    if (root._bokeh_is_loading > 0) {\n",
       "      console.log(\"Bokeh: BokehJS is being loaded, scheduling callback at\", now());\n",
       "      return null;\n",
       "    }\n",
       "    if (js_urls == null || js_urls.length === 0) {\n",
       "      run_callbacks();\n",
       "      return null;\n",
       "    }\n",
       "    console.log(\"Bokeh: BokehJS not loaded, scheduling load and callback at\", now());\n",
       "    root._bokeh_is_loading = js_urls.length;\n",
       "    for (var i = 0; i < js_urls.length; i++) {\n",
       "      var url = js_urls[i];\n",
       "      var s = document.createElement('script');\n",
       "      s.src = url;\n",
       "      s.async = false;\n",
       "      s.onreadystatechange = s.onload = function() {\n",
       "        root._bokeh_is_loading--;\n",
       "        if (root._bokeh_is_loading === 0) {\n",
       "          console.log(\"Bokeh: all BokehJS libraries loaded\");\n",
       "          run_callbacks()\n",
       "        }\n",
       "      };\n",
       "      s.onerror = function() {\n",
       "        console.warn(\"failed to load library \" + url);\n",
       "      };\n",
       "      console.log(\"Bokeh: injecting script tag for BokehJS library: \", url);\n",
       "      document.getElementsByTagName(\"head\")[0].appendChild(s);\n",
       "    }\n",
       "  };var element = document.getElementById(\"f1cd8e45-88fc-4019-9e15-533da6cf82a9\");\n",
       "  if (element == null) {\n",
       "    console.log(\"Bokeh: ERROR: autoload.js configured with elementid 'f1cd8e45-88fc-4019-9e15-533da6cf82a9' but no matching script tag was found. \")\n",
       "    return false;\n",
       "  }\n",
       "\n",
       "  var js_urls = [\"https://cdn.pydata.org/bokeh/release/bokeh-0.13.0.min.js\", \"https://cdn.pydata.org/bokeh/release/bokeh-widgets-0.13.0.min.js\", \"https://cdn.pydata.org/bokeh/release/bokeh-tables-0.13.0.min.js\", \"https://cdn.pydata.org/bokeh/release/bokeh-gl-0.13.0.min.js\"];\n",
       "\n",
       "  var inline_js = [\n",
       "    function(Bokeh) {\n",
       "      Bokeh.set_log_level(\"info\");\n",
       "    },\n",
       "    \n",
       "    function(Bokeh) {\n",
       "      \n",
       "    },\n",
       "    function(Bokeh) {\n",
       "      console.log(\"Bokeh: injecting CSS: https://cdn.pydata.org/bokeh/release/bokeh-0.13.0.min.css\");\n",
       "      Bokeh.embed.inject_css(\"https://cdn.pydata.org/bokeh/release/bokeh-0.13.0.min.css\");\n",
       "      console.log(\"Bokeh: injecting CSS: https://cdn.pydata.org/bokeh/release/bokeh-widgets-0.13.0.min.css\");\n",
       "      Bokeh.embed.inject_css(\"https://cdn.pydata.org/bokeh/release/bokeh-widgets-0.13.0.min.css\");\n",
       "      console.log(\"Bokeh: injecting CSS: https://cdn.pydata.org/bokeh/release/bokeh-tables-0.13.0.min.css\");\n",
       "      Bokeh.embed.inject_css(\"https://cdn.pydata.org/bokeh/release/bokeh-tables-0.13.0.min.css\");\n",
       "    }\n",
       "  ];\n",
       "\n",
       "  function run_inline_js() {\n",
       "    \n",
       "    if ((root.Bokeh !== undefined) || (force === true)) {\n",
       "      for (var i = 0; i < inline_js.length; i++) {\n",
       "        inline_js[i].call(root, root.Bokeh);\n",
       "      }if (force === true) {\n",
       "        display_loaded();\n",
       "      }} else if (Date.now() < root._bokeh_timeout) {\n",
       "      setTimeout(run_inline_js, 100);\n",
       "    } else if (!root._bokeh_failed_load) {\n",
       "      console.log(\"Bokeh: BokehJS failed to load within specified timeout.\");\n",
       "      root._bokeh_failed_load = true;\n",
       "    } else if (force !== true) {\n",
       "      var cell = $(document.getElementById(\"f1cd8e45-88fc-4019-9e15-533da6cf82a9\")).parents('.cell').data().cell;\n",
       "      cell.output_area.append_execute_result(NB_LOAD_WARNING)\n",
       "    }\n",
       "\n",
       "  }\n",
       "\n",
       "  if (root._bokeh_is_loading === 0) {\n",
       "    console.log(\"Bokeh: BokehJS loaded, going straight to plotting\");\n",
       "    run_inline_js();\n",
       "  } else {\n",
       "    load_libs(js_urls, function() {\n",
       "      console.log(\"Bokeh: BokehJS plotting callback run at\", now());\n",
       "      run_inline_js();\n",
       "    });\n",
       "  }\n",
       "}(window));"
      ],
      "application/vnd.bokehjs_load.v0+json": "\n(function(root) {\n  function now() {\n    return new Date();\n  }\n\n  var force = true;\n\n  if (typeof (root._bokeh_onload_callbacks) === \"undefined\" || force === true) {\n    root._bokeh_onload_callbacks = [];\n    root._bokeh_is_loading = undefined;\n  }\n\n  \n\n  \n  if (typeof (root._bokeh_timeout) === \"undefined\" || force === true) {\n    root._bokeh_timeout = Date.now() + 5000;\n    root._bokeh_failed_load = false;\n  }\n\n  var NB_LOAD_WARNING = {'data': {'text/html':\n     \"<div style='background-color: #fdd'>\\n\"+\n     \"<p>\\n\"+\n     \"BokehJS does not appear to have successfully loaded. If loading BokehJS from CDN, this \\n\"+\n     \"may be due to a slow or bad network connection. Possible fixes:\\n\"+\n     \"</p>\\n\"+\n     \"<ul>\\n\"+\n     \"<li>re-rerun `output_notebook()` to attempt to load from CDN again, or</li>\\n\"+\n     \"<li>use INLINE resources instead, as so:</li>\\n\"+\n     \"</ul>\\n\"+\n     \"<code>\\n\"+\n     \"from bokeh.resources import INLINE\\n\"+\n     \"output_notebook(resources=INLINE)\\n\"+\n     \"</code>\\n\"+\n     \"</div>\"}};\n\n  function display_loaded() {\n    var el = document.getElementById(\"f1cd8e45-88fc-4019-9e15-533da6cf82a9\");\n    if (el != null) {\n      el.textContent = \"BokehJS is loading...\";\n    }\n    if (root.Bokeh !== undefined) {\n      if (el != null) {\n        el.textContent = \"BokehJS \" + root.Bokeh.version + \" successfully loaded.\";\n      }\n    } else if (Date.now() < root._bokeh_timeout) {\n      setTimeout(display_loaded, 100)\n    }\n  }\n\n\n  function run_callbacks() {\n    try {\n      root._bokeh_onload_callbacks.forEach(function(callback) { callback() });\n    }\n    finally {\n      delete root._bokeh_onload_callbacks\n    }\n    console.info(\"Bokeh: all callbacks have finished\");\n  }\n\n  function load_libs(js_urls, callback) {\n    root._bokeh_onload_callbacks.push(callback);\n    if (root._bokeh_is_loading > 0) {\n      console.log(\"Bokeh: BokehJS is being loaded, scheduling callback at\", now());\n      return null;\n    }\n    if (js_urls == null || js_urls.length === 0) {\n      run_callbacks();\n      return null;\n    }\n    console.log(\"Bokeh: BokehJS not loaded, scheduling load and callback at\", now());\n    root._bokeh_is_loading = js_urls.length;\n    for (var i = 0; i < js_urls.length; i++) {\n      var url = js_urls[i];\n      var s = document.createElement('script');\n      s.src = url;\n      s.async = false;\n      s.onreadystatechange = s.onload = function() {\n        root._bokeh_is_loading--;\n        if (root._bokeh_is_loading === 0) {\n          console.log(\"Bokeh: all BokehJS libraries loaded\");\n          run_callbacks()\n        }\n      };\n      s.onerror = function() {\n        console.warn(\"failed to load library \" + url);\n      };\n      console.log(\"Bokeh: injecting script tag for BokehJS library: \", url);\n      document.getElementsByTagName(\"head\")[0].appendChild(s);\n    }\n  };var element = document.getElementById(\"f1cd8e45-88fc-4019-9e15-533da6cf82a9\");\n  if (element == null) {\n    console.log(\"Bokeh: ERROR: autoload.js configured with elementid 'f1cd8e45-88fc-4019-9e15-533da6cf82a9' but no matching script tag was found. \")\n    return false;\n  }\n\n  var js_urls = [\"https://cdn.pydata.org/bokeh/release/bokeh-0.13.0.min.js\", \"https://cdn.pydata.org/bokeh/release/bokeh-widgets-0.13.0.min.js\", \"https://cdn.pydata.org/bokeh/release/bokeh-tables-0.13.0.min.js\", \"https://cdn.pydata.org/bokeh/release/bokeh-gl-0.13.0.min.js\"];\n\n  var inline_js = [\n    function(Bokeh) {\n      Bokeh.set_log_level(\"info\");\n    },\n    \n    function(Bokeh) {\n      \n    },\n    function(Bokeh) {\n      console.log(\"Bokeh: injecting CSS: https://cdn.pydata.org/bokeh/release/bokeh-0.13.0.min.css\");\n      Bokeh.embed.inject_css(\"https://cdn.pydata.org/bokeh/release/bokeh-0.13.0.min.css\");\n      console.log(\"Bokeh: injecting CSS: https://cdn.pydata.org/bokeh/release/bokeh-widgets-0.13.0.min.css\");\n      Bokeh.embed.inject_css(\"https://cdn.pydata.org/bokeh/release/bokeh-widgets-0.13.0.min.css\");\n      console.log(\"Bokeh: injecting CSS: https://cdn.pydata.org/bokeh/release/bokeh-tables-0.13.0.min.css\");\n      Bokeh.embed.inject_css(\"https://cdn.pydata.org/bokeh/release/bokeh-tables-0.13.0.min.css\");\n    }\n  ];\n\n  function run_inline_js() {\n    \n    if ((root.Bokeh !== undefined) || (force === true)) {\n      for (var i = 0; i < inline_js.length; i++) {\n        inline_js[i].call(root, root.Bokeh);\n      }if (force === true) {\n        display_loaded();\n      }} else if (Date.now() < root._bokeh_timeout) {\n      setTimeout(run_inline_js, 100);\n    } else if (!root._bokeh_failed_load) {\n      console.log(\"Bokeh: BokehJS failed to load within specified timeout.\");\n      root._bokeh_failed_load = true;\n    } else if (force !== true) {\n      var cell = $(document.getElementById(\"f1cd8e45-88fc-4019-9e15-533da6cf82a9\")).parents('.cell').data().cell;\n      cell.output_area.append_execute_result(NB_LOAD_WARNING)\n    }\n\n  }\n\n  if (root._bokeh_is_loading === 0) {\n    console.log(\"Bokeh: BokehJS loaded, going straight to plotting\");\n    run_inline_js();\n  } else {\n    load_libs(js_urls, function() {\n      console.log(\"Bokeh: BokehJS plotting callback run at\", now());\n      run_inline_js();\n    });\n  }\n}(window));"
     },
     "metadata": {},
     "output_type": "display_data"
    },
    {
     "data": {
      "text/html": [
       "\n",
       "\n",
       "\n",
       "\n",
       "\n",
       "\n",
       "  <div class=\"bk-root\" id=\"f1eb0111-77e0-4df7-b0fc-f608360825bc\"></div>\n"
      ]
     },
     "metadata": {},
     "output_type": "display_data"
    },
    {
     "data": {
      "application/javascript": [
       "(function(root) {\n",
       "  function embed_document(root) {\n",
       "    \n",
       "  var docs_json = {\"093f0b09-e068-428c-becc-8bd08ca5e405\":{\"roots\":{\"references\":[{\"attributes\":{\"callback\":null,\"data\":{\"x\":[0,-0.8175037652767977],\"y\":[0,0.3936890641368933]},\"selected\":{\"id\":\"19d91ca7-6b1c-48d6-a167-96adb447f4bb\",\"type\":\"Selection\"},\"selection_policy\":{\"id\":\"bfb0e1d8-4e6a-4d28-91c7-7f1b8b50c956\",\"type\":\"UnionRenderers\"}},\"id\":\"b1b7c089-ad21-4198-bffa-0085c7d3f52c\",\"type\":\"ColumnDataSource\"},{\"attributes\":{\"data_source\":{\"id\":\"67054443-dc58-4afb-b402-f2fea54f88fe\",\"type\":\"ColumnDataSource\"},\"glyph\":{\"id\":\"c400ace6-781b-40cb-a739-2be32822ace9\",\"type\":\"Circle\"},\"hover_glyph\":null,\"muted_glyph\":null,\"nonselection_glyph\":{\"id\":\"484253ec-be63-40f7-8870-de9faac917d5\",\"type\":\"Circle\"},\"selection_glyph\":null,\"view\":{\"id\":\"c3b2e630-f906-45bd-a380-ed8a66863717\",\"type\":\"CDSView\"}},\"id\":\"0ff7f23a-e134-4716-be2c-ba9004c4ff4e\",\"type\":\"GlyphRenderer\"},{\"attributes\":{\"line_alpha\":0.16740287840366364,\"line_color\":\"green\",\"x\":{\"field\":\"x\"},\"y\":{\"field\":\"y\"}},\"id\":\"0b830900-d664-4bf9-b9de-74cf3c52b338\",\"type\":\"Line\"},{\"attributes\":{\"line_alpha\":0.1,\"line_color\":\"#1f77b4\",\"x\":{\"field\":\"x\"},\"y\":{\"field\":\"y\"}},\"id\":\"a41c374d-9928-47d7-9f6c-e240b4338a99\",\"type\":\"Line\"},{\"attributes\":{\"data_source\":{\"id\":\"32556a6d-34fe-4f9c-9589-1fba0513adb6\",\"type\":\"ColumnDataSource\"},\"glyph\":{\"id\":\"0b830900-d664-4bf9-b9de-74cf3c52b338\",\"type\":\"Line\"},\"hover_glyph\":null,\"muted_glyph\":null,\"nonselection_glyph\":{\"id\":\"a41c374d-9928-47d7-9f6c-e240b4338a99\",\"type\":\"Line\"},\"selection_glyph\":null,\"view\":{\"id\":\"ae958d67-20c5-46c9-98b9-54b77fa7573b\",\"type\":\"CDSView\"}},\"id\":\"5e351074-a73e-494f-b375-9bfc1b4ee5cd\",\"type\":\"GlyphRenderer\"},{\"attributes\":{\"source\":{\"id\":\"32556a6d-34fe-4f9c-9589-1fba0513adb6\",\"type\":\"ColumnDataSource\"}},\"id\":\"ae958d67-20c5-46c9-98b9-54b77fa7573b\",\"type\":\"CDSView\"},{\"attributes\":{\"callback\":null,\"data\":{\"x\":[0,-0.8270596745376426],\"y\":[0,-0.3982909474965438]},\"selected\":{\"id\":\"f3c8f4b3-6e46-465a-af99-85a59bac37d8\",\"type\":\"Selection\"},\"selection_policy\":{\"id\":\"874c033a-cb12-40e8-b060-e7a67021859e\",\"type\":\"UnionRenderers\"}},\"id\":\"13b79489-17bb-43e6-832e-14491f01f9c1\",\"type\":\"ColumnDataSource\"},{\"attributes\":{\"line_alpha\":0.09263927489519119,\"line_color\":\"green\",\"x\":{\"field\":\"x\"},\"y\":{\"field\":\"y\"}},\"id\":\"9771958b-8520-40b4-b7fe-1772fada5e6a\",\"type\":\"Line\"},{\"attributes\":{\"line_alpha\":0.1,\"line_color\":\"#1f77b4\",\"x\":{\"field\":\"x\"},\"y\":{\"field\":\"y\"}},\"id\":\"b72a7acb-a1da-45f1-9085-c8e3691dbbe1\",\"type\":\"Line\"},{\"attributes\":{\"data_source\":{\"id\":\"b1b7c089-ad21-4198-bffa-0085c7d3f52c\",\"type\":\"ColumnDataSource\"},\"glyph\":{\"id\":\"9771958b-8520-40b4-b7fe-1772fada5e6a\",\"type\":\"Line\"},\"hover_glyph\":null,\"muted_glyph\":null,\"nonselection_glyph\":{\"id\":\"b72a7acb-a1da-45f1-9085-c8e3691dbbe1\",\"type\":\"Line\"},\"selection_glyph\":null,\"view\":{\"id\":\"b27207fe-0a1b-44d9-8d39-805edfd394a2\",\"type\":\"CDSView\"}},\"id\":\"39de06d6-a15c-47b7-8010-2cbe580635fe\",\"type\":\"GlyphRenderer\"},{\"attributes\":{\"source\":{\"id\":\"b1b7c089-ad21-4198-bffa-0085c7d3f52c\",\"type\":\"ColumnDataSource\"}},\"id\":\"b27207fe-0a1b-44d9-8d39-805edfd394a2\",\"type\":\"CDSView\"},{\"attributes\":{\"callback\":null,\"data\":{\"x\":[0,-0.20602493185746776],\"y\":[0,-0.9026542047169204]},\"selected\":{\"id\":\"7b0d3dc3-9327-4a31-82f2-9f3e23f79be8\",\"type\":\"Selection\"},\"selection_policy\":{\"id\":\"a4c2e779-6c64-4b1c-8a22-14f5afe9fbdc\",\"type\":\"UnionRenderers\"}},\"id\":\"3c6b8828-b3b4-47b8-9fd9-4acab1ffecfe\",\"type\":\"ColumnDataSource\"},{\"attributes\":{\"line_alpha\":0.08203301578760147,\"line_color\":\"green\",\"x\":{\"field\":\"x\"},\"y\":{\"field\":\"y\"}},\"id\":\"89369a39-84b1-4051-9ca3-c4664d175619\",\"type\":\"Line\"},{\"attributes\":{\"line_alpha\":0.1,\"line_color\":\"#1f77b4\",\"x\":{\"field\":\"x\"},\"y\":{\"field\":\"y\"}},\"id\":\"8968d3f7-af09-493a-891d-dc23fcdfc2f4\",\"type\":\"Line\"},{\"attributes\":{\"data_source\":{\"id\":\"13b79489-17bb-43e6-832e-14491f01f9c1\",\"type\":\"ColumnDataSource\"},\"glyph\":{\"id\":\"89369a39-84b1-4051-9ca3-c4664d175619\",\"type\":\"Line\"},\"hover_glyph\":null,\"muted_glyph\":null,\"nonselection_glyph\":{\"id\":\"8968d3f7-af09-493a-891d-dc23fcdfc2f4\",\"type\":\"Line\"},\"selection_glyph\":null,\"view\":{\"id\":\"0c19f731-60d3-4d53-b9f4-113034d3dce5\",\"type\":\"CDSView\"}},\"id\":\"66eaceff-de39-4375-80e8-f0c7e93d1b36\",\"type\":\"GlyphRenderer\"},{\"attributes\":{\"source\":{\"id\":\"13b79489-17bb-43e6-832e-14491f01f9c1\",\"type\":\"ColumnDataSource\"}},\"id\":\"0c19f731-60d3-4d53-b9f4-113034d3dce5\",\"type\":\"CDSView\"},{\"attributes\":{\"callback\":null,\"data\":{\"x\":[0,0.6038494430884044],\"y\":[0,-0.7572032515525715]},\"selected\":{\"id\":\"6a486e83-b22e-4eb0-b631-e31ef0a1dbfb\",\"type\":\"Selection\"},\"selection_policy\":{\"id\":\"ad89785e-b4f1-45b1-842f-bcffe071b04f\",\"type\":\"UnionRenderers\"}},\"id\":\"382387d1-cd1c-4f5d-a67d-fbb54a2ddb01\",\"type\":\"ColumnDataSource\"},{\"attributes\":{\"line_alpha\":0.07413236051797867,\"line_color\":\"green\",\"x\":{\"field\":\"x\"},\"y\":{\"field\":\"y\"}},\"id\":\"1e7d4713-3ec2-4587-8d17-c798c1dbfebb\",\"type\":\"Line\"},{\"attributes\":{\"line_alpha\":0.1,\"line_color\":\"#1f77b4\",\"x\":{\"field\":\"x\"},\"y\":{\"field\":\"y\"}},\"id\":\"880e9de0-c7b4-4dda-b5f7-4a145abf18a8\",\"type\":\"Line\"},{\"attributes\":{\"data_source\":{\"id\":\"3c6b8828-b3b4-47b8-9fd9-4acab1ffecfe\",\"type\":\"ColumnDataSource\"},\"glyph\":{\"id\":\"1e7d4713-3ec2-4587-8d17-c798c1dbfebb\",\"type\":\"Line\"},\"hover_glyph\":null,\"muted_glyph\":null,\"nonselection_glyph\":{\"id\":\"880e9de0-c7b4-4dda-b5f7-4a145abf18a8\",\"type\":\"Line\"},\"selection_glyph\":null,\"view\":{\"id\":\"7f37bc87-ec92-404c-8faf-1b80b5dcc32f\",\"type\":\"CDSView\"}},\"id\":\"2b965cd8-2826-4cf4-b7d6-385d219f2e22\",\"type\":\"GlyphRenderer\"},{\"attributes\":{\"source\":{\"id\":\"3c6b8828-b3b4-47b8-9fd9-4acab1ffecfe\",\"type\":\"ColumnDataSource\"}},\"id\":\"7f37bc87-ec92-404c-8faf-1b80b5dcc32f\",\"type\":\"CDSView\"},{\"attributes\":{\"data_source\":{\"id\":\"eff641b3-694e-422b-8bec-4fc2da852c7b\",\"type\":\"ColumnDataSource\"},\"glyph\":{\"id\":\"9e0c8987-71ef-4698-bf23-0ecd3be12cb2\",\"type\":\"Line\"},\"hover_glyph\":null,\"muted_glyph\":null,\"nonselection_glyph\":{\"id\":\"cad3346e-a6ea-45fb-9c8f-3f5ec46aa251\",\"type\":\"Line\"},\"selection_glyph\":null,\"view\":{\"id\":\"74f52bb5-5341-45da-b1a7-2a0aab4c2f35\",\"type\":\"CDSView\"}},\"id\":\"239a5c70-23f2-470d-b64d-f49081f34888\",\"type\":\"GlyphRenderer\"},{\"attributes\":{\"line_alpha\":0.031500689685344696,\"line_color\":\"green\",\"x\":{\"field\":\"x\"},\"y\":{\"field\":\"y\"}},\"id\":\"8beafdaa-f109-4c5a-991b-3ba0b781d807\",\"type\":\"Line\"},{\"attributes\":{\"line_alpha\":0.1,\"line_color\":\"#1f77b4\",\"x\":{\"field\":\"x\"},\"y\":{\"field\":\"y\"}},\"id\":\"06b17ae3-f59e-4ced-9d59-317eee85ce22\",\"type\":\"Line\"},{\"attributes\":{\"data_source\":{\"id\":\"382387d1-cd1c-4f5d-a67d-fbb54a2ddb01\",\"type\":\"ColumnDataSource\"},\"glyph\":{\"id\":\"8beafdaa-f109-4c5a-991b-3ba0b781d807\",\"type\":\"Line\"},\"hover_glyph\":null,\"muted_glyph\":null,\"nonselection_glyph\":{\"id\":\"06b17ae3-f59e-4ced-9d59-317eee85ce22\",\"type\":\"Line\"},\"selection_glyph\":null,\"view\":{\"id\":\"89a91905-76fb-4662-8f2c-b964f9a7e497\",\"type\":\"CDSView\"}},\"id\":\"1dce849b-2e14-43d7-9bb1-b306fab05810\",\"type\":\"GlyphRenderer\"},{\"attributes\":{\"source\":{\"id\":\"382387d1-cd1c-4f5d-a67d-fbb54a2ddb01\",\"type\":\"ColumnDataSource\"}},\"id\":\"89a91905-76fb-4662-8f2c-b964f9a7e497\",\"type\":\"CDSView\"},{\"attributes\":{},\"id\":\"649d3524-eef0-4319-8810-292198823751\",\"type\":\"Selection\"},{\"attributes\":{\"source\":{\"id\":\"67054443-dc58-4afb-b402-f2fea54f88fe\",\"type\":\"ColumnDataSource\"}},\"id\":\"c3b2e630-f906-45bd-a380-ed8a66863717\",\"type\":\"CDSView\"},{\"attributes\":{\"line_alpha\":0.18356411159038544,\"line_color\":\"green\",\"x\":{\"field\":\"x\"},\"y\":{\"field\":\"y\"}},\"id\":\"9e0c8987-71ef-4698-bf23-0ecd3be12cb2\",\"type\":\"Line\"},{\"attributes\":{\"source\":{\"id\":\"8344dd0d-6c7d-4106-bfdc-59ced153f922\",\"type\":\"ColumnDataSource\"}},\"id\":\"3cc9fcbd-7caf-4de6-a37d-3a5bf64a2435\",\"type\":\"CDSView\"},{\"attributes\":{\"active_drag\":\"auto\",\"active_inspect\":\"auto\",\"active_multi\":null,\"active_scroll\":\"auto\",\"active_tap\":\"auto\",\"tools\":[{\"id\":\"9e8afe58-384e-40fb-bc8c-209964519ab0\",\"type\":\"PanTool\"},{\"id\":\"d6dfd481-e59b-457a-954a-bd286a942206\",\"type\":\"WheelZoomTool\"},{\"id\":\"825d54fb-e410-4bc6-8521-c997d0036813\",\"type\":\"BoxZoomTool\"},{\"id\":\"e968c9fe-6ade-4d23-9dc7-79b9c4e3e54a\",\"type\":\"SaveTool\"},{\"id\":\"7f185f56-1cd7-4ae5-ac22-f6fa69316e38\",\"type\":\"ResetTool\"},{\"id\":\"081586fd-3b05-4f53-9be4-a66272819e50\",\"type\":\"HelpTool\"}]},\"id\":\"ecdc8031-0f58-4224-a5f0-9d171a950e59\",\"type\":\"Toolbar\"},{\"attributes\":{},\"id\":\"f702612d-68d9-4b31-9649-c66fb7f93e5f\",\"type\":\"Selection\"},{\"attributes\":{\"callback\":null,\"data\":{\"x\":[0,-0.18527028910695578],\"y\":[0,0.8117221734465121]},\"selected\":{\"id\":\"f702612d-68d9-4b31-9649-c66fb7f93e5f\",\"type\":\"Selection\"},\"selection_policy\":{\"id\":\"b929ee98-d380-408e-bcbf-d4d6d1eb820b\",\"type\":\"UnionRenderers\"}},\"id\":\"32556a6d-34fe-4f9c-9589-1fba0513adb6\",\"type\":\"ColumnDataSource\"},{\"attributes\":{\"callback\":null,\"data\":{\"index\":[0],\"word\":[\"driven\"],\"x\":{\"__ndarray__\":\"AAAAAAAAAAA=\",\"dtype\":\"float64\",\"shape\":[1]},\"y\":{\"__ndarray__\":\"AAAAAAAAAAA=\",\"dtype\":\"float64\",\"shape\":[1]}},\"selected\":{\"id\":\"445d8d34-188d-4f89-845b-52ff16cfe597\",\"type\":\"Selection\"},\"selection_policy\":{\"id\":\"e48260c2-75af-44db-ac32-b4a3bdacef06\",\"type\":\"UnionRenderers\"}},\"id\":\"b0016111-fa57-4d45-b09e-4d7fe37b90ee\",\"type\":\"ColumnDataSource\"},{\"attributes\":{},\"id\":\"bfb0e1d8-4e6a-4d28-91c7-7f1b8b50c956\",\"type\":\"UnionRenderers\"},{\"attributes\":{\"fill_alpha\":{\"value\":0.1},\"fill_color\":{\"value\":\"#1f77b4\"},\"line_alpha\":{\"value\":0.1},\"line_color\":{\"value\":\"#1f77b4\"},\"size\":{\"units\":\"screen\",\"value\":20},\"x\":{\"field\":\"x\"},\"y\":{\"field\":\"y\"}},\"id\":\"c359ac99-42a7-41bc-b81b-1d8e9330a0b4\",\"type\":\"Circle\"},{\"attributes\":{\"callback\":null,\"data\":{\"index\":[0,1,2,3,4,5,6],\"word\":[\"driven\",\"by\",\"lcl\",\"overdeliveri\",\"sobey\",\"build\",\"rotat\"],\"x\":{\"__ndarray__\":\"AAAAAAAAAAAzfewZDUrgP3FCUdTvtse/BxAHqP0o6r+2WL/ZRXfqv52FPmQGX8q/Z7g4EbxS4z8=\",\"dtype\":\"float64\",\"shape\":[7]},\"y\":{\"__ndarray__\":\"AAAAAAAAAACJcQorFG3kP4KBjMeg+ek/ALHQnTMy2T+yl3JQmX3Zv9xkGxKL4uy/Ivs6UAI76L8=\",\"dtype\":\"float64\",\"shape\":[7]}},\"selected\":{\"id\":\"1a7b1f93-0bd3-4aef-b9d1-d397947fb61a\",\"type\":\"Selection\"},\"selection_policy\":{\"id\":\"661a5d0a-1a95-46e7-8aed-7d0d86533298\",\"type\":\"UnionRenderers\"}},\"id\":\"67054443-dc58-4afb-b402-f2fea54f88fe\",\"type\":\"ColumnDataSource\"},{\"attributes\":{\"fill_alpha\":{\"value\":0.9},\"fill_color\":{\"value\":\"#1f77b4\"},\"size\":{\"units\":\"screen\",\"value\":10},\"x\":{\"field\":\"x\"},\"y\":{\"field\":\"y\"}},\"id\":\"c400ace6-781b-40cb-a739-2be32822ace9\",\"type\":\"Circle\"},{\"attributes\":{\"source\":{\"id\":\"b0016111-fa57-4d45-b09e-4d7fe37b90ee\",\"type\":\"ColumnDataSource\"}},\"id\":\"887c0b20-acc7-4f07-b3ab-7d3f75731872\",\"type\":\"CDSView\"},{\"attributes\":{\"callback\":null,\"data\":{\"x\":[0,0.0],\"y\":[0,0.0]},\"selected\":{\"id\":\"649d3524-eef0-4319-8810-292198823751\",\"type\":\"Selection\"},\"selection_policy\":{\"id\":\"2d9bdc8d-e931-44c1-b37a-8efa26ee7bfb\",\"type\":\"UnionRenderers\"}},\"id\":\"8344dd0d-6c7d-4106-bfdc-59ced153f922\",\"type\":\"ColumnDataSource\"},{\"attributes\":{\"data_source\":{\"id\":\"b0016111-fa57-4d45-b09e-4d7fe37b90ee\",\"type\":\"ColumnDataSource\"},\"glyph\":{\"id\":\"b434fa2e-d408-43a6-b247-38f79813a935\",\"type\":\"Circle\"},\"hover_glyph\":null,\"muted_glyph\":null,\"nonselection_glyph\":{\"id\":\"c359ac99-42a7-41bc-b81b-1d8e9330a0b4\",\"type\":\"Circle\"},\"selection_glyph\":null,\"view\":{\"id\":\"887c0b20-acc7-4f07-b3ab-7d3f75731872\",\"type\":\"CDSView\"}},\"id\":\"13a38b34-da41-488b-9bed-ba09831c2b9c\",\"type\":\"GlyphRenderer\"},{\"attributes\":{\"fill_color\":{\"value\":\"red\"},\"line_color\":{\"value\":\"red\"},\"size\":{\"units\":\"screen\",\"value\":20},\"x\":{\"field\":\"x\"},\"y\":{\"field\":\"y\"}},\"id\":\"b434fa2e-d408-43a6-b247-38f79813a935\",\"type\":\"Circle\"},{\"attributes\":{},\"id\":\"3527af2b-6ac6-4913-88d5-973425df8fb7\",\"type\":\"UnionRenderers\"},{\"attributes\":{\"plot\":null,\"text\":\"\"},\"id\":\"58127c03-2c83-4516-a9b9-54019d813ba7\",\"type\":\"Title\"},{\"attributes\":{},\"id\":\"01d679a2-1eaf-43ba-9b6b-39dd0e8d3bfb\",\"type\":\"Selection\"},{\"attributes\":{},\"id\":\"874c033a-cb12-40e8-b060-e7a67021859e\",\"type\":\"UnionRenderers\"},{\"attributes\":{},\"id\":\"79db5b52-60de-42a8-b5e8-45a63eafc40a\",\"type\":\"BasicTickFormatter\"},{\"attributes\":{},\"id\":\"2d9bdc8d-e931-44c1-b37a-8efa26ee7bfb\",\"type\":\"UnionRenderers\"},{\"attributes\":{},\"id\":\"b929ee98-d380-408e-bcbf-d4d6d1eb820b\",\"type\":\"UnionRenderers\"},{\"attributes\":{},\"id\":\"19d91ca7-6b1c-48d6-a167-96adb447f4bb\",\"type\":\"Selection\"},{\"attributes\":{\"callback\":null},\"id\":\"f19a06f5-d66b-4d8c-9d3b-e761c2a9efd9\",\"type\":\"DataRange1d\"},{\"attributes\":{},\"id\":\"f3c8f4b3-6e46-465a-af99-85a59bac37d8\",\"type\":\"Selection\"},{\"attributes\":{\"below\":[{\"id\":\"adb97295-871b-4e1f-b5c4-bce7af1c65b2\",\"type\":\"LinearAxis\"}],\"left\":[{\"id\":\"f2390b64-a7ca-447e-8632-e7c72b85bce3\",\"type\":\"LinearAxis\"}],\"plot_width\":900,\"renderers\":[{\"id\":\"adb97295-871b-4e1f-b5c4-bce7af1c65b2\",\"type\":\"LinearAxis\"},{\"id\":\"e7f48c28-07e4-4630-8d9a-8dbc9c72062e\",\"type\":\"Grid\"},{\"id\":\"f2390b64-a7ca-447e-8632-e7c72b85bce3\",\"type\":\"LinearAxis\"},{\"id\":\"6dac1f76-0d98-4b6d-82df-64f34664752b\",\"type\":\"Grid\"},{\"id\":\"57f81271-dfb9-4537-a77e-54ab17894465\",\"type\":\"BoxAnnotation\"},{\"id\":\"668eeadf-1ebc-47c3-a150-8c68c860a8d8\",\"type\":\"GlyphRenderer\"},{\"id\":\"239a5c70-23f2-470d-b64d-f49081f34888\",\"type\":\"GlyphRenderer\"},{\"id\":\"5e351074-a73e-494f-b375-9bfc1b4ee5cd\",\"type\":\"GlyphRenderer\"},{\"id\":\"39de06d6-a15c-47b7-8010-2cbe580635fe\",\"type\":\"GlyphRenderer\"},{\"id\":\"66eaceff-de39-4375-80e8-f0c7e93d1b36\",\"type\":\"GlyphRenderer\"},{\"id\":\"2b965cd8-2826-4cf4-b7d6-385d219f2e22\",\"type\":\"GlyphRenderer\"},{\"id\":\"1dce849b-2e14-43d7-9bb1-b306fab05810\",\"type\":\"GlyphRenderer\"},{\"id\":\"0ff7f23a-e134-4716-be2c-ba9004c4ff4e\",\"type\":\"GlyphRenderer\"},{\"id\":\"d8efb85d-4f4d-485c-8e40-b28e10699bb2\",\"type\":\"LabelSet\"},{\"id\":\"13a38b34-da41-488b-9bed-ba09831c2b9c\",\"type\":\"GlyphRenderer\"}],\"title\":{\"id\":\"58127c03-2c83-4516-a9b9-54019d813ba7\",\"type\":\"Title\"},\"toolbar\":{\"id\":\"ecdc8031-0f58-4224-a5f0-9d171a950e59\",\"type\":\"Toolbar\"},\"x_range\":{\"id\":\"f19a06f5-d66b-4d8c-9d3b-e761c2a9efd9\",\"type\":\"DataRange1d\"},\"x_scale\":{\"id\":\"e26bd512-c275-4ed2-98c8-9c2af06ae64a\",\"type\":\"LinearScale\"},\"y_range\":{\"id\":\"32c26664-6eac-444d-8815-b83c9a449678\",\"type\":\"DataRange1d\"},\"y_scale\":{\"id\":\"95ae0124-2ffe-483c-8c84-84e52dfabec6\",\"type\":\"LinearScale\"}},\"id\":\"d0dd8f5b-bddc-4852-b73f-262f3c6094b1\",\"subtype\":\"Figure\",\"type\":\"Plot\"},{\"attributes\":{},\"id\":\"a4c2e779-6c64-4b1c-8a22-14f5afe9fbdc\",\"type\":\"UnionRenderers\"},{\"attributes\":{},\"id\":\"7b0d3dc3-9327-4a31-82f2-9f3e23f79be8\",\"type\":\"Selection\"},{\"attributes\":{\"callback\":null},\"id\":\"32c26664-6eac-444d-8815-b83c9a449678\",\"type\":\"DataRange1d\"},{\"attributes\":{},\"id\":\"ad89785e-b4f1-45b1-842f-bcffe071b04f\",\"type\":\"UnionRenderers\"},{\"attributes\":{\"dimension\":1,\"plot\":{\"id\":\"d0dd8f5b-bddc-4852-b73f-262f3c6094b1\",\"subtype\":\"Figure\",\"type\":\"Plot\"},\"ticker\":{\"id\":\"84ef1d9e-a9e2-4677-86cf-b00d4ee59cef\",\"type\":\"BasicTicker\"}},\"id\":\"6dac1f76-0d98-4b6d-82df-64f34664752b\",\"type\":\"Grid\"},{\"attributes\":{},\"id\":\"6a486e83-b22e-4eb0-b631-e31ef0a1dbfb\",\"type\":\"Selection\"},{\"attributes\":{\"plot\":{\"id\":\"d0dd8f5b-bddc-4852-b73f-262f3c6094b1\",\"subtype\":\"Figure\",\"type\":\"Plot\"},\"source\":{\"id\":\"67054443-dc58-4afb-b402-f2fea54f88fe\",\"type\":\"ColumnDataSource\"},\"text\":{\"field\":\"word\"},\"text_color\":{\"value\":\"#555555\"},\"text_font_size\":{\"value\":\"10pt\"},\"x\":{\"field\":\"x\"},\"x_offset\":{\"value\":13},\"y\":{\"field\":\"y\"},\"y_offset\":{\"value\":-6}},\"id\":\"d8efb85d-4f4d-485c-8e40-b28e10699bb2\",\"type\":\"LabelSet\"},{\"attributes\":{},\"id\":\"661a5d0a-1a95-46e7-8aed-7d0d86533298\",\"type\":\"UnionRenderers\"},{\"attributes\":{},\"id\":\"84ef1d9e-a9e2-4677-86cf-b00d4ee59cef\",\"type\":\"BasicTicker\"},{\"attributes\":{},\"id\":\"1a7b1f93-0bd3-4aef-b9d1-d397947fb61a\",\"type\":\"Selection\"},{\"attributes\":{},\"id\":\"e48260c2-75af-44db-ac32-b4a3bdacef06\",\"type\":\"UnionRenderers\"},{\"attributes\":{},\"id\":\"445d8d34-188d-4f89-845b-52ff16cfe597\",\"type\":\"Selection\"},{\"attributes\":{},\"id\":\"95ae0124-2ffe-483c-8c84-84e52dfabec6\",\"type\":\"LinearScale\"},{\"attributes\":{},\"id\":\"e26bd512-c275-4ed2-98c8-9c2af06ae64a\",\"type\":\"LinearScale\"},{\"attributes\":{\"formatter\":{\"id\":\"79db5b52-60de-42a8-b5e8-45a63eafc40a\",\"type\":\"BasicTickFormatter\"},\"plot\":{\"id\":\"d0dd8f5b-bddc-4852-b73f-262f3c6094b1\",\"subtype\":\"Figure\",\"type\":\"Plot\"},\"ticker\":{\"id\":\"368d1a54-9ebd-42ba-80da-5310ee9a882a\",\"type\":\"BasicTicker\"}},\"id\":\"adb97295-871b-4e1f-b5c4-bce7af1c65b2\",\"type\":\"LinearAxis\"},{\"attributes\":{\"plot\":{\"id\":\"d0dd8f5b-bddc-4852-b73f-262f3c6094b1\",\"subtype\":\"Figure\",\"type\":\"Plot\"},\"ticker\":{\"id\":\"368d1a54-9ebd-42ba-80da-5310ee9a882a\",\"type\":\"BasicTicker\"}},\"id\":\"e7f48c28-07e4-4630-8d9a-8dbc9c72062e\",\"type\":\"Grid\"},{\"attributes\":{\"formatter\":{\"id\":\"ba981991-45db-4c23-93e8-8a6b97c299b2\",\"type\":\"BasicTickFormatter\"},\"plot\":{\"id\":\"d0dd8f5b-bddc-4852-b73f-262f3c6094b1\",\"subtype\":\"Figure\",\"type\":\"Plot\"},\"ticker\":{\"id\":\"84ef1d9e-a9e2-4677-86cf-b00d4ee59cef\",\"type\":\"BasicTicker\"}},\"id\":\"f2390b64-a7ca-447e-8632-e7c72b85bce3\",\"type\":\"LinearAxis\"},{\"attributes\":{},\"id\":\"368d1a54-9ebd-42ba-80da-5310ee9a882a\",\"type\":\"BasicTicker\"},{\"attributes\":{\"line_alpha\":0.1,\"line_color\":\"#1f77b4\",\"x\":{\"field\":\"x\"},\"y\":{\"field\":\"y\"}},\"id\":\"cad3346e-a6ea-45fb-9c8f-3f5ec46aa251\",\"type\":\"Line\"},{\"attributes\":{\"data_source\":{\"id\":\"8344dd0d-6c7d-4106-bfdc-59ced153f922\",\"type\":\"ColumnDataSource\"},\"glyph\":{\"id\":\"a6a71a9d-4d15-46dd-90fa-821e181a4d0b\",\"type\":\"Line\"},\"hover_glyph\":null,\"muted_glyph\":null,\"nonselection_glyph\":{\"id\":\"ea1697c5-a271-41e7-b598-b046ea921128\",\"type\":\"Line\"},\"selection_glyph\":null,\"view\":{\"id\":\"3cc9fcbd-7caf-4de6-a37d-3a5bf64a2435\",\"type\":\"CDSView\"}},\"id\":\"668eeadf-1ebc-47c3-a150-8c68c860a8d8\",\"type\":\"GlyphRenderer\"},{\"attributes\":{\"bottom_units\":\"screen\",\"fill_alpha\":{\"value\":0.5},\"fill_color\":{\"value\":\"lightgrey\"},\"left_units\":\"screen\",\"level\":\"overlay\",\"line_alpha\":{\"value\":1.0},\"line_color\":{\"value\":\"black\"},\"line_dash\":[4,4],\"line_width\":{\"value\":2},\"plot\":null,\"render_mode\":\"css\",\"right_units\":\"screen\",\"top_units\":\"screen\"},\"id\":\"57f81271-dfb9-4537-a77e-54ab17894465\",\"type\":\"BoxAnnotation\"},{\"attributes\":{\"fill_alpha\":{\"value\":0.1},\"fill_color\":{\"value\":\"#1f77b4\"},\"line_alpha\":{\"value\":0.1},\"line_color\":{\"value\":\"#1f77b4\"},\"size\":{\"units\":\"screen\",\"value\":10},\"x\":{\"field\":\"x\"},\"y\":{\"field\":\"y\"}},\"id\":\"484253ec-be63-40f7-8870-de9faac917d5\",\"type\":\"Circle\"},{\"attributes\":{\"callback\":null,\"data\":{\"x\":[0,0.5090394502948697],\"y\":[0,0.6383152809753919]},\"selected\":{\"id\":\"01d679a2-1eaf-43ba-9b6b-39dd0e8d3bfb\",\"type\":\"Selection\"},\"selection_policy\":{\"id\":\"3527af2b-6ac6-4913-88d5-973425df8fb7\",\"type\":\"UnionRenderers\"}},\"id\":\"eff641b3-694e-422b-8bec-4fc2da852c7b\",\"type\":\"ColumnDataSource\"},{\"attributes\":{},\"id\":\"9e8afe58-384e-40fb-bc8c-209964519ab0\",\"type\":\"PanTool\"},{\"attributes\":{},\"id\":\"d6dfd481-e59b-457a-954a-bd286a942206\",\"type\":\"WheelZoomTool\"},{\"attributes\":{},\"id\":\"ba981991-45db-4c23-93e8-8a6b97c299b2\",\"type\":\"BasicTickFormatter\"},{\"attributes\":{\"source\":{\"id\":\"eff641b3-694e-422b-8bec-4fc2da852c7b\",\"type\":\"ColumnDataSource\"}},\"id\":\"74f52bb5-5341-45da-b1a7-2a0aab4c2f35\",\"type\":\"CDSView\"},{\"attributes\":{},\"id\":\"e968c9fe-6ade-4d23-9dc7-79b9c4e3e54a\",\"type\":\"SaveTool\"},{\"attributes\":{\"overlay\":{\"id\":\"57f81271-dfb9-4537-a77e-54ab17894465\",\"type\":\"BoxAnnotation\"}},\"id\":\"825d54fb-e410-4bc6-8521-c997d0036813\",\"type\":\"BoxZoomTool\"},{\"attributes\":{},\"id\":\"081586fd-3b05-4f53-9be4-a66272819e50\",\"type\":\"HelpTool\"},{\"attributes\":{\"line_color\":\"green\",\"x\":{\"field\":\"x\"},\"y\":{\"field\":\"y\"}},\"id\":\"a6a71a9d-4d15-46dd-90fa-821e181a4d0b\",\"type\":\"Line\"},{\"attributes\":{},\"id\":\"7f185f56-1cd7-4ae5-ac22-f6fa69316e38\",\"type\":\"ResetTool\"},{\"attributes\":{\"line_alpha\":0.1,\"line_color\":\"#1f77b4\",\"x\":{\"field\":\"x\"},\"y\":{\"field\":\"y\"}},\"id\":\"ea1697c5-a271-41e7-b598-b046ea921128\",\"type\":\"Line\"}],\"root_ids\":[\"d0dd8f5b-bddc-4852-b73f-262f3c6094b1\"]},\"title\":\"Bokeh Application\",\"version\":\"0.13.0\"}};\n",
       "  var render_items = [{\"docid\":\"093f0b09-e068-428c-becc-8bd08ca5e405\",\"notebook_comms_target\":\"4c13ec70-d585-409e-8afe-6ac7da54dafd\",\"roots\":{\"d0dd8f5b-bddc-4852-b73f-262f3c6094b1\":\"f1eb0111-77e0-4df7-b0fc-f608360825bc\"}}];\n",
       "  root.Bokeh.embed.embed_items_notebook(docs_json, render_items);\n",
       "\n",
       "  }\n",
       "  if (root.Bokeh !== undefined) {\n",
       "    embed_document(root);\n",
       "  } else {\n",
       "    var attempts = 0;\n",
       "    var timer = setInterval(function(root) {\n",
       "      if (root.Bokeh !== undefined) {\n",
       "        embed_document(root);\n",
       "        clearInterval(timer);\n",
       "      }\n",
       "      attempts++;\n",
       "      if (attempts > 100) {\n",
       "        console.log(\"Bokeh: ERROR: Unable to run BokehJS code because BokehJS library is missing\")\n",
       "        clearInterval(timer);\n",
       "      }\n",
       "    }, 10, root)\n",
       "  }\n",
       "})(window);"
      ],
      "application/vnd.bokehjs_exec.v0+json": ""
     },
     "metadata": {
      "application/vnd.bokehjs_exec.v0+json": {
       "id": "d0dd8f5b-bddc-4852-b73f-262f3c6094b1"
      }
     },
     "output_type": "display_data"
    }
   ],
   "source": [
    "#plot words similar to a given word\n",
    "from bokeh.io import push_notebook, show, output_notebook\n",
    "from bokeh.plotting import figure\n",
    "from bokeh.models import ColumnDataSource, LabelSet\n",
    "import pandas as pd\n",
    "\n",
    "from scipy import spatial\n",
    "def distance_words(word1,word2):    #between -1 and 1\n",
    "    return(1-spatial.distance.cosine(w2v_model.wv[word1], w2v_model.wv[word2]))\n",
    "\n",
    "def get_distance_words(words, target):\n",
    "    words = words.split()\n",
    "    distances=[]\n",
    "    for word in words:\n",
    "        distance = distance_words(target,word)\n",
    "        distances.append((word,distance))\n",
    "    distances = sorted(distances, key=lambda tup: tup[1], reverse=True)\n",
    "    return(distances)\n",
    "\n",
    "def plot_distance_words_1D(words, highlight_word):\n",
    "    words = words + \" \" + highlight_word\n",
    "    \n",
    "    distances = get_distance_words(words, highlight_word)\n",
    "    words = [word for word,i in distances]\n",
    "    ds = [item[1] for item in distances]\n",
    "    \n",
    "    output_notebook()\n",
    "    df = pd.DataFrame(columns=['x', 'y', 'word'])\n",
    "    \n",
    "    ds = [1-d for d in ds]\n",
    "    angles = [i* 2 * np.math.pi / len(distances) for i in range(len(distances))]\n",
    "    x_values = [d * np.math.cos(angle) for d,angle in zip(ds,angles)]\n",
    "    y_values = [d * np.math.sin(angle) for d,angle in zip(ds,angles)]\n",
    "    x_values[0] = 0\n",
    "    \n",
    "    df['x'], df['y'], df['word'] = x_values, y_values, words\n",
    "\n",
    "    source = ColumnDataSource(ColumnDataSource.from_df(df))\n",
    "    labels = LabelSet(x=\"x\", y=\"y\", text=\"word\",\n",
    "                      text_font_size=\"10pt\", text_color=\"#555555\",\n",
    "                      x_offset=13, y_offset=-6,\n",
    "                      source=source, text_align='left')\n",
    "\n",
    "    plot = figure(plot_width=900, plot_height=600)\n",
    "    alphas = [1-d if d<1 else 0 for d in ds]\n",
    "\n",
    "    for (index, row), alpha in zip(df.iterrows(),alphas):\n",
    "        plot.line([0, row['x']], [0, row['y']], line_width=1, line_color=\"green\", alpha=alpha)\n",
    "        \n",
    "    plot.circle(\"x\", \"y\", size=10, source=source, line_color=\"black\", fill_alpha=0.9)\n",
    "    plot.add_layout(labels)\n",
    "\n",
    "    source1 = ColumnDataSource(ColumnDataSource.from_df(df[df['word']==highlight_word]))\n",
    "    plot.circle(\"x\", \"y\", size=20, source=source1, fill_color='red', line_color=\"red\", fill_alpha=1)    \n",
    "    \n",
    "    show(plot, notebook_handle=True)\n",
    "\n",
    "def plot_close_word_1D(target, topn=10):\n",
    "    words = w2v_model.wv.most_similar(target, topn=topn)\n",
    "    words = [word for word,i in words]\n",
    "    words = ' '.join(words)\n",
    "    plot_distance_words_1D(words, target)\n",
    "    \n",
    "plot_close_word_1D(\"driven\", 20)\n",
    "plot_distance_words_1D(\"lcl sobey rotat by build overdeliveri\", \"driven\")"
   ]
  },
  {
   "cell_type": "code",
   "execution_count": null,
   "metadata": {},
   "outputs": [],
   "source": []
  }
 ],
 "metadata": {
  "kernelspec": {
   "display_name": "Python 3",
   "language": "python",
   "name": "python3"
  },
  "language_info": {
   "codemirror_mode": {
    "name": "ipython",
    "version": 3
   },
   "file_extension": ".py",
   "mimetype": "text/x-python",
   "name": "python",
   "nbconvert_exporter": "python",
   "pygments_lexer": "ipython3",
   "version": "3.6.6"
  }
 },
 "nbformat": 4,
 "nbformat_minor": 2
}
